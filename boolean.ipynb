{
 "cells": [
  {
   "cell_type": "markdown",
   "id": "ca1a2057-44bf-4134-affe-d135d104d6ca",
   "metadata": {},
   "source": [
    "# Number system:\n",
    "\n",
    "> Decimal number system (0,1,2,3,4,5,6,7,8,9)   base 10\n",
    "\n",
    "> Binary number system (0,1)    base 2\n",
    "\n",
    "> Octal number system (0,1,2,3,4,5,6,7)  base 8\n",
    "\n",
    "> Hexdecimal number system (0,1,2,3,4,5,6,7,8,9,a,b,c,d,e,f) base 16"
   ]
  },
  {
   "cell_type": "code",
   "execution_count": 3,
   "id": "4dbabbe9-cebc-4842-b926-76eadcb832a1",
   "metadata": {},
   "outputs": [
    {
     "name": "stdout",
     "output_type": "stream",
     "text": [
      "ὠ3\n"
     ]
    }
   ],
   "source": [
    "print(\"\\u1F603\")"
   ]
  },
  {
   "cell_type": "code",
   "execution_count": 4,
   "id": "628a2804-8050-4334-8dd1-0e11b799bd18",
   "metadata": {},
   "outputs": [
    {
     "name": "stdout",
     "output_type": "stream",
     "text": [
      "♞\n"
     ]
    }
   ],
   "source": [
    "print(\"\\u265E\")"
   ]
  },
  {
   "cell_type": "code",
   "execution_count": null,
   "id": "705f36f3-c6b1-4d76-b842-a0a623c457f1",
   "metadata": {},
   "outputs": [],
   "source": [
    "krishna"
   ]
  },
  {
   "cell_type": "code",
   "execution_count": 5,
   "id": "b56d5a9e-b311-4070-8faa-956fecbb4092",
   "metadata": {},
   "outputs": [
    {
     "data": {
      "text/plain": [
       "107"
      ]
     },
     "execution_count": 5,
     "metadata": {},
     "output_type": "execute_result"
    }
   ],
   "source": [
    "ord(\"k\")"
   ]
  },
  {
   "cell_type": "code",
   "execution_count": 6,
   "id": "14e92dd9-d6aa-41aa-ab9f-fb1e20bd3433",
   "metadata": {},
   "outputs": [
    {
     "data": {
      "text/plain": [
       "'0b1101011'"
      ]
     },
     "execution_count": 6,
     "metadata": {},
     "output_type": "execute_result"
    }
   ],
   "source": [
    "bin(107)"
   ]
  },
  {
   "cell_type": "code",
   "execution_count": 8,
   "id": "c9796fe7-3671-4baa-a18c-9f90bccb7947",
   "metadata": {},
   "outputs": [
    {
     "data": {
      "text/plain": [
       "75"
      ]
     },
     "execution_count": 8,
     "metadata": {},
     "output_type": "execute_result"
    }
   ],
   "source": [
    "ord(\"K\")"
   ]
  },
  {
   "cell_type": "code",
   "execution_count": 9,
   "id": "6b426e1d-b131-4b81-948d-3b7d11c7b9b2",
   "metadata": {},
   "outputs": [
    {
     "data": {
      "text/plain": [
       "'0b1001011'"
      ]
     },
     "execution_count": 9,
     "metadata": {},
     "output_type": "execute_result"
    }
   ],
   "source": [
    "bin(75)"
   ]
  },
  {
   "cell_type": "code",
   "execution_count": 10,
   "id": "e7e86d49-5198-4b2c-9754-0cc239d3d673",
   "metadata": {},
   "outputs": [],
   "source": [
    "a=10"
   ]
  },
  {
   "cell_type": "code",
   "execution_count": 11,
   "id": "429eebed-ed84-4750-b49c-8fd406ffca60",
   "metadata": {},
   "outputs": [
    {
     "data": {
      "text/plain": [
       "'0b1010'"
      ]
     },
     "execution_count": 11,
     "metadata": {},
     "output_type": "execute_result"
    }
   ],
   "source": [
    "bin(a)"
   ]
  },
  {
   "cell_type": "code",
   "execution_count": 12,
   "id": "1d542aa8-c7ed-4bdf-a5eb-4d816b484425",
   "metadata": {},
   "outputs": [
    {
     "data": {
      "text/plain": [
       "'0o12'"
      ]
     },
     "execution_count": 12,
     "metadata": {},
     "output_type": "execute_result"
    }
   ],
   "source": [
    "oct(a)"
   ]
  },
  {
   "cell_type": "code",
   "execution_count": 13,
   "id": "1795fd75-2a38-47b3-9902-1e1f3baee2cf",
   "metadata": {},
   "outputs": [
    {
     "data": {
      "text/plain": [
       "'0xa'"
      ]
     },
     "execution_count": 13,
     "metadata": {},
     "output_type": "execute_result"
    }
   ],
   "source": [
    "hex(a)"
   ]
  },
  {
   "cell_type": "markdown",
   "id": "ae7d3dca-e3c4-493f-b6f7-f7b20b48d06a",
   "metadata": {},
   "source": [
    "# boolean datatype\n",
    "\n",
    "> boolean constructor is bool()\n",
    "\n",
    "> boolean literal is False"
   ]
  },
  {
   "cell_type": "code",
   "execution_count": 14,
   "id": "36a43e6e-1a65-46db-ab55-606249d81938",
   "metadata": {},
   "outputs": [
    {
     "data": {
      "text/plain": [
       "False"
      ]
     },
     "execution_count": 14,
     "metadata": {},
     "output_type": "execute_result"
    }
   ],
   "source": [
    "bool()"
   ]
  },
  {
   "cell_type": "code",
   "execution_count": 15,
   "id": "5a420e38-c594-402b-8fb4-d25682da4f74",
   "metadata": {},
   "outputs": [
    {
     "data": {
      "text/plain": [
       "False"
      ]
     },
     "execution_count": 15,
     "metadata": {},
     "output_type": "execute_result"
    }
   ],
   "source": [
    "bool(False)"
   ]
  },
  {
   "cell_type": "code",
   "execution_count": 16,
   "id": "f01f0039-490d-4cf6-84a4-b8d2d7e16a91",
   "metadata": {},
   "outputs": [
    {
     "data": {
      "text/plain": [
       "False"
      ]
     },
     "execution_count": 16,
     "metadata": {},
     "output_type": "execute_result"
    }
   ],
   "source": [
    "bool(None)"
   ]
  },
  {
   "cell_type": "code",
   "execution_count": 17,
   "id": "907d1fbf-68a3-4a67-baba-c651d3a85cad",
   "metadata": {},
   "outputs": [
    {
     "data": {
      "text/plain": [
       "False"
      ]
     },
     "execution_count": 17,
     "metadata": {},
     "output_type": "execute_result"
    }
   ],
   "source": [
    "bool(int())"
   ]
  },
  {
   "cell_type": "code",
   "execution_count": 18,
   "id": "c704d862-7227-422c-a730-7408f28dfc47",
   "metadata": {},
   "outputs": [
    {
     "data": {
      "text/plain": [
       "False"
      ]
     },
     "execution_count": 18,
     "metadata": {},
     "output_type": "execute_result"
    }
   ],
   "source": [
    "bool(0)"
   ]
  },
  {
   "cell_type": "code",
   "execution_count": 19,
   "id": "68c47f85-fc7b-4637-bda4-5f0a323cd66a",
   "metadata": {},
   "outputs": [
    {
     "data": {
      "text/plain": [
       "False"
      ]
     },
     "execution_count": 19,
     "metadata": {},
     "output_type": "execute_result"
    }
   ],
   "source": [
    "bool(float())"
   ]
  },
  {
   "cell_type": "code",
   "execution_count": 20,
   "id": "78880153-bd07-45b4-ad07-3e83bae24b95",
   "metadata": {},
   "outputs": [
    {
     "data": {
      "text/plain": [
       "False"
      ]
     },
     "execution_count": 20,
     "metadata": {},
     "output_type": "execute_result"
    }
   ],
   "source": [
    "bool(0.0)"
   ]
  },
  {
   "cell_type": "code",
   "execution_count": 21,
   "id": "410c9c01-1aa3-4586-9809-7d3e915bff0c",
   "metadata": {},
   "outputs": [
    {
     "data": {
      "text/plain": [
       "False"
      ]
     },
     "execution_count": 21,
     "metadata": {},
     "output_type": "execute_result"
    }
   ],
   "source": [
    "bool(str())"
   ]
  },
  {
   "cell_type": "code",
   "execution_count": 24,
   "id": "bc9a910b-cb5a-4dbc-962f-f230fbdec406",
   "metadata": {},
   "outputs": [
    {
     "data": {
      "text/plain": [
       "False"
      ]
     },
     "execution_count": 24,
     "metadata": {},
     "output_type": "execute_result"
    }
   ],
   "source": [
    "bool('')"
   ]
  },
  {
   "cell_type": "code",
   "execution_count": 25,
   "id": "e2ab2c92-1fb4-4e42-a374-54ba54ee0b46",
   "metadata": {},
   "outputs": [
    {
     "data": {
      "text/plain": [
       "False"
      ]
     },
     "execution_count": 25,
     "metadata": {},
     "output_type": "execute_result"
    }
   ],
   "source": [
    "bool(\"\")"
   ]
  },
  {
   "cell_type": "code",
   "execution_count": 26,
   "id": "a9f82424-d2a5-44ec-a5f7-d5fd33d942f5",
   "metadata": {},
   "outputs": [
    {
     "data": {
      "text/plain": [
       "False"
      ]
     },
     "execution_count": 26,
     "metadata": {},
     "output_type": "execute_result"
    }
   ],
   "source": [
    "bool(\"\"\"\"\"\")"
   ]
  },
  {
   "cell_type": "code",
   "execution_count": 27,
   "id": "8dfd6cb4-55bb-4130-aeee-2112dd03bf2e",
   "metadata": {},
   "outputs": [
    {
     "data": {
      "text/plain": [
       "False"
      ]
     },
     "execution_count": 27,
     "metadata": {},
     "output_type": "execute_result"
    }
   ],
   "source": [
    "bool('''''')"
   ]
  },
  {
   "cell_type": "code",
   "execution_count": 28,
   "id": "aa351159-faf6-4352-a524-f162b6898dcf",
   "metadata": {},
   "outputs": [
    {
     "data": {
      "text/plain": [
       "False"
      ]
     },
     "execution_count": 28,
     "metadata": {},
     "output_type": "execute_result"
    }
   ],
   "source": [
    "bool(list())"
   ]
  },
  {
   "cell_type": "code",
   "execution_count": 30,
   "id": "0fa156bf-acdb-4b05-b02f-668aa259bdfc",
   "metadata": {},
   "outputs": [
    {
     "data": {
      "text/plain": [
       "False"
      ]
     },
     "execution_count": 30,
     "metadata": {},
     "output_type": "execute_result"
    }
   ],
   "source": [
    "bool([])"
   ]
  },
  {
   "cell_type": "code",
   "execution_count": 31,
   "id": "ca58732e-9f67-4d44-a76d-1f0744c14754",
   "metadata": {},
   "outputs": [
    {
     "data": {
      "text/plain": [
       "False"
      ]
     },
     "execution_count": 31,
     "metadata": {},
     "output_type": "execute_result"
    }
   ],
   "source": [
    "bool(tuple())"
   ]
  },
  {
   "cell_type": "code",
   "execution_count": 32,
   "id": "b1871308-17e0-467c-a1cd-b19602dba4a2",
   "metadata": {},
   "outputs": [
    {
     "data": {
      "text/plain": [
       "False"
      ]
     },
     "execution_count": 32,
     "metadata": {},
     "output_type": "execute_result"
    }
   ],
   "source": [
    "bool(())"
   ]
  },
  {
   "cell_type": "code",
   "execution_count": 33,
   "id": "c03021a9-131e-4f5c-8d8f-535bfa2a69d9",
   "metadata": {},
   "outputs": [
    {
     "data": {
      "text/plain": [
       "False"
      ]
     },
     "execution_count": 33,
     "metadata": {},
     "output_type": "execute_result"
    }
   ],
   "source": [
    "bool(set())"
   ]
  },
  {
   "cell_type": "code",
   "execution_count": 34,
   "id": "1fc42ac1-247a-49af-8547-09e7e7de6076",
   "metadata": {},
   "outputs": [
    {
     "data": {
      "text/plain": [
       "False"
      ]
     },
     "execution_count": 34,
     "metadata": {},
     "output_type": "execute_result"
    }
   ],
   "source": [
    "bool(frozenset())"
   ]
  },
  {
   "cell_type": "code",
   "execution_count": 35,
   "id": "a238d292-6a3b-4758-903f-6289cfe9fdca",
   "metadata": {},
   "outputs": [
    {
     "data": {
      "text/plain": [
       "False"
      ]
     },
     "execution_count": 35,
     "metadata": {},
     "output_type": "execute_result"
    }
   ],
   "source": [
    "bool(dict())"
   ]
  },
  {
   "cell_type": "code",
   "execution_count": 36,
   "id": "4d686e8c-282c-4520-8578-19c7a6932c05",
   "metadata": {},
   "outputs": [
    {
     "data": {
      "text/plain": [
       "False"
      ]
     },
     "execution_count": 36,
     "metadata": {},
     "output_type": "execute_result"
    }
   ],
   "source": [
    "bool({      })"
   ]
  },
  {
   "cell_type": "code",
   "execution_count": 37,
   "id": "1a3ab868-f259-48f4-8769-21e49fc408c1",
   "metadata": {},
   "outputs": [
    {
     "data": {
      "text/plain": [
       "False"
      ]
     },
     "execution_count": 37,
     "metadata": {},
     "output_type": "execute_result"
    }
   ],
   "source": [
    "bool(complex())"
   ]
  },
  {
   "cell_type": "code",
   "execution_count": 38,
   "id": "43737897-fc83-4f87-a23f-232ffa5c1ad1",
   "metadata": {},
   "outputs": [
    {
     "data": {
      "text/plain": [
       "False"
      ]
     },
     "execution_count": 38,
     "metadata": {},
     "output_type": "execute_result"
    }
   ],
   "source": [
    "bool(0j)"
   ]
  },
  {
   "cell_type": "code",
   "execution_count": 39,
   "id": "34523c99-dbf8-4226-9c5d-65226f70d650",
   "metadata": {},
   "outputs": [
    {
     "data": {
      "text/plain": [
       "False"
      ]
     },
     "execution_count": 39,
     "metadata": {},
     "output_type": "execute_result"
    }
   ],
   "source": [
    "bool(0.0j)"
   ]
  },
  {
   "cell_type": "code",
   "execution_count": 40,
   "id": "7569a59e-57dc-42a9-8c89-839d0801f000",
   "metadata": {},
   "outputs": [
    {
     "data": {
      "text/plain": [
       "False"
      ]
     },
     "execution_count": 40,
     "metadata": {},
     "output_type": "execute_result"
    }
   ],
   "source": [
    "bool(bool())"
   ]
  },
  {
   "cell_type": "code",
   "execution_count": 41,
   "id": "0fc802a5-1333-4cd3-a5d5-84b081a7b239",
   "metadata": {},
   "outputs": [
    {
     "data": {
      "text/plain": [
       "False"
      ]
     },
     "execution_count": 41,
     "metadata": {},
     "output_type": "execute_result"
    }
   ],
   "source": [
    "bool(False)"
   ]
  },
  {
   "cell_type": "code",
   "execution_count": 42,
   "id": "806823db-9ca1-4697-82c3-7540ee4fda44",
   "metadata": {},
   "outputs": [
    {
     "ename": "TypeError",
     "evalue": "unhashable type: 'list'",
     "output_type": "error",
     "traceback": [
      "\u001b[1;31m---------------------------------------------------------------------------\u001b[0m",
      "\u001b[1;31mTypeError\u001b[0m                                 Traceback (most recent call last)",
      "Cell \u001b[1;32mIn[42], line 1\u001b[0m\n\u001b[1;32m----> 1\u001b[0m {([],)}\n",
      "\u001b[1;31mTypeError\u001b[0m: unhashable type: 'list'"
     ]
    }
   ],
   "source": [
    "{([],)}"
   ]
  },
  {
   "cell_type": "code",
   "execution_count": 43,
   "id": "546ff344-a4af-4074-ae86-2dba89423609",
   "metadata": {},
   "outputs": [
    {
     "data": {
      "text/plain": [
       "True"
      ]
     },
     "execution_count": 43,
     "metadata": {},
     "output_type": "execute_result"
    }
   ],
   "source": [
    "bool([{}])"
   ]
  },
  {
   "cell_type": "code",
   "execution_count": null,
   "id": "d5954022-5b15-432e-a58b-7cd0c49ffc12",
   "metadata": {},
   "outputs": [],
   "source": [
    " n "
   ]
  }
 ],
 "metadata": {
  "kernelspec": {
   "display_name": "Python 3 (ipykernel)",
   "language": "python",
   "name": "python3"
  },
  "language_info": {
   "codemirror_mode": {
    "name": "ipython",
    "version": 3
   },
   "file_extension": ".py",
   "mimetype": "text/x-python",
   "name": "python",
   "nbconvert_exporter": "python",
   "pygments_lexer": "ipython3",
   "version": "3.11.5"
  }
 },
 "nbformat": 4,
 "nbformat_minor": 5
}
