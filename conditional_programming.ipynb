{
 "cells": [
  {
   "cell_type": "code",
   "execution_count": 4,
   "id": "97c5206b-e98a-4f8c-a0e5-b3a80660dde9",
   "metadata": {},
   "outputs": [
    {
     "ename": "IndentationError",
     "evalue": "expected an indented block after 'if' statement on line 3 (351569405.py, line 4)",
     "output_type": "error",
     "traceback": [
      "\u001b[1;36m  Cell \u001b[1;32mIn[4], line 4\u001b[1;36m\u001b[0m\n\u001b[1;33m    print(\"I am going to shimla\")\u001b[0m\n\u001b[1;37m    ^\u001b[0m\n\u001b[1;31mIndentationError\u001b[0m\u001b[1;31m:\u001b[0m expected an indented block after 'if' statement on line 3\n"
     ]
    }
   ],
   "source": [
    "Conditional programming:\n",
    "\n",
    "if else"
   ]
  },
  {
   "cell_type": "code",
   "execution_count": 8,
   "id": "6319b42d-745f-456a-870a-1e39b2c44502",
   "metadata": {},
   "outputs": [
    {
     "name": "stdin",
     "output_type": "stream",
     "text": [
      "choose a path :  shimala\n"
     ]
    },
    {
     "name": "stdout",
     "output_type": "stream",
     "text": [
      "I am going to hell\n",
      "Hello\n"
     ]
    }
   ],
   "source": [
    "mind=\"Shimala\"\n",
    "user=input(\"choose a path : \")\n",
    "\n",
    "if user==mind:\n",
    "    print(\"I am going to shimla\")\n",
    "    \n",
    "print(\"Hello\")\n",
    "    "
   ]
  },
  {
   "cell_type": "markdown",
   "id": "a3e5a9b3-d319-431b-8661-b6f155e70861",
   "metadata": {},
   "source": [
    "# Indentation"
   ]
  },
  {
   "cell_type": "code",
   "execution_count": 3,
   "id": "032f82a9-0245-49bf-8371-2bd284bcf1a6",
   "metadata": {},
   "outputs": [
    {
     "name": "stdout",
     "output_type": "stream",
     "text": [
      "hello world\n",
      "hello world\n",
      "hello world\n",
      "hello world\n",
      "hello world\n"
     ]
    }
   ],
   "source": [
    "print(\"hello world\")\n",
    "print(\"hello world\")\n",
    "print(\"hello world\")\n",
    "print(\"hello world\")\n",
    "print(\"hello world\")"
   ]
  },
  {
   "cell_type": "code",
   "execution_count": 7,
   "id": "33db20c1-f232-48b9-adae-aa26ef6cf300",
   "metadata": {},
   "outputs": [
    {
     "data": {
      "text/plain": [
       "False"
      ]
     },
     "execution_count": 7,
     "metadata": {},
     "output_type": "execute_result"
    }
   ],
   "source": [
    "\"Shimala\"==\"shimala\""
   ]
  },
  {
   "cell_type": "code",
   "execution_count": 9,
   "id": "43b39a68-49da-4858-9d98-11352d385b43",
   "metadata": {},
   "outputs": [
    {
     "name": "stdin",
     "output_type": "stream",
     "text": [
      "choose a path :  Shimala\n"
     ]
    },
    {
     "name": "stdout",
     "output_type": "stream",
     "text": [
      "I am going to shimla\n",
      "Hello\n"
     ]
    }
   ],
   "source": [
    "mind=\"Shimala\"\n",
    "user=input(\"choose a path : \")\n",
    "\n",
    "if user==mind:\n",
    "    print(\"I am going to shimla\")\n",
    "\n",
    "print(\"Hello\")"
   ]
  },
  {
   "cell_type": "code",
   "execution_count": 10,
   "id": "ae4af71f-4d2e-4870-8ca2-0f802d060231",
   "metadata": {},
   "outputs": [
    {
     "name": "stdin",
     "output_type": "stream",
     "text": [
      "choose a path :  dfhsjfhsodjafn\n"
     ]
    },
    {
     "name": "stdout",
     "output_type": "stream",
     "text": [
      "I am going to hell\n",
      "Hello\n"
     ]
    }
   ],
   "source": [
    "mind=\"Shimala\"\n",
    "user=input(\"choose a path : \")\n",
    "\n",
    "if user==mind:\n",
    "    print(\"I am going to shimla\")\n",
    "else:\n",
    "    print(\"I am going to hell\")\n",
    "print(\"Hello\")\n"
   ]
  },
  {
   "cell_type": "code",
   "execution_count": 11,
   "id": "8ba49d64-629b-4f33-8971-f313e90a40ba",
   "metadata": {},
   "outputs": [
    {
     "name": "stdin",
     "output_type": "stream",
     "text": [
      "choose a path :  dfjskdfj\n"
     ]
    },
    {
     "name": "stdout",
     "output_type": "stream",
     "text": [
      "I am going to hell\n",
      "Hello\n"
     ]
    }
   ],
   "source": [
    "mind=\"Shimala\"\n",
    "user=input(\"choose a path : \")\n",
    "\n",
    "if user==mind:\n",
    "    print(\"I am going to shimla\")\n",
    "else:\n",
    "    print(\"I am going to hell\")\n",
    "    print(\"Hello\")"
   ]
  },
  {
   "cell_type": "code",
   "execution_count": 12,
   "id": "0af863f1-6868-4593-a93a-9dffb0e850f3",
   "metadata": {},
   "outputs": [
    {
     "name": "stdin",
     "output_type": "stream",
     "text": [
      "choose a path :  Shimala\n"
     ]
    },
    {
     "name": "stdout",
     "output_type": "stream",
     "text": [
      "I am going to shimla\n"
     ]
    }
   ],
   "source": [
    "mind=\"Shimala\"\n",
    "user=input(\"choose a path : \")\n",
    "\n",
    "if user==mind:\n",
    "    print(\"I am going to shimla\")\n",
    "else:\n",
    "    print(\"I am going to hell\")\n",
    "    print(\"Hello\")"
   ]
  },
  {
   "cell_type": "code",
   "execution_count": 14,
   "id": "7f840a78-7974-465c-afcd-025065217ef4",
   "metadata": {},
   "outputs": [
    {
     "name": "stdin",
     "output_type": "stream",
     "text": [
      "choose a path :  jsdfosdf\n"
     ]
    }
   ],
   "source": [
    "mind=\"Shimala\"\n",
    "user=input(\"choose a path : \")\n",
    "\n",
    "if user==mind:\n",
    "    print(\"I am going to shimla\")\n",
    "\n",
    "\n",
    "    "
   ]
  },
  {
   "cell_type": "code",
   "execution_count": 15,
   "id": "0285c91b-ccc3-4d6d-84bf-52e7bcb63560",
   "metadata": {},
   "outputs": [
    {
     "name": "stdin",
     "output_type": "stream",
     "text": [
      "choose a path :  Shimala\n"
     ]
    },
    {
     "name": "stdout",
     "output_type": "stream",
     "text": [
      "I am going to shimla\n"
     ]
    }
   ],
   "source": [
    "mind=\"Shimala\"\n",
    "user=input(\"choose a path : \")\n",
    "\n",
    "if user==mind:\n",
    "    print(\"I am going to shimla\")\n",
    "\n"
   ]
  },
  {
   "cell_type": "code",
   "execution_count": 16,
   "id": "f210000e-26a9-4bb1-a661-7b3f0f78450d",
   "metadata": {},
   "outputs": [
    {
     "name": "stdin",
     "output_type": "stream",
     "text": [
      "Enter your 1st number: 10\n",
      "Enter your 2nd number: 20.36\n",
      "Kindly choose one symbole +,- : +\n"
     ]
    },
    {
     "name": "stdout",
     "output_type": "stream",
     "text": [
      "30.36\n"
     ]
    }
   ],
   "source": [
    "num1=eval(input(\"Enter your 1st number:\"))\n",
    "num2=eval(input(\"Enter your 2nd number:\"))\n",
    "operation= input(\"Kindly choose one symbole +,- :\")\n",
    "if operation==\"+\":\n",
    "    print(num1+num2)"
   ]
  },
  {
   "cell_type": "code",
   "execution_count": 17,
   "id": "de62eb58-4156-4e4b-af77-715e441919de",
   "metadata": {},
   "outputs": [
    {
     "name": "stdin",
     "output_type": "stream",
     "text": [
      "Enter your 1st number: 10.25\n",
      "Enter your 2nd number: 10\n",
      "Kindly choose one symbole +,- : -\n"
     ]
    }
   ],
   "source": [
    "num1=eval(input(\"Enter your 1st number:\"))\n",
    "num2=eval(input(\"Enter your 2nd number:\"))\n",
    "operation= input(\"Kindly choose one symbole +,- :\")\n",
    "if operation==\"+\":\n",
    "    print(num1+num2)"
   ]
  },
  {
   "cell_type": "code",
   "execution_count": 18,
   "id": "4f083370-3823-40a3-91f1-2c854d830f55",
   "metadata": {},
   "outputs": [
    {
     "name": "stdin",
     "output_type": "stream",
     "text": [
      "Enter your 1st number: 10\n",
      "Enter your 2nd number: 20\n",
      "Kindly choose one symbole +,- : -\n"
     ]
    },
    {
     "name": "stdout",
     "output_type": "stream",
     "text": [
      "-10\n"
     ]
    }
   ],
   "source": [
    "num1=eval(input(\"Enter your 1st number:\"))\n",
    "num2=eval(input(\"Enter your 2nd number:\"))\n",
    "operation= input(\"Kindly choose one symbole +,- :\")\n",
    "if operation==\"+\":\n",
    "    print(num1+num2)\n",
    "else:\n",
    "    print(num1-num2)"
   ]
  },
  {
   "cell_type": "code",
   "execution_count": 19,
   "id": "52cc7ad1-126b-49a4-944e-96a40c537f2e",
   "metadata": {},
   "outputs": [
    {
     "name": "stdin",
     "output_type": "stream",
     "text": [
      "Enter your 1st number: 10\n",
      "Enter your 2nd number: 20\n",
      "Kindly choose one symbole +,- : +\n"
     ]
    },
    {
     "name": "stdout",
     "output_type": "stream",
     "text": [
      "30\n"
     ]
    }
   ],
   "source": [
    "num1=eval(input(\"Enter your 1st number:\"))\n",
    "num2=eval(input(\"Enter your 2nd number:\"))\n",
    "operation= input(\"Kindly choose one symbole +,- :\")\n",
    "if operation==\"+\":\n",
    "    print(num1+num2)\n",
    "else:\n",
    "    print(num1-num2)"
   ]
  },
  {
   "cell_type": "code",
   "execution_count": 20,
   "id": "3d0fb790-a7a4-438a-907a-0765d3fba110",
   "metadata": {},
   "outputs": [
    {
     "name": "stdin",
     "output_type": "stream",
     "text": [
      "Enter your 1st number: -5\n",
      "Enter your 2nd number: -3\n",
      "Kindly choose one symbole +,- : +\n"
     ]
    },
    {
     "name": "stdout",
     "output_type": "stream",
     "text": [
      "-8\n"
     ]
    }
   ],
   "source": [
    "num1=eval(input(\"Enter your 1st number:\"))\n",
    "num2=eval(input(\"Enter your 2nd number:\"))\n",
    "operation= input(\"Kindly choose one symbole +,- :\")\n",
    "if operation==\"+\":\n",
    "    print(num1+num2)\n",
    "else:\n",
    "    print(num1-num2)"
   ]
  },
  {
   "cell_type": "code",
   "execution_count": 21,
   "id": "e2e3268a-1b8c-4f42-bb2b-6a580c1c5c36",
   "metadata": {},
   "outputs": [
    {
     "name": "stdin",
     "output_type": "stream",
     "text": [
      "Enter your 1st number: 10\n",
      "Enter your 2nd number: 20\n",
      "Kindly choose one symbole +,- : dfgasgakoiuhfd\n"
     ]
    },
    {
     "name": "stdout",
     "output_type": "stream",
     "text": [
      "-10\n"
     ]
    }
   ],
   "source": [
    "num1=eval(input(\"Enter your 1st number:\"))\n",
    "num2=eval(input(\"Enter your 2nd number:\"))\n",
    "operation= input(\"Kindly choose one symbole +,- :\")\n",
    "if operation==\"+\":\n",
    "    print(num1+num2)\n",
    "else:\n",
    "    print(num1-num2)"
   ]
  },
  {
   "cell_type": "code",
   "execution_count": 22,
   "id": "39dee474-c074-44d6-804c-996b96beacde",
   "metadata": {},
   "outputs": [
    {
     "name": "stdin",
     "output_type": "stream",
     "text": [
      "Enter your 1st number: krishna10\n"
     ]
    },
    {
     "ename": "NameError",
     "evalue": "name 'krishna10' is not defined",
     "output_type": "error",
     "traceback": [
      "\u001b[1;31m---------------------------------------------------------------------------\u001b[0m",
      "\u001b[1;31mNameError\u001b[0m                                 Traceback (most recent call last)",
      "Cell \u001b[1;32mIn[22], line 1\u001b[0m\n\u001b[1;32m----> 1\u001b[0m num1\u001b[38;5;241m=\u001b[39m\u001b[38;5;28;43meval\u001b[39;49m\u001b[43m(\u001b[49m\u001b[38;5;28;43minput\u001b[39;49m\u001b[43m(\u001b[49m\u001b[38;5;124;43m\"\u001b[39;49m\u001b[38;5;124;43mEnter your 1st number:\u001b[39;49m\u001b[38;5;124;43m\"\u001b[39;49m\u001b[43m)\u001b[49m\u001b[43m)\u001b[49m\n\u001b[0;32m      2\u001b[0m num2\u001b[38;5;241m=\u001b[39m\u001b[38;5;28meval\u001b[39m(\u001b[38;5;28minput\u001b[39m(\u001b[38;5;124m\"\u001b[39m\u001b[38;5;124mEnter your 2nd number:\u001b[39m\u001b[38;5;124m\"\u001b[39m))\n\u001b[0;32m      3\u001b[0m operation\u001b[38;5;241m=\u001b[39m \u001b[38;5;28minput\u001b[39m(\u001b[38;5;124m\"\u001b[39m\u001b[38;5;124mKindly choose one symbole +,- :\u001b[39m\u001b[38;5;124m\"\u001b[39m)\n",
      "File \u001b[1;32m<string>:1\u001b[0m\n",
      "\u001b[1;31mNameError\u001b[0m: name 'krishna10' is not defined"
     ]
    }
   ],
   "source": [
    "num1=eval(input(\"Enter your 1st number:\"))\n",
    "num2=eval(input(\"Enter your 2nd number:\"))\n",
    "operation= input(\"Kindly choose one symbole +,- :\")\n",
    "if operation==\"+\":\n",
    "    print(num1+num2)\n",
    "else:\n",
    "    print(num1-num2)"
   ]
  },
  {
   "cell_type": "code",
   "execution_count": 23,
   "id": "1e3b3bcf-607d-4c5b-a004-70091c9f8a5d",
   "metadata": {},
   "outputs": [
    {
     "name": "stdin",
     "output_type": "stream",
     "text": [
      "Enter your 1st number: \n"
     ]
    },
    {
     "ename": "SyntaxError",
     "evalue": "invalid syntax (<string>, line 0)",
     "output_type": "error",
     "traceback": [
      "Traceback \u001b[1;36m(most recent call last)\u001b[0m:\n",
      "\u001b[0m  File \u001b[0;32m~\\AppData\\Local\\Programs\\Python\\Python311\\Lib\\site-packages\\IPython\\core\\interactiveshell.py:3508\u001b[0m in \u001b[0;35mrun_code\u001b[0m\n    exec(code_obj, self.user_global_ns, self.user_ns)\u001b[0m\n",
      "\u001b[1;36m  Cell \u001b[1;32mIn[23], line 1\u001b[1;36m\n\u001b[1;33m    num1=eval(input(\"Enter your 1st number:\"))\u001b[1;36m\n",
      "\u001b[1;36m  File \u001b[1;32m<string>\u001b[1;36m\u001b[0m\n\u001b[1;33m    \u001b[0m\n\u001b[1;37m    ^\u001b[0m\n\u001b[1;31mSyntaxError\u001b[0m\u001b[1;31m:\u001b[0m invalid syntax\n"
     ]
    }
   ],
   "source": [
    "num1=eval(input(\"Enter your 1st number:\"))\n",
    "num2=eval(input(\"Enter your 2nd number:\"))\n",
    "operation= input(\"Kindly choose one symbole +,- :\")\n",
    "if operation==\"+\":\n",
    "    print(num1+num2)\n",
    "else:\n",
    "    print(num1-num2)"
   ]
  },
  {
   "cell_type": "markdown",
   "id": "5c2875a6-7832-4425-8c66-e16d8d7fbc2d",
   "metadata": {},
   "source": [
    "# nested if else"
   ]
  },
  {
   "cell_type": "code",
   "execution_count": 4,
   "id": "553a25d3-e4e6-447e-b41f-17c4e20e71c7",
   "metadata": {},
   "outputs": [
    {
     "name": "stdin",
     "output_type": "stream",
     "text": [
      "Enter a number: -3\n"
     ]
    },
    {
     "name": "stdout",
     "output_type": "stream",
     "text": [
      "Number is negative\n",
      "odd\n"
     ]
    }
   ],
   "source": [
    "user=eval(input(\"Enter a number:\"))\n",
    "if user>=0:\n",
    "    print(\"Number is positive\")\n",
    "    if user%2==0:\n",
    "        print(\"even\")\n",
    "    else:\n",
    "        print(\"odd\")\n",
    "else:\n",
    "    print(\"Number is negative\")\n",
    "    if user%2==0:\n",
    "        print(\"even\")\n",
    "    else:\n",
    "        print(\"odd\")"
   ]
  },
  {
   "cell_type": "code",
   "execution_count": null,
   "id": "e497687b-cd23-4605-87cf-f16a17cb4ecc",
   "metadata": {},
   "outputs": [],
   "source": [
    "user=eval(input(\"Enter a number:\"))\n",
    "if user>=0:\n",
    "    print(\"Number is positive\")\n",
    "    if user%2==0:\n",
    "        print(\"even\")\n",
    "    else:\n",
    "        print(\"odd\")\n",
    "else:\n",
    "    print(\"Number is negative\")\n",
    "    if user%2==0:\n",
    "        print(\"even\")\n",
    "    else:\n",
    "        print(\"odd\")"
   ]
  },
  {
   "cell_type": "markdown",
   "id": "b1219423-cef9-46f0-9b7b-a3d5abc50846",
   "metadata": {},
   "source": [
    "# ternary operator"
   ]
  },
  {
   "cell_type": "code",
   "execution_count": 5,
   "id": "80fa4fc4-3603-4091-a545-3b42173fc0bb",
   "metadata": {},
   "outputs": [
    {
     "name": "stdin",
     "output_type": "stream",
     "text": [
      "Enter your 1st number: 10\n",
      "Enter your 2nd number: 20\n",
      "Kindly choose one symbole +,- : +\n"
     ]
    },
    {
     "name": "stdout",
     "output_type": "stream",
     "text": [
      "30\n"
     ]
    }
   ],
   "source": [
    "num1=eval(input(\"Enter your 1st number:\"))\n",
    "num2=eval(input(\"Enter your 2nd number:\"))\n",
    "operation= input(\"Kindly choose one symbole +,- :\")\n",
    "if operation==\"+\":\n",
    "    print(num1+num2)\n",
    "else:\n",
    "    print(num1-num2)"
   ]
  },
  {
   "cell_type": "code",
   "execution_count": 6,
   "id": "e21a6ec1-5a28-4c6b-a133-d5fa7919f31b",
   "metadata": {},
   "outputs": [
    {
     "name": "stdin",
     "output_type": "stream",
     "text": [
      "Enter your 1st number: 10\n",
      "Enter your 2nd number: 20\n",
      "Kindly choose one symbole +,- : +\n"
     ]
    },
    {
     "name": "stdout",
     "output_type": "stream",
     "text": [
      "30\n"
     ]
    }
   ],
   "source": [
    "num1=eval(input(\"Enter your 1st number:\"))\n",
    "num2=eval(input(\"Enter your 2nd number:\"))\n",
    "operation= input(\"Kindly choose one symbole +,- :\")\n",
    "print(num1+num2) if operation==\"+\" else print(num1-num2)"
   ]
  },
  {
   "cell_type": "markdown",
   "id": "6489e098-68e8-4407-bfd2-f9d5b443b95b",
   "metadata": {},
   "source": [
    "# conversion of nested if else in ternary operator "
   ]
  },
  {
   "cell_type": "code",
   "execution_count": null,
   "id": "8ab3d4fe-a37c-4de7-9e65-e6b7daa8b1af",
   "metadata": {},
   "outputs": [],
   "source": [
    "user=eval(input(\"Enter a number:\"))\n",
    "if user>=0:\n",
    "    if user%2==0:\n",
    "        print(\"positive\",\"even\")\n",
    "    else:\n",
    "        print(\"positive\",\"odd\")\n",
    "else:\n",
    "    if user%2==0:\n",
    "        print(\"negative\",\"even\")\n",
    "    else:\n",
    "        print(\"negative\",\"odd\")"
   ]
  },
  {
   "cell_type": "code",
   "execution_count": 10,
   "id": "58dde5e7-dc17-459f-93d4-52aa2811c263",
   "metadata": {},
   "outputs": [
    {
     "name": "stdin",
     "output_type": "stream",
     "text": [
      "Enter a number: -3\n"
     ]
    },
    {
     "name": "stdout",
     "output_type": "stream",
     "text": [
      "negative odd\n"
     ]
    }
   ],
   "source": [
    "user=eval(input(\"Enter a number:\"))\n",
    "(print(\"positive\",\"even\") if user%2==0 else print(\"positive\",\"odd\")) if user>=0 else (print(\"negative\",\"even\") if user%2==0 else print(\"negative\",\"odd\"))"
   ]
  },
  {
   "cell_type": "code",
   "execution_count": 11,
   "id": "20cf7460-98bc-48dd-a842-4a92a4ca7d74",
   "metadata": {},
   "outputs": [],
   "source": [
    "# if elif else"
   ]
  },
  {
   "cell_type": "code",
   "execution_count": 13,
   "id": "f8928c0f-b90e-4848-9fe3-8b0543bd1d09",
   "metadata": {},
   "outputs": [
    {
     "name": "stdin",
     "output_type": "stream",
     "text": [
      "Enter your 1st number: 10\n",
      "Enter your 2nd number: 20\n",
      "Kindly choose one symbole +,- : hjuyfytdjydy\n"
     ]
    },
    {
     "name": "stdout",
     "output_type": "stream",
     "text": [
      "-10\n"
     ]
    }
   ],
   "source": [
    "num1=eval(input(\"Enter your 1st number:\"))\n",
    "num2=eval(input(\"Enter your 2nd number:\"))\n",
    "operation= input(\"Kindly choose one symbole +,- :\")\n",
    "if operation==\"+\":\n",
    "    print(num1+num2)\n",
    "else:\n",
    "    print(num1-num2)"
   ]
  },
  {
   "cell_type": "code",
   "execution_count": 17,
   "id": "135c54b2-4f55-40d9-975a-3fe6aab1bf0d",
   "metadata": {},
   "outputs": [
    {
     "name": "stdin",
     "output_type": "stream",
     "text": [
      "Enter your 1st number: 10\n",
      "Enter your 2nd number: 20\n",
      "Kindly choose one symbole +,- : krishna\n"
     ]
    },
    {
     "name": "stdout",
     "output_type": "stream",
     "text": [
      "Invalid operation\n"
     ]
    }
   ],
   "source": [
    "num1=eval(input(\"Enter your 1st number:\"))\n",
    "num2=eval(input(\"Enter your 2nd number:\"))\n",
    "operation= input(\"Kindly choose one symbole +,- :\")\n",
    "if operation==\"+\":\n",
    "    print(num1+num2)\n",
    "elif operation==\"-\":\n",
    "    print(num1-num2)\n",
    "else:\n",
    "    print(\"Invalid operation\")"
   ]
  },
  {
   "cell_type": "code",
   "execution_count": 18,
   "id": "3cf4c75d-3fb0-4780-93ea-2452f98190a5",
   "metadata": {},
   "outputs": [
    {
     "name": "stdin",
     "output_type": "stream",
     "text": [
      "Enter your 1st number: 10\n",
      "Enter your 2nd number: 20\n",
      "Kindly choose one symbole +,- : -\n"
     ]
    },
    {
     "name": "stdout",
     "output_type": "stream",
     "text": [
      "30\n",
      "-10\n"
     ]
    }
   ],
   "source": [
    "num1=eval(input(\"Enter your 1st number:\"))\n",
    "num2=eval(input(\"Enter your 2nd number:\"))\n",
    "operation= input(\"Kindly choose one symbole +,- :\")\n",
    "if operation==\"-\":\n",
    "    print(num1+num2)\n",
    "if operation==\"-\":\n",
    "    print(num1-num2)\n",
    "else:\n",
    "    print(\"Invalid operation\")"
   ]
  },
  {
   "cell_type": "code",
   "execution_count": 24,
   "id": "17fe845b-bb3a-4526-866c-2eb861341335",
   "metadata": {},
   "outputs": [
    {
     "name": "stdin",
     "output_type": "stream",
     "text": [
      "Enter your 1st number: 10\n",
      "Enter your 2nd number: 20\n",
      "Kindly choose one symbole +,- : x\n"
     ]
    },
    {
     "name": "stdout",
     "output_type": "stream",
     "text": [
      "200\n",
      "30\n"
     ]
    }
   ],
   "source": [
    "num1=eval(input(\"Enter your 1st number:\"))\n",
    "num2=eval(input(\"Enter your 2nd number:\"))\n",
    "operation= input(\"Kindly choose one symbole +,- :\")\n",
    "if operation==\"+\":\n",
    "    print(num1+num2)\n",
    "elif operation==\"-\":\n",
    "    print(num1-num2)\n",
    "elif operation==\"/\":\n",
    "    print(num1/num2)\n",
    "elif operation ==\"x\":\n",
    "    print(num1*num2)\n",
    "    \n",
    "else:\n",
    "    print(\"Invalid operation\")"
   ]
  },
  {
   "cell_type": "code",
   "execution_count": 11,
   "id": "45240bcc-6416-4969-aa73-66557f1a4e25",
   "metadata": {},
   "outputs": [
    {
     "name": "stdin",
     "output_type": "stream",
     "text": [
      "Enter your age: 25\n"
     ]
    }
   ],
   "source": [
    "user=int(input(\"Enter your age:\"))\n",
    "if user>0 and user<=18:\n",
    "    if user<=5:\n",
    "        print(\"chocolate\")\n",
    "    elif user>5 and user<15:\n",
    "        print(\"Cricket kit\")\n",
    "    else:\n",
    "        print(\"KTM\")\n",
    "elif user>18 and user<=30:\n",
    "    if user>25:\n",
    "        print(\"Higher education in UK \")\n",
    "    \n",
    "elif user>30 and user<=60:\n",
    "    print(\"I will give then car\")\n",
    "elif user>60 and user<=108:\n",
    "    print(\"Health insurance\")\n",
    "else:\n",
    "    print(\"I will give you poision\")"
   ]
  },
  {
   "cell_type": "code",
   "execution_count": 12,
   "id": "f195dc09-ce66-4655-b28a-477ba8f3991b",
   "metadata": {},
   "outputs": [
    {
     "name": "stdin",
     "output_type": "stream",
     "text": [
      "Enter your age: 25\n"
     ]
    },
    {
     "name": "stdout",
     "output_type": "stream",
     "text": [
      "i will give you Bullet in dowry\n"
     ]
    }
   ],
   "source": [
    "user=int(input(\"Enter your age:\"))\n",
    "if user>0 and user<=18:\n",
    "    if user<=5:\n",
    "        print(\"chocolate\")\n",
    "    elif user>5 and user<15:\n",
    "        print(\"Cricket kit\")\n",
    "    else:\n",
    "        print(\"KTM\")\n",
    "elif user>18 and user<=30:\n",
    "    if user<25:\n",
    "        print(\"Higher education in UK \")\n",
    "    else:\n",
    "        print(\"i will give you Bullet in dowry\")\n",
    "    \n",
    "elif user>30 and user<=60:\n",
    "    print(\"I will give then car\")\n",
    "elif user>60 and user<=108:\n",
    "    print(\"Health insurance\")\n",
    "else:\n",
    "    print(\"I will give you poision\")"
   ]
  },
  {
   "cell_type": "code",
   "execution_count": null,
   "id": "72de7822-7255-4b50-b5fc-69841d368a43",
   "metadata": {},
   "outputs": [],
   "source": []
  }
 ],
 "metadata": {
  "kernelspec": {
   "display_name": "Python 3 (ipykernel)",
   "language": "python",
   "name": "python3"
  },
  "language_info": {
   "codemirror_mode": {
    "name": "ipython",
    "version": 3
   },
   "file_extension": ".py",
   "mimetype": "text/x-python",
   "name": "python",
   "nbconvert_exporter": "python",
   "pygments_lexer": "ipython3",
   "version": "3.11.5"
  }
 },
 "nbformat": 4,
 "nbformat_minor": 5
}
