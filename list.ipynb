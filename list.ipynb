{
 "cells": [
  {
   "cell_type": "markdown",
   "id": "984a8e1b-186d-4a35-ab3b-4a04e72546ea",
   "metadata": {},
   "source": [
    "# List \n",
    "\n",
    "> list constructor is list()\n",
    "\n",
    "> list literal is [ ]\n",
    "\n",
    "> list is a ordered set of sequence of elements.\n",
    "\n",
    "> list support indexing \n",
    "\n",
    "> list support slicing \n",
    "\n",
    "> list support concatination\n",
    "\n",
    "> list is mutable(unhashable)\n",
    "\n",
    "> list support nested list\n",
    "\n",
    "> list methods.\n"
   ]
  },
  {
   "cell_type": "code",
   "execution_count": 1,
   "id": "5bab501a-9b76-4d35-9828-eada49d50887",
   "metadata": {},
   "outputs": [],
   "source": [
    "a=list()"
   ]
  },
  {
   "cell_type": "code",
   "execution_count": 2,
   "id": "292a3d30-1ff7-4603-830a-d2bdaea631d8",
   "metadata": {},
   "outputs": [
    {
     "name": "stdout",
     "output_type": "stream",
     "text": [
      "[]\n"
     ]
    }
   ],
   "source": [
    "print(a)"
   ]
  },
  {
   "cell_type": "code",
   "execution_count": 3,
   "id": "70b6b7bf-773d-4712-a20c-63bb8d785c5c",
   "metadata": {},
   "outputs": [],
   "source": [
    "b=[]"
   ]
  },
  {
   "cell_type": "code",
   "execution_count": 4,
   "id": "fad0a7b2-1e4b-4c6e-9d19-7f0d4c3dac27",
   "metadata": {},
   "outputs": [
    {
     "name": "stdout",
     "output_type": "stream",
     "text": [
      "[]\n"
     ]
    }
   ],
   "source": [
    "print(b)"
   ]
  },
  {
   "cell_type": "code",
   "execution_count": 5,
   "id": "63ba0e75-c8d2-4312-9132-617de5a833db",
   "metadata": {},
   "outputs": [],
   "source": [
    "c=[10,10.0,'10']"
   ]
  },
  {
   "cell_type": "code",
   "execution_count": 6,
   "id": "2da98aa2-2c44-4b0a-bb03-1efa357a1620",
   "metadata": {},
   "outputs": [
    {
     "name": "stdout",
     "output_type": "stream",
     "text": [
      "[10, 10.0, '10']\n"
     ]
    }
   ],
   "source": [
    "print(c)"
   ]
  },
  {
   "cell_type": "code",
   "execution_count": 7,
   "id": "9de497a0-edf7-4d2a-ad0e-39e6a979c4ba",
   "metadata": {},
   "outputs": [
    {
     "name": "stdout",
     "output_type": "stream",
     "text": [
      "10\n"
     ]
    }
   ],
   "source": [
    "print(c[0])"
   ]
  },
  {
   "cell_type": "code",
   "execution_count": 8,
   "id": "c89031c0-0242-4769-bf74-17847db8285c",
   "metadata": {},
   "outputs": [
    {
     "name": "stdout",
     "output_type": "stream",
     "text": [
      "10\n"
     ]
    }
   ],
   "source": [
    "print(c[-3])"
   ]
  },
  {
   "cell_type": "code",
   "execution_count": 10,
   "id": "5b5ac268-ca70-48e7-951b-ca33635f2a90",
   "metadata": {},
   "outputs": [
    {
     "data": {
      "text/plain": [
       "'10'"
      ]
     },
     "execution_count": 10,
     "metadata": {},
     "output_type": "execute_result"
    }
   ],
   "source": [
    "c[2]"
   ]
  },
  {
   "cell_type": "code",
   "execution_count": 12,
   "id": "22ce7d05-54fa-43ff-a9c9-5b75268fe683",
   "metadata": {},
   "outputs": [],
   "source": [
    "a=['k', 'r', 'i', 's', 'h', 'n', 'a']"
   ]
  },
  {
   "cell_type": "code",
   "execution_count": 14,
   "id": "6a32c068-ad18-4ceb-a336-b34130f79c68",
   "metadata": {},
   "outputs": [
    {
     "data": {
      "text/plain": [
       "['r', 'i', 's', 'h']"
      ]
     },
     "execution_count": 14,
     "metadata": {},
     "output_type": "execute_result"
    }
   ],
   "source": [
    "a[1:5:1]"
   ]
  },
  {
   "cell_type": "code",
   "execution_count": 15,
   "id": "5e5c3e8f-9bad-4bc3-a768-e453cbe685c9",
   "metadata": {},
   "outputs": [
    {
     "data": {
      "text/plain": [
       "['r', 's']"
      ]
     },
     "execution_count": 15,
     "metadata": {},
     "output_type": "execute_result"
    }
   ],
   "source": [
    "a[1:5:2]"
   ]
  },
  {
   "cell_type": "code",
   "execution_count": 16,
   "id": "02887c31-9a58-4a8b-876e-d97d9861192e",
   "metadata": {},
   "outputs": [
    {
     "data": {
      "text/plain": [
       "['a', 'n', 'h', 's', 'i', 'r', 'k']"
      ]
     },
     "execution_count": 16,
     "metadata": {},
     "output_type": "execute_result"
    }
   ],
   "source": [
    "a[-1:-8:-1]"
   ]
  },
  {
   "cell_type": "code",
   "execution_count": 17,
   "id": "c75d99e7-6202-439c-b09a-ee8017730f7b",
   "metadata": {},
   "outputs": [
    {
     "data": {
      "text/plain": [
       "'krishna'"
      ]
     },
     "execution_count": 17,
     "metadata": {},
     "output_type": "execute_result"
    }
   ],
   "source": [
    "\"\".join(a)"
   ]
  },
  {
   "cell_type": "code",
   "execution_count": 18,
   "id": "90c326b0-e69e-42af-9e0b-7e36eae9d3b4",
   "metadata": {},
   "outputs": [
    {
     "name": "stdout",
     "output_type": "stream",
     "text": [
      "['k', 'r', 'i', 's', 'h', 'n', 'a']\n"
     ]
    }
   ],
   "source": [
    "print(a)"
   ]
  },
  {
   "cell_type": "code",
   "execution_count": 19,
   "id": "328172bb-cf87-4391-a605-93df2e6f1666",
   "metadata": {},
   "outputs": [
    {
     "name": "stdout",
     "output_type": "stream",
     "text": [
      "[1, 2, 3, 1, 2, 3, 4, 5]\n"
     ]
    }
   ],
   "source": [
    "a=[1,2,3]\n",
    "b=[1,2,3,4,5]\n",
    "print(a+b)"
   ]
  },
  {
   "cell_type": "code",
   "execution_count": 20,
   "id": "c1cf13bd-ee65-4da9-81c1-2aa7286431a4",
   "metadata": {},
   "outputs": [],
   "source": [
    "a=[1,2,3,4,5,[1,2,3],9,10]"
   ]
  },
  {
   "cell_type": "code",
   "execution_count": 22,
   "id": "2c929c76-a3ae-451b-b509-a9e32d3ab273",
   "metadata": {},
   "outputs": [
    {
     "name": "stdout",
     "output_type": "stream",
     "text": [
      "[1, 2, 3]\n"
     ]
    }
   ],
   "source": [
    "b=a[5]\n",
    "print(b)"
   ]
  },
  {
   "cell_type": "code",
   "execution_count": 23,
   "id": "461bc4be-d9f8-4b9f-96b5-9fed10710e5c",
   "metadata": {},
   "outputs": [
    {
     "data": {
      "text/plain": [
       "2"
      ]
     },
     "execution_count": 23,
     "metadata": {},
     "output_type": "execute_result"
    }
   ],
   "source": [
    "b[1]"
   ]
  },
  {
   "cell_type": "code",
   "execution_count": 24,
   "id": "1518e956-ff64-4955-899f-d4c27f727ca4",
   "metadata": {},
   "outputs": [
    {
     "data": {
      "text/plain": [
       "2"
      ]
     },
     "execution_count": 24,
     "metadata": {},
     "output_type": "execute_result"
    }
   ],
   "source": [
    "a[5][1]"
   ]
  },
  {
   "cell_type": "code",
   "execution_count": 25,
   "id": "613f9525-4c0f-41f1-b1f1-4ef8145eb420",
   "metadata": {},
   "outputs": [],
   "source": [
    "a=[1,2,3,4,5,[1,2,3,[999,998,1000],111,234,434],9,10]"
   ]
  },
  {
   "cell_type": "code",
   "execution_count": 26,
   "id": "f3c571c2-b6a2-4770-9303-dd0d7942f4d1",
   "metadata": {},
   "outputs": [
    {
     "data": {
      "text/plain": [
       "8"
      ]
     },
     "execution_count": 26,
     "metadata": {},
     "output_type": "execute_result"
    }
   ],
   "source": [
    "len(a)"
   ]
  },
  {
   "cell_type": "code",
   "execution_count": 27,
   "id": "d47fbb56-500a-47e6-991d-fcf5a9467f79",
   "metadata": {},
   "outputs": [
    {
     "data": {
      "text/plain": [
       "[1, 2, 3, [999, 998, 1000], 111, 234, 434]"
      ]
     },
     "execution_count": 27,
     "metadata": {},
     "output_type": "execute_result"
    }
   ],
   "source": [
    "a[5]"
   ]
  },
  {
   "cell_type": "code",
   "execution_count": 28,
   "id": "608ea09e-b9d8-41ab-99ad-e277992cf339",
   "metadata": {},
   "outputs": [
    {
     "data": {
      "text/plain": [
       "[999, 998, 1000]"
      ]
     },
     "execution_count": 28,
     "metadata": {},
     "output_type": "execute_result"
    }
   ],
   "source": [
    " a[5][3]"
   ]
  },
  {
   "cell_type": "code",
   "execution_count": 29,
   "id": "bc68f555-7a52-4113-9df4-2d1d9c933084",
   "metadata": {},
   "outputs": [
    {
     "data": {
      "text/plain": [
       "1000"
      ]
     },
     "execution_count": 29,
     "metadata": {},
     "output_type": "execute_result"
    }
   ],
   "source": [
    "a[5][3][2]"
   ]
  },
  {
   "cell_type": "code",
   "execution_count": 30,
   "id": "601af555-a74d-4575-b765-ad692cd13668",
   "metadata": {},
   "outputs": [],
   "source": [
    "a=[1,2,3,4,5,[1,2,3,[999,998,1000],111,234,434],9,10]"
   ]
  },
  {
   "cell_type": "code",
   "execution_count": 33,
   "id": "1b158dfc-bce4-4d71-b842-403ad9270a48",
   "metadata": {},
   "outputs": [],
   "source": [
    "d=a[5][3]"
   ]
  },
  {
   "cell_type": "code",
   "execution_count": 36,
   "id": "bd1f05e1-135b-40d5-840e-dbe4589e9727",
   "metadata": {},
   "outputs": [
    {
     "data": {
      "text/plain": [
       "[1000, 998, 999]"
      ]
     },
     "execution_count": 36,
     "metadata": {},
     "output_type": "execute_result"
    }
   ],
   "source": [
    "a[5][3][::-1]"
   ]
  },
  {
   "cell_type": "code",
   "execution_count": 37,
   "id": "e7551f3a-b78c-415e-84fb-494ac5b803f3",
   "metadata": {},
   "outputs": [],
   "source": [
    "d=[1,2,3,4,5,[1,2,3,[999,\"krishna\",1000],111,234,434],9,10]"
   ]
  },
  {
   "cell_type": "code",
   "execution_count": 39,
   "id": "c55e9e9f-e5f2-4ae1-ab07-0f9badaa0623",
   "metadata": {},
   "outputs": [
    {
     "data": {
      "text/plain": [
       "'anhsirk'"
      ]
     },
     "execution_count": 39,
     "metadata": {},
     "output_type": "execute_result"
    }
   ],
   "source": [
    "d[5][3][1][::-1]"
   ]
  },
  {
   "cell_type": "code",
   "execution_count": 40,
   "id": "03a0d0ff-aee6-4091-b0b0-ae309aa77f4b",
   "metadata": {},
   "outputs": [],
   "source": [
    "d=[1,2,3,4,5,[1,2,3,[999,\"123456789\",1000],111,234,434],9,10]"
   ]
  },
  {
   "cell_type": "code",
   "execution_count": 1,
   "id": "c74a6a6e-4dae-4c15-9c87-456352de8fd9",
   "metadata": {},
   "outputs": [
    {
     "ename": "NameError",
     "evalue": "name 'd' is not defined",
     "output_type": "error",
     "traceback": [
      "\u001b[1;31m---------------------------------------------------------------------------\u001b[0m",
      "\u001b[1;31mNameError\u001b[0m                                 Traceback (most recent call last)",
      "Cell \u001b[1;32mIn[1], line 1\u001b[0m\n\u001b[1;32m----> 1\u001b[0m \u001b[43md\u001b[49m[\u001b[38;5;241m5\u001b[39m][\u001b[38;5;241m3\u001b[39m][\u001b[38;5;241m1\u001b[39m][::\u001b[38;5;241m2\u001b[39m]\n",
      "\u001b[1;31mNameError\u001b[0m: name 'd' is not defined"
     ]
    }
   ],
   "source": [
    "d[5][3][1][::2]"
   ]
  },
  {
   "cell_type": "raw",
   "id": "5c96c16f-7971-4523-80ab-3f1a94fbb927",
   "metadata": {},
   "source": [
    "# list methods:\n",
    "'append',\n",
    " 'clear',\n",
    " 'copy',\n",
    " 'count',\n",
    " 'extend',\n",
    " 'index',\n",
    " 'insert',\n",
    " 'pop',\n",
    " 'remove',\n",
    " 'reverse',\n",
    " 'sort'"
   ]
  },
  {
   "cell_type": "code",
   "execution_count": 3,
   "id": "cf7a6e3a-a6b5-4b67-8e84-03e675ad33fb",
   "metadata": {},
   "outputs": [],
   "source": [
    "a=[1,2,3,4,5,6,7,8,9]"
   ]
  },
  {
   "cell_type": "code",
   "execution_count": 5,
   "id": "3768380d-86eb-484b-813c-93bfa4fb32df",
   "metadata": {},
   "outputs": [
    {
     "name": "stdout",
     "output_type": "stream",
     "text": [
      "<class 'list'>\n"
     ]
    }
   ],
   "source": [
    "print(type(a))"
   ]
  },
  {
   "cell_type": "code",
   "execution_count": 6,
   "id": "4f5e9c90-99b8-4c45-916a-7584207fde9f",
   "metadata": {},
   "outputs": [
    {
     "data": {
      "text/plain": [
       "2372461536960"
      ]
     },
     "execution_count": 6,
     "metadata": {},
     "output_type": "execute_result"
    }
   ],
   "source": [
    "id(a)"
   ]
  },
  {
   "cell_type": "code",
   "execution_count": 7,
   "id": "cdd4763d-659a-42ce-85dc-d5441c41928b",
   "metadata": {},
   "outputs": [],
   "source": [
    "a=10"
   ]
  },
  {
   "cell_type": "code",
   "execution_count": 8,
   "id": "f9e1a70a-0a43-4a2e-8fb8-56af1c780c27",
   "metadata": {},
   "outputs": [],
   "source": [
    "b=10"
   ]
  },
  {
   "cell_type": "code",
   "execution_count": 9,
   "id": "c7b37c3e-79a5-496e-9581-1d1444350af6",
   "metadata": {},
   "outputs": [
    {
     "data": {
      "text/plain": [
       "140730385032264"
      ]
     },
     "execution_count": 9,
     "metadata": {},
     "output_type": "execute_result"
    }
   ],
   "source": [
    "id(a)"
   ]
  },
  {
   "cell_type": "code",
   "execution_count": 10,
   "id": "80b0d3fe-a22b-459e-8b34-3dca761a3283",
   "metadata": {},
   "outputs": [
    {
     "data": {
      "text/plain": [
       "140730385032264"
      ]
     },
     "execution_count": 10,
     "metadata": {},
     "output_type": "execute_result"
    }
   ],
   "source": [
    "id(b)"
   ]
  },
  {
   "cell_type": "code",
   "execution_count": 15,
   "id": "8f7464ea-3d17-49fa-af78-e3c736dfbedd",
   "metadata": {},
   "outputs": [
    {
     "data": {
      "text/plain": [
       "2372469491072"
      ]
     },
     "execution_count": 15,
     "metadata": {},
     "output_type": "execute_result"
    }
   ],
   "source": [
    "a=[10,20,30]\n",
    "id(a)"
   ]
  },
  {
   "cell_type": "code",
   "execution_count": 12,
   "id": "5b705fc2-a732-471b-b31f-beca55b1db08",
   "metadata": {},
   "outputs": [],
   "source": [
    "b=[10,20,30]"
   ]
  },
  {
   "cell_type": "code",
   "execution_count": 16,
   "id": "21bbfbc8-41bb-4731-90a0-be857819d65f",
   "metadata": {},
   "outputs": [
    {
     "name": "stdout",
     "output_type": "stream",
     "text": [
      "[10, 20, 30, 11]\n",
      "2372469491072\n"
     ]
    }
   ],
   "source": [
    "a.append(11)\n",
    "print(a)\n",
    "print(id(a))"
   ]
  },
  {
   "cell_type": "code",
   "execution_count": 17,
   "id": "f52ca09d-bd5f-4674-aab0-29c4c350cb84",
   "metadata": {},
   "outputs": [
    {
     "name": "stdout",
     "output_type": "stream",
     "text": [
      "[10, 20, 30, 11]\n"
     ]
    }
   ],
   "source": [
    "print(a)"
   ]
  },
  {
   "cell_type": "code",
   "execution_count": 18,
   "id": "34c72135-277d-4708-a012-f496d8577f09",
   "metadata": {},
   "outputs": [],
   "source": [
    "a.append(110000)"
   ]
  },
  {
   "cell_type": "code",
   "execution_count": 19,
   "id": "f3698f80-d06d-46c2-89a2-d353a6cfb51c",
   "metadata": {},
   "outputs": [
    {
     "name": "stdout",
     "output_type": "stream",
     "text": [
      "[10, 20, 30, 11, 110000]\n"
     ]
    }
   ],
   "source": [
    "print(a)"
   ]
  },
  {
   "cell_type": "code",
   "execution_count": 20,
   "id": "ed94a517-c849-4201-b4b7-9bc1d71bb086",
   "metadata": {},
   "outputs": [],
   "source": [
    "a.clear()"
   ]
  },
  {
   "cell_type": "code",
   "execution_count": 21,
   "id": "fa17d842-d5af-4393-bf1c-6313af8e1bea",
   "metadata": {},
   "outputs": [
    {
     "name": "stdout",
     "output_type": "stream",
     "text": [
      "[]\n"
     ]
    }
   ],
   "source": [
    "print(a)"
   ]
  },
  {
   "cell_type": "code",
   "execution_count": 22,
   "id": "29887a5e-1fcc-4e80-a60f-95122d5111c3",
   "metadata": {},
   "outputs": [
    {
     "data": {
      "text/plain": [
       "2372469491072"
      ]
     },
     "execution_count": 22,
     "metadata": {},
     "output_type": "execute_result"
    }
   ],
   "source": [
    "id(a)"
   ]
  },
  {
   "cell_type": "code",
   "execution_count": 23,
   "id": "862c90b8-b5da-4b9c-81f0-ce2dae3f4368",
   "metadata": {},
   "outputs": [],
   "source": [
    "a.append([1,2,3,4,5])"
   ]
  },
  {
   "cell_type": "code",
   "execution_count": 24,
   "id": "2d86b70b-d59a-4954-9664-ec9a779af42d",
   "metadata": {},
   "outputs": [
    {
     "name": "stdout",
     "output_type": "stream",
     "text": [
      "[[1, 2, 3, 4, 5]]\n"
     ]
    }
   ],
   "source": [
    "print(a)"
   ]
  },
  {
   "cell_type": "code",
   "execution_count": 25,
   "id": "be899db3-2bc8-4170-ae40-b1460a6b27be",
   "metadata": {},
   "outputs": [],
   "source": [
    "a.extend([1,2,3,4,5])"
   ]
  },
  {
   "cell_type": "code",
   "execution_count": 26,
   "id": "7ff7735b-e8ee-469a-98e3-3a3a62b4687b",
   "metadata": {},
   "outputs": [
    {
     "name": "stdout",
     "output_type": "stream",
     "text": [
      "[[1, 2, 3, 4, 5], 1, 2, 3, 4, 5]\n"
     ]
    }
   ],
   "source": [
    "print(a)"
   ]
  },
  {
   "cell_type": "code",
   "execution_count": 27,
   "id": "358152f5-6bd9-4580-903e-0bb81ce5792a",
   "metadata": {},
   "outputs": [],
   "source": [
    "a.append(\"krishna\")"
   ]
  },
  {
   "cell_type": "code",
   "execution_count": 28,
   "id": "e91c6635-dab9-413b-b85b-9b63bfe3a9c0",
   "metadata": {},
   "outputs": [
    {
     "name": "stdout",
     "output_type": "stream",
     "text": [
      "[[1, 2, 3, 4, 5], 1, 2, 3, 4, 5, 'krishna']\n"
     ]
    }
   ],
   "source": [
    "print(a)"
   ]
  },
  {
   "cell_type": "code",
   "execution_count": 29,
   "id": "a2891d40-18b9-4248-ba08-87856e82c2d3",
   "metadata": {},
   "outputs": [],
   "source": [
    "a.extend(\"krishna\")"
   ]
  },
  {
   "cell_type": "code",
   "execution_count": 30,
   "id": "3543386e-1cd5-4741-b43a-0f9e26fe787c",
   "metadata": {},
   "outputs": [
    {
     "name": "stdout",
     "output_type": "stream",
     "text": [
      "[[1, 2, 3, 4, 5], 1, 2, 3, 4, 5, 'krishna', 'k', 'r', 'i', 's', 'h', 'n', 'a']\n"
     ]
    }
   ],
   "source": [
    "print(a)"
   ]
  },
  {
   "cell_type": "code",
   "execution_count": 31,
   "id": "30ce4fc7-13ed-4991-993e-24eedb168b24",
   "metadata": {},
   "outputs": [
    {
     "data": {
      "text/plain": [
       "2372469491072"
      ]
     },
     "execution_count": 31,
     "metadata": {},
     "output_type": "execute_result"
    }
   ],
   "source": [
    "id(a)"
   ]
  },
  {
   "cell_type": "code",
   "execution_count": 32,
   "id": "ae1b60e6-4aac-4e25-8c7a-d44598e93bbc",
   "metadata": {},
   "outputs": [
    {
     "data": {
      "text/plain": [
       "'a'"
      ]
     },
     "execution_count": 32,
     "metadata": {},
     "output_type": "execute_result"
    }
   ],
   "source": [
    "a.pop()"
   ]
  },
  {
   "cell_type": "code",
   "execution_count": 33,
   "id": "819bbc6c-5d9a-49cc-9235-a103d44f73b0",
   "metadata": {},
   "outputs": [
    {
     "name": "stdout",
     "output_type": "stream",
     "text": [
      "[[1, 2, 3, 4, 5], 1, 2, 3, 4, 5, 'krishna', 'k', 'r', 'i', 's', 'h', 'n']\n"
     ]
    }
   ],
   "source": [
    "print(a)"
   ]
  },
  {
   "cell_type": "code",
   "execution_count": 34,
   "id": "f604fceb-4800-4941-9488-e192f9832315",
   "metadata": {},
   "outputs": [
    {
     "data": {
      "text/plain": [
       "'krishna'"
      ]
     },
     "execution_count": 34,
     "metadata": {},
     "output_type": "execute_result"
    }
   ],
   "source": [
    "a.pop(6)"
   ]
  },
  {
   "cell_type": "code",
   "execution_count": 35,
   "id": "38bad4c9-f7ba-40bd-877b-bc7462ea288a",
   "metadata": {},
   "outputs": [
    {
     "name": "stdout",
     "output_type": "stream",
     "text": [
      "[[1, 2, 3, 4, 5], 1, 2, 3, 4, 5, 'k', 'r', 'i', 's', 'h', 'n']\n"
     ]
    }
   ],
   "source": [
    "print(a)"
   ]
  },
  {
   "cell_type": "code",
   "execution_count": 36,
   "id": "2b5a04fa-4495-42fa-9f18-23697c90f902",
   "metadata": {},
   "outputs": [],
   "source": [
    "a.remove([1,2,3,4,5])"
   ]
  },
  {
   "cell_type": "code",
   "execution_count": 37,
   "id": "af7aa158-9f54-45c5-aba7-52d09a115eb6",
   "metadata": {},
   "outputs": [
    {
     "name": "stdout",
     "output_type": "stream",
     "text": [
      "[1, 2, 3, 4, 5, 'k', 'r', 'i', 's', 'h', 'n']\n"
     ]
    }
   ],
   "source": [
    "print(a)"
   ]
  },
  {
   "cell_type": "raw",
   "id": "60aa8c04-a166-410f-a33a-86e0cae47dbb",
   "metadata": {},
   "source": [
    "pop: pop work on indexing\n",
    "    > pop():remove last element\n",
    "    > pop(n): remove n index value\n",
    "remove: work on element name"
   ]
  },
  {
   "cell_type": "code",
   "execution_count": 39,
   "id": "be402b31-6b43-4982-83ae-ec785cd81142",
   "metadata": {},
   "outputs": [
    {
     "data": {
      "text/plain": [
       "'n'"
      ]
     },
     "execution_count": 39,
     "metadata": {},
     "output_type": "execute_result"
    }
   ],
   "source": [
    "a.pop()"
   ]
  },
  {
   "cell_type": "code",
   "execution_count": 40,
   "id": "43cf921c-bf61-4659-b4f8-d2ff2855db7d",
   "metadata": {},
   "outputs": [
    {
     "name": "stdout",
     "output_type": "stream",
     "text": [
      "[1, 2, 3, 4, 5, 'k', 'r', 'i', 's', 'h']\n"
     ]
    }
   ],
   "source": [
    "print(a)"
   ]
  },
  {
   "cell_type": "code",
   "execution_count": 41,
   "id": "c7bb427c-a737-4084-b104-35cddc6c1615",
   "metadata": {},
   "outputs": [
    {
     "data": {
      "text/plain": [
       "5"
      ]
     },
     "execution_count": 41,
     "metadata": {},
     "output_type": "execute_result"
    }
   ],
   "source": [
    "a.pop(4)"
   ]
  },
  {
   "cell_type": "code",
   "execution_count": 42,
   "id": "3068273a-93a7-4e89-9e42-cdd9911f65be",
   "metadata": {},
   "outputs": [
    {
     "name": "stdout",
     "output_type": "stream",
     "text": [
      "[1, 2, 3, 4, 'k', 'r', 'i', 's', 'h']\n"
     ]
    }
   ],
   "source": [
    "print(a)"
   ]
  },
  {
   "cell_type": "code",
   "execution_count": 43,
   "id": "1f5c6763-e901-4bb1-b307-599dea2dbcd7",
   "metadata": {},
   "outputs": [
    {
     "ename": "IndexError",
     "evalue": "pop index out of range",
     "output_type": "error",
     "traceback": [
      "\u001b[1;31m---------------------------------------------------------------------------\u001b[0m",
      "\u001b[1;31mIndexError\u001b[0m                                Traceback (most recent call last)",
      "Cell \u001b[1;32mIn[43], line 1\u001b[0m\n\u001b[1;32m----> 1\u001b[0m \u001b[43ma\u001b[49m\u001b[38;5;241;43m.\u001b[39;49m\u001b[43mpop\u001b[49m\u001b[43m(\u001b[49m\u001b[38;5;241;43m1000\u001b[39;49m\u001b[43m)\u001b[49m\n",
      "\u001b[1;31mIndexError\u001b[0m: pop index out of range"
     ]
    }
   ],
   "source": [
    "a.pop(1000)"
   ]
  },
  {
   "cell_type": "code",
   "execution_count": 44,
   "id": "a804deca-38f5-46d0-8e3e-26af6680c7f0",
   "metadata": {},
   "outputs": [
    {
     "data": {
      "text/plain": [
       "'s'"
      ]
     },
     "execution_count": 44,
     "metadata": {},
     "output_type": "execute_result"
    }
   ],
   "source": [
    "a.pop(-2)"
   ]
  },
  {
   "cell_type": "code",
   "execution_count": 45,
   "id": "78f699bc-9ce7-401f-9bcd-ece85778b55a",
   "metadata": {},
   "outputs": [
    {
     "data": {
      "text/plain": [
       "[1, 2, 3, 4, 'k', 'r', 'i', 'h']"
      ]
     },
     "execution_count": 45,
     "metadata": {},
     "output_type": "execute_result"
    }
   ],
   "source": [
    "a"
   ]
  },
  {
   "cell_type": "code",
   "execution_count": 47,
   "id": "52e5d7b3-40ce-4256-8643-e7cf2bbb286f",
   "metadata": {},
   "outputs": [],
   "source": [
    "a.extend([1,2,1,2])"
   ]
  },
  {
   "cell_type": "code",
   "execution_count": 48,
   "id": "9d0e9f6b-a3ef-4061-99d2-bff886070b24",
   "metadata": {},
   "outputs": [
    {
     "name": "stdout",
     "output_type": "stream",
     "text": [
      "[1, 2, 3, 4, 'k', 'r', 'i', 'h', 1, 2, 1, 2]\n"
     ]
    }
   ],
   "source": [
    "print(a)"
   ]
  },
  {
   "cell_type": "code",
   "execution_count": 55,
   "id": "ec5e43e5-1cd3-441b-aa21-055c25835a85",
   "metadata": {},
   "outputs": [
    {
     "ename": "ValueError",
     "evalue": "list.remove(x): x not in list",
     "output_type": "error",
     "traceback": [
      "\u001b[1;31m---------------------------------------------------------------------------\u001b[0m",
      "\u001b[1;31mValueError\u001b[0m                                Traceback (most recent call last)",
      "Cell \u001b[1;32mIn[55], line 1\u001b[0m\n\u001b[1;32m----> 1\u001b[0m \u001b[43ma\u001b[49m\u001b[38;5;241;43m.\u001b[39;49m\u001b[43mremove\u001b[49m\u001b[43m(\u001b[49m\u001b[38;5;241;43m1\u001b[39;49m\u001b[43m)\u001b[49m\n",
      "\u001b[1;31mValueError\u001b[0m: list.remove(x): x not in list"
     ]
    }
   ],
   "source": [
    "a.remove(1)"
   ]
  },
  {
   "cell_type": "code",
   "execution_count": 56,
   "id": "6b586ec5-45b2-4bd7-bbb9-46f78926535d",
   "metadata": {},
   "outputs": [
    {
     "name": "stdout",
     "output_type": "stream",
     "text": [
      "[2, 3, 4, 'k', 'r', 'i', 'h', 2, 2]\n"
     ]
    }
   ],
   "source": [
    "print(a)"
   ]
  },
  {
   "cell_type": "code",
   "execution_count": 59,
   "id": "dc647cef-6912-400d-a320-4cbe5bbfb875",
   "metadata": {},
   "outputs": [],
   "source": [
    "a.insert(0,\"krishna\")"
   ]
  },
  {
   "cell_type": "code",
   "execution_count": 60,
   "id": "2b81d380-f847-4483-8f1c-eda8584fab92",
   "metadata": {},
   "outputs": [
    {
     "name": "stdout",
     "output_type": "stream",
     "text": [
      "['krishna', 2, 3, 4, 'krishna', 'k', 'r', 'i', 'h', 2, 2]\n"
     ]
    }
   ],
   "source": [
    "print(a)"
   ]
  },
  {
   "cell_type": "code",
   "execution_count": 61,
   "id": "65bffa44-65e6-4afb-b118-b927727c6dd1",
   "metadata": {},
   "outputs": [],
   "source": [
    "a.extend([\"krishna\",\"Radhy\",\"Murli\"])"
   ]
  },
  {
   "cell_type": "code",
   "execution_count": 62,
   "id": "f608a0ef-c982-4ebe-9796-c9a50a2efd1f",
   "metadata": {},
   "outputs": [
    {
     "name": "stdout",
     "output_type": "stream",
     "text": [
      "['krishna', 2, 3, 4, 'krishna', 'k', 'r', 'i', 'h', 2, 2, 'krishna', 'Radhy', 'Murli']\n"
     ]
    }
   ],
   "source": [
    "print(a)"
   ]
  },
  {
   "cell_type": "code",
   "execution_count": 63,
   "id": "566b345b-d667-4b9d-9fb9-45286ec8e02b",
   "metadata": {},
   "outputs": [],
   "source": [
    "a.extend(\"krishna\")"
   ]
  },
  {
   "cell_type": "code",
   "execution_count": 64,
   "id": "d66a8be0-c07e-4104-82a0-950915f5e855",
   "metadata": {},
   "outputs": [
    {
     "name": "stdout",
     "output_type": "stream",
     "text": [
      "['krishna', 2, 3, 4, 'krishna', 'k', 'r', 'i', 'h', 2, 2, 'krishna', 'Radhy', 'Murli', 'k', 'r', 'i', 's', 'h', 'n', 'a']\n"
     ]
    }
   ],
   "source": [
    "print(a)"
   ]
  },
  {
   "cell_type": "code",
   "execution_count": 65,
   "id": "8b30c530-392f-45b9-b84c-106cc59a5a39",
   "metadata": {},
   "outputs": [],
   "source": [
    "a.extend([\"krishna\"])"
   ]
  },
  {
   "cell_type": "code",
   "execution_count": 66,
   "id": "42ef0fd9-2c9e-4298-9a2b-8df43fd39279",
   "metadata": {},
   "outputs": [
    {
     "name": "stdout",
     "output_type": "stream",
     "text": [
      "['krishna', 2, 3, 4, 'krishna', 'k', 'r', 'i', 'h', 2, 2, 'krishna', 'Radhy', 'Murli', 'k', 'r', 'i', 's', 'h', 'n', 'a', 'krishna']\n"
     ]
    }
   ],
   "source": [
    "print(a)"
   ]
  },
  {
   "cell_type": "code",
   "execution_count": 67,
   "id": "cc89871e-a52b-4fde-96b3-e1b992369a7d",
   "metadata": {},
   "outputs": [],
   "source": [
    "a=[1,2,3]\n",
    "b=[1,2,3]"
   ]
  },
  {
   "cell_type": "code",
   "execution_count": 68,
   "id": "e9452d66-ee70-4f46-a15d-86760e9eaff0",
   "metadata": {},
   "outputs": [],
   "source": [
    "a=[]"
   ]
  },
  {
   "cell_type": "code",
   "execution_count": 69,
   "id": "af980906-e27d-4887-be69-c5951bb73005",
   "metadata": {},
   "outputs": [],
   "source": [
    "a.append(10)"
   ]
  },
  {
   "cell_type": "code",
   "execution_count": 70,
   "id": "a64569cb-840f-4cce-a248-bceb1e4d9132",
   "metadata": {},
   "outputs": [
    {
     "name": "stdout",
     "output_type": "stream",
     "text": [
      "[10]\n"
     ]
    }
   ],
   "source": [
    "print(a)"
   ]
  },
  {
   "cell_type": "code",
   "execution_count": 71,
   "id": "0d32f884-8b7a-4551-9492-d9794ad730bd",
   "metadata": {},
   "outputs": [],
   "source": [
    "b=[]"
   ]
  },
  {
   "cell_type": "code",
   "execution_count": 72,
   "id": "03822842-0567-44b1-98a1-b5e2281803b4",
   "metadata": {},
   "outputs": [],
   "source": [
    "b.append(10)"
   ]
  },
  {
   "cell_type": "code",
   "execution_count": 73,
   "id": "2ade10de-1813-404a-9df3-e46fa82a5261",
   "metadata": {},
   "outputs": [
    {
     "name": "stdout",
     "output_type": "stream",
     "text": [
      "[10]\n"
     ]
    }
   ],
   "source": [
    "print(b)"
   ]
  },
  {
   "cell_type": "code",
   "execution_count": 74,
   "id": "0e7c94f0-b63c-4126-a15a-14e50c7048e0",
   "metadata": {},
   "outputs": [
    {
     "name": "stdout",
     "output_type": "stream",
     "text": [
      "[10]\n"
     ]
    }
   ],
   "source": [
    "print(a)"
   ]
  },
  {
   "cell_type": "code",
   "execution_count": 75,
   "id": "91af3abe-48db-4968-aa5b-b6b3cf568d01",
   "metadata": {},
   "outputs": [
    {
     "data": {
      "text/plain": [
       "2372470011200"
      ]
     },
     "execution_count": 75,
     "metadata": {},
     "output_type": "execute_result"
    }
   ],
   "source": [
    "id(a)"
   ]
  },
  {
   "cell_type": "code",
   "execution_count": 76,
   "id": "5d971d73-62fb-4b3a-a35f-c87d6d112d6e",
   "metadata": {},
   "outputs": [],
   "source": [
    "b=a"
   ]
  },
  {
   "cell_type": "code",
   "execution_count": 77,
   "id": "0555a6f7-7b81-4404-8a48-b6708d38e7b5",
   "metadata": {},
   "outputs": [
    {
     "name": "stdout",
     "output_type": "stream",
     "text": [
      "[10]\n"
     ]
    }
   ],
   "source": [
    "print(b)"
   ]
  },
  {
   "cell_type": "code",
   "execution_count": 78,
   "id": "a4d8993d-33cd-4340-94ce-3ba959aaba37",
   "metadata": {},
   "outputs": [
    {
     "data": {
      "text/plain": [
       "2372470011200"
      ]
     },
     "execution_count": 78,
     "metadata": {},
     "output_type": "execute_result"
    }
   ],
   "source": [
    "id(b)"
   ]
  },
  {
   "cell_type": "code",
   "execution_count": 79,
   "id": "24185051-7b56-4f5b-b077-b95474c39fc5",
   "metadata": {},
   "outputs": [],
   "source": [
    "a.append(11)"
   ]
  },
  {
   "cell_type": "code",
   "execution_count": 80,
   "id": "cf9d73e9-33ac-4ce8-b38f-668537e2848a",
   "metadata": {},
   "outputs": [
    {
     "name": "stdout",
     "output_type": "stream",
     "text": [
      "[10, 11]\n"
     ]
    }
   ],
   "source": [
    "print(a)"
   ]
  },
  {
   "cell_type": "code",
   "execution_count": 81,
   "id": "b8f9ad63-e9cd-411f-ae32-110cbea41c23",
   "metadata": {},
   "outputs": [
    {
     "name": "stdout",
     "output_type": "stream",
     "text": [
      "[10, 11]\n"
     ]
    }
   ],
   "source": [
    "print(b)"
   ]
  },
  {
   "cell_type": "code",
   "execution_count": 2,
   "id": "90509d58-1819-412b-a2d8-df283f05dd7c",
   "metadata": {},
   "outputs": [],
   "source": [
    "a=[7,43,54,32,35,4,65,32]"
   ]
  },
  {
   "cell_type": "code",
   "execution_count": 3,
   "id": "0e3a4ad1-61de-4527-8bd4-83447c105ef2",
   "metadata": {},
   "outputs": [
    {
     "name": "stdout",
     "output_type": "stream",
     "text": [
      "[7, 43, 54, 32, 35, 4, 65, 32]\n"
     ]
    }
   ],
   "source": [
    "print(a)"
   ]
  },
  {
   "cell_type": "code",
   "execution_count": 4,
   "id": "1e920deb-0b96-4092-80d3-1068ed8e081f",
   "metadata": {},
   "outputs": [
    {
     "name": "stdout",
     "output_type": "stream",
     "text": [
      "2\n"
     ]
    }
   ],
   "source": [
    "print(a.count(32))"
   ]
  },
  {
   "cell_type": "code",
   "execution_count": 5,
   "id": "50c59d49-a259-4e48-867c-6b29f64ab9fa",
   "metadata": {},
   "outputs": [
    {
     "name": "stdout",
     "output_type": "stream",
     "text": [
      "1\n"
     ]
    }
   ],
   "source": [
    "print(a.count(7))"
   ]
  },
  {
   "cell_type": "code",
   "execution_count": 6,
   "id": "b4ffe972-4efb-4ec7-80ff-1e39b487ed1c",
   "metadata": {},
   "outputs": [],
   "source": [
    "b=a"
   ]
  },
  {
   "cell_type": "code",
   "execution_count": 7,
   "id": "0cd4e237-bb0e-4613-9331-c3ae2a78acfe",
   "metadata": {},
   "outputs": [
    {
     "name": "stdout",
     "output_type": "stream",
     "text": [
      "[7, 43, 54, 32, 35, 4, 65, 32]\n"
     ]
    }
   ],
   "source": [
    "print(b)"
   ]
  },
  {
   "cell_type": "code",
   "execution_count": 8,
   "id": "98b7d825-5842-49b7-ac42-bdd7485047bc",
   "metadata": {},
   "outputs": [
    {
     "name": "stdout",
     "output_type": "stream",
     "text": [
      "1980034618752\n"
     ]
    }
   ],
   "source": [
    "print(id(a))"
   ]
  },
  {
   "cell_type": "code",
   "execution_count": 9,
   "id": "975edd67-7a59-4f57-8e86-5995952cde5c",
   "metadata": {},
   "outputs": [
    {
     "name": "stdout",
     "output_type": "stream",
     "text": [
      "1980034618752\n"
     ]
    }
   ],
   "source": [
    "print(id(b))"
   ]
  },
  {
   "cell_type": "code",
   "execution_count": 10,
   "id": "59d8f9bd-af49-4400-b2bf-001da9877b25",
   "metadata": {},
   "outputs": [],
   "source": [
    "a.append(10000)"
   ]
  },
  {
   "cell_type": "code",
   "execution_count": 11,
   "id": "bb518f25-2295-4da2-a0b7-f2f40c259f29",
   "metadata": {},
   "outputs": [
    {
     "name": "stdout",
     "output_type": "stream",
     "text": [
      "[7, 43, 54, 32, 35, 4, 65, 32, 10000]\n"
     ]
    }
   ],
   "source": [
    "print(a)"
   ]
  },
  {
   "cell_type": "code",
   "execution_count": 12,
   "id": "cf163482-41e0-4822-b8ea-cd3c10a63793",
   "metadata": {},
   "outputs": [
    {
     "name": "stdout",
     "output_type": "stream",
     "text": [
      "[7, 43, 54, 32, 35, 4, 65, 32, 10000]\n"
     ]
    }
   ],
   "source": [
    "print(b)"
   ]
  },
  {
   "cell_type": "code",
   "execution_count": 13,
   "id": "15502896-2768-47d5-8416-eae69db6c6e5",
   "metadata": {},
   "outputs": [],
   "source": [
    "c=a.copy()"
   ]
  },
  {
   "cell_type": "code",
   "execution_count": 14,
   "id": "b830551b-c8dd-44ac-82e0-b2363482fb22",
   "metadata": {},
   "outputs": [
    {
     "name": "stdout",
     "output_type": "stream",
     "text": [
      "[7, 43, 54, 32, 35, 4, 65, 32, 10000]\n"
     ]
    }
   ],
   "source": [
    "print(c)"
   ]
  },
  {
   "cell_type": "code",
   "execution_count": 15,
   "id": "07f2563b-b942-45ad-9538-c1f1d44a6d50",
   "metadata": {},
   "outputs": [
    {
     "name": "stdout",
     "output_type": "stream",
     "text": [
      "[7, 43, 54, 32, 35, 4, 65, 32, 10000]\n"
     ]
    }
   ],
   "source": [
    "print(a)"
   ]
  },
  {
   "cell_type": "code",
   "execution_count": 16,
   "id": "93faeec6-d400-41a9-8ce6-35b3d0a80307",
   "metadata": {},
   "outputs": [],
   "source": [
    "c.append(999)"
   ]
  },
  {
   "cell_type": "code",
   "execution_count": 17,
   "id": "3a4c453e-4e52-4b19-8605-449da081eaf5",
   "metadata": {},
   "outputs": [
    {
     "name": "stdout",
     "output_type": "stream",
     "text": [
      "[7, 43, 54, 32, 35, 4, 65, 32, 10000, 999]\n"
     ]
    }
   ],
   "source": [
    "print(c)"
   ]
  },
  {
   "cell_type": "code",
   "execution_count": 18,
   "id": "bc0e05f6-8edc-4c09-a8d2-95e6d00adafc",
   "metadata": {},
   "outputs": [
    {
     "name": "stdout",
     "output_type": "stream",
     "text": [
      "[7, 43, 54, 32, 35, 4, 65, 32, 10000]\n"
     ]
    }
   ],
   "source": [
    "print(a)"
   ]
  },
  {
   "cell_type": "code",
   "execution_count": 19,
   "id": "37e505fe-9edd-4281-9ce0-f100b1fe6462",
   "metadata": {},
   "outputs": [],
   "source": [
    "a.sort()"
   ]
  },
  {
   "cell_type": "code",
   "execution_count": 20,
   "id": "6773f7ba-51cb-43b2-b464-470daa829d86",
   "metadata": {},
   "outputs": [
    {
     "name": "stdout",
     "output_type": "stream",
     "text": [
      "[4, 7, 32, 32, 35, 43, 54, 65, 10000]\n"
     ]
    }
   ],
   "source": [
    "print(a)"
   ]
  },
  {
   "cell_type": "code",
   "execution_count": 21,
   "id": "6649572a-bf96-4e6b-a4a1-57f9a712bd41",
   "metadata": {},
   "outputs": [],
   "source": [
    "a.sort(reverse=True)"
   ]
  },
  {
   "cell_type": "code",
   "execution_count": 22,
   "id": "3d4f9405-65b8-4728-bbc3-b2205a1d3341",
   "metadata": {},
   "outputs": [
    {
     "name": "stdout",
     "output_type": "stream",
     "text": [
      "[10000, 65, 54, 43, 35, 32, 32, 7, 4]\n"
     ]
    }
   ],
   "source": [
    "print(a)"
   ]
  },
  {
   "cell_type": "code",
   "execution_count": 23,
   "id": "36728a47-7bfc-4f7d-910e-0bf865b1a61c",
   "metadata": {},
   "outputs": [],
   "source": [
    "a.reverse()"
   ]
  },
  {
   "cell_type": "code",
   "execution_count": 24,
   "id": "2d6d35f4-7a37-4384-970a-f349129f9e77",
   "metadata": {},
   "outputs": [
    {
     "name": "stdout",
     "output_type": "stream",
     "text": [
      "[4, 7, 32, 32, 35, 43, 54, 65, 10000]\n"
     ]
    }
   ],
   "source": [
    "print(a)"
   ]
  },
  {
   "cell_type": "code",
   "execution_count": 25,
   "id": "91cdc384-8499-4187-81e9-68a6a840a230",
   "metadata": {},
   "outputs": [],
   "source": [
    "a.reverse()"
   ]
  },
  {
   "cell_type": "code",
   "execution_count": 26,
   "id": "62fb74a4-a61e-4546-9c13-0fe20e2386ec",
   "metadata": {},
   "outputs": [
    {
     "name": "stdout",
     "output_type": "stream",
     "text": [
      "[10000, 65, 54, 43, 35, 32, 32, 7, 4]\n"
     ]
    }
   ],
   "source": [
    "print(a)"
   ]
  },
  {
   "cell_type": "code",
   "execution_count": 27,
   "id": "c5bf8856-730b-46f3-b432-2f4e2de56c97",
   "metadata": {},
   "outputs": [],
   "source": [
    "a.sort()"
   ]
  },
  {
   "cell_type": "code",
   "execution_count": 28,
   "id": "5ea570d6-87ba-4b65-84a2-be8a15a43b49",
   "metadata": {},
   "outputs": [
    {
     "name": "stdout",
     "output_type": "stream",
     "text": [
      "[4, 7, 32, 32, 35, 43, 54, 65, 10000]\n"
     ]
    }
   ],
   "source": [
    "print(a)"
   ]
  },
  {
   "cell_type": "code",
   "execution_count": 29,
   "id": "59ee2abe-81bc-427e-b7c2-cea208b51c2f",
   "metadata": {},
   "outputs": [],
   "source": [
    "# reverse and sort "
   ]
  },
  {
   "cell_type": "code",
   "execution_count": 30,
   "id": "67e5d8a6-5395-444e-aa4d-35137b463a08",
   "metadata": {},
   "outputs": [],
   "source": [
    "v=[324,45,32,43,545,21]"
   ]
  },
  {
   "cell_type": "code",
   "execution_count": 31,
   "id": "1595d371-6014-4b60-a9b1-309a8f1633c3",
   "metadata": {},
   "outputs": [],
   "source": [
    "v.reverse()"
   ]
  },
  {
   "cell_type": "code",
   "execution_count": 32,
   "id": "77c3ee4c-144e-4ad8-b694-923d00166ceb",
   "metadata": {},
   "outputs": [
    {
     "name": "stdout",
     "output_type": "stream",
     "text": [
      "[21, 545, 43, 32, 45, 324]\n"
     ]
    }
   ],
   "source": [
    "print(v)"
   ]
  }
 ],
 "metadata": {
  "kernelspec": {
   "display_name": "Python 3 (ipykernel)",
   "language": "python",
   "name": "python3"
  },
  "language_info": {
   "codemirror_mode": {
    "name": "ipython",
    "version": 3
   },
   "file_extension": ".py",
   "mimetype": "text/x-python",
   "name": "python",
   "nbconvert_exporter": "python",
   "pygments_lexer": "ipython3",
   "version": "3.11.4"
  }
 },
 "nbformat": 4,
 "nbformat_minor": 5
}
