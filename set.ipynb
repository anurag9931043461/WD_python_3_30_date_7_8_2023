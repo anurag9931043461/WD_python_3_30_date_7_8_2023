{
 "cells": [
  {
   "cell_type": "markdown",
   "id": "88104944-af15-4ecb-9ac7-b23c544cfef6",
   "metadata": {},
   "source": [
    "# set\n",
    "\n",
    "> set constructor is set()\n",
    "\n",
    "> set literal is not available.\n",
    "\n",
    "> set is a unordered set of sequence of elements.\n",
    "\n",
    "> set doesnot support indexing \n",
    "\n",
    "> set doesnot support slicing \n",
    "\n",
    "> set doesnot support concatination \n",
    "\n",
    "> set doesnot allowed duplicate values.\n",
    "\n",
    "> set support hashing table to remove duplicacy\n",
    "\n",
    "> set is mutable.\n",
    "\n",
    "> set doesnot support nested set.\n",
    "\n",
    "> set always contain immutable datatype(hashable datatype)\n",
    "\n",
    "> set methods."
   ]
  },
  {
   "cell_type": "code",
   "execution_count": 1,
   "id": "1e5cc4a8-2ce0-40cb-b177-7bc88853cd13",
   "metadata": {},
   "outputs": [],
   "source": [
    "a=set()"
   ]
  },
  {
   "cell_type": "code",
   "execution_count": 2,
   "id": "baf77f56-a001-4d33-8b92-5aeebf038e95",
   "metadata": {},
   "outputs": [
    {
     "name": "stdout",
     "output_type": "stream",
     "text": [
      "set()\n"
     ]
    }
   ],
   "source": [
    "print(a)"
   ]
  },
  {
   "cell_type": "code",
   "execution_count": 4,
   "id": "33aaf4ba-c743-4892-978e-051bec1074bf",
   "metadata": {},
   "outputs": [],
   "source": [
    "a={1,1,1,1,2,2,3,34,4,54,5,56,6,6,65,4,3,3,3,3,4,45,5,55,5}"
   ]
  },
  {
   "cell_type": "code",
   "execution_count": 5,
   "id": "260d3bd0-5bda-4afa-b09a-76da16065551",
   "metadata": {},
   "outputs": [
    {
     "data": {
      "text/plain": [
       "{1, 2, 3, 4, 5, 6, 34, 45, 54, 55, 56, 65}"
      ]
     },
     "execution_count": 5,
     "metadata": {},
     "output_type": "execute_result"
    }
   ],
   "source": [
    "a"
   ]
  },
  {
   "cell_type": "code",
   "execution_count": 6,
   "id": "7d022205-258d-4fa9-8225-b7bc4358c9b9",
   "metadata": {},
   "outputs": [
    {
     "ename": "TypeError",
     "evalue": "'set' object is not subscriptable",
     "output_type": "error",
     "traceback": [
      "\u001b[1;31m---------------------------------------------------------------------------\u001b[0m",
      "\u001b[1;31mTypeError\u001b[0m                                 Traceback (most recent call last)",
      "Cell \u001b[1;32mIn[6], line 1\u001b[0m\n\u001b[1;32m----> 1\u001b[0m \u001b[43ma\u001b[49m\u001b[43m[\u001b[49m\u001b[38;5;241;43m0\u001b[39;49m\u001b[43m]\u001b[49m\n",
      "\u001b[1;31mTypeError\u001b[0m: 'set' object is not subscriptable"
     ]
    }
   ],
   "source": []
  },
  {
   "cell_type": "code",
   "execution_count": 10,
   "id": "5ca95a7f-f5b7-4270-9a39-fc4879384b11",
   "metadata": {},
   "outputs": [
    {
     "name": "stdout",
     "output_type": "stream",
     "text": [
      "1321022418816\n"
     ]
    }
   ],
   "source": [
    "a={1,2,3,4,5}\n",
    "b={4,5,6,7,8}\n",
    "print(id(a))"
   ]
  },
  {
   "cell_type": "code",
   "execution_count": 11,
   "id": "f079a571-0307-4fdd-a380-10864a5ecb10",
   "metadata": {},
   "outputs": [],
   "source": [
    "a.add(1000)"
   ]
  },
  {
   "cell_type": "code",
   "execution_count": 12,
   "id": "a3aed565-3cba-4aed-9ade-0c0543b4f0e8",
   "metadata": {},
   "outputs": [
    {
     "name": "stdout",
     "output_type": "stream",
     "text": [
      "{1, 2, 3, 4, 5, 1000}\n"
     ]
    }
   ],
   "source": [
    "print(a)"
   ]
  },
  {
   "cell_type": "code",
   "execution_count": 13,
   "id": "f8357e23-fd1e-4e9c-953c-7df8219fa96c",
   "metadata": {},
   "outputs": [
    {
     "name": "stdout",
     "output_type": "stream",
     "text": [
      "1321022418816\n"
     ]
    }
   ],
   "source": [
    "print(id(a))"
   ]
  },
  {
   "cell_type": "code",
   "execution_count": 14,
   "id": "d4deb757-740c-47ae-ba7e-706b728ede30",
   "metadata": {},
   "outputs": [],
   "source": [
    "a={1,2,3,4,5}\n",
    "b={4,5,6,7,8}"
   ]
  },
  {
   "cell_type": "code",
   "execution_count": 15,
   "id": "127947b5-0b4c-4031-b6e0-58ee542eb085",
   "metadata": {},
   "outputs": [],
   "source": [
    "a.clear()"
   ]
  },
  {
   "cell_type": "code",
   "execution_count": 16,
   "id": "5310f201-8146-435d-a982-468ea676dd98",
   "metadata": {},
   "outputs": [
    {
     "name": "stdout",
     "output_type": "stream",
     "text": [
      "set()\n"
     ]
    }
   ],
   "source": [
    "print(a)"
   ]
  },
  {
   "cell_type": "code",
   "execution_count": 17,
   "id": "353c27a0-8c5f-4f4f-9a7c-3168c120c463",
   "metadata": {},
   "outputs": [],
   "source": [
    "a={1,2,3,4,5}\n",
    "b={4,5,6,7,8}"
   ]
  },
  {
   "cell_type": "code",
   "execution_count": 18,
   "id": "19452a72-6276-43fb-979b-e3c508f23aeb",
   "metadata": {},
   "outputs": [
    {
     "name": "stdout",
     "output_type": "stream",
     "text": [
      "{1, 2, 3}\n"
     ]
    }
   ],
   "source": [
    "print(a-b)"
   ]
  },
  {
   "cell_type": "code",
   "execution_count": 19,
   "id": "c3a8028d-3e1a-475e-b38f-6711a4edc4c2",
   "metadata": {},
   "outputs": [
    {
     "data": {
      "text/plain": [
       "{1, 2, 3}"
      ]
     },
     "execution_count": 19,
     "metadata": {},
     "output_type": "execute_result"
    }
   ],
   "source": [
    "a.difference(b)"
   ]
  },
  {
   "cell_type": "code",
   "execution_count": 20,
   "id": "98f5116d-b8f7-4724-b245-7c7f09a56cc9",
   "metadata": {},
   "outputs": [
    {
     "name": "stdout",
     "output_type": "stream",
     "text": [
      "{1, 2, 3, 4, 5}\n"
     ]
    }
   ],
   "source": [
    "print(a)"
   ]
  },
  {
   "cell_type": "code",
   "execution_count": null,
   "id": "7631fcf8-e5f1-4d86-9769-65b3bc4d84f1",
   "metadata": {},
   "outputs": [],
   "source": []
  }
 ],
 "metadata": {
  "kernelspec": {
   "display_name": "Python 3 (ipykernel)",
   "language": "python",
   "name": "python3"
  },
  "language_info": {
   "codemirror_mode": {
    "name": "ipython",
    "version": 3
   },
   "file_extension": ".py",
   "mimetype": "text/x-python",
   "name": "python",
   "nbconvert_exporter": "python",
   "pygments_lexer": "ipython3",
   "version": "3.11.5"
  }
 },
 "nbformat": 4,
 "nbformat_minor": 5
}
