{
 "cells": [
  {
   "cell_type": "markdown",
   "id": "142fb451-8134-44ac-809a-a01068c073aa",
   "metadata": {},
   "source": [
    "# integer\n",
    "\n",
    "> integer constructor is int()\n",
    "\n",
    "> integer literal is 0\n",
    "\n",
    "> 0,1,2,3,4,5,6,7,8,9\n",
    "\n",
    "> integer base is 10"
   ]
  },
  {
   "cell_type": "code",
   "execution_count": 1,
   "id": "288c0282-33ae-49f4-bcf0-4bf8c35aa391",
   "metadata": {},
   "outputs": [],
   "source": [
    "a=10"
   ]
  },
  {
   "cell_type": "code",
   "execution_count": 2,
   "id": "071a3d87-4986-44d8-aa37-fa7f85b49f68",
   "metadata": {},
   "outputs": [],
   "source": [
    "b=20"
   ]
  },
  {
   "cell_type": "code",
   "execution_count": 3,
   "id": "bf2bc1f1-7cf7-458b-a847-d4c50090776b",
   "metadata": {},
   "outputs": [
    {
     "name": "stdout",
     "output_type": "stream",
     "text": [
      "10\n"
     ]
    }
   ],
   "source": [
    "print(a)"
   ]
  },
  {
   "cell_type": "code",
   "execution_count": 4,
   "id": "24330c90-3056-49dd-b31a-1f6059a9d020",
   "metadata": {},
   "outputs": [
    {
     "name": "stdout",
     "output_type": "stream",
     "text": [
      "20\n"
     ]
    }
   ],
   "source": [
    "print(b)"
   ]
  },
  {
   "cell_type": "code",
   "execution_count": 6,
   "id": "27b90975-e2cf-4338-b05d-790750168f9b",
   "metadata": {},
   "outputs": [
    {
     "name": "stdout",
     "output_type": "stream",
     "text": [
      "a+b\n"
     ]
    }
   ],
   "source": [
    "print(\"a+b\")"
   ]
  },
  {
   "cell_type": "code",
   "execution_count": 7,
   "id": "779a6e8b-ea72-4164-9372-463d70b2fa05",
   "metadata": {},
   "outputs": [
    {
     "name": "stdout",
     "output_type": "stream",
     "text": [
      "30\n"
     ]
    }
   ],
   "source": [
    "print(a+b)"
   ]
  },
  {
   "cell_type": "code",
   "execution_count": 8,
   "id": "d5320f38-0e30-45e5-9942-c71d904ee069",
   "metadata": {},
   "outputs": [],
   "source": [
    "a=0"
   ]
  },
  {
   "cell_type": "code",
   "execution_count": 9,
   "id": "f14b0b15-b6e6-4c6e-abf2-8e1c026a3748",
   "metadata": {},
   "outputs": [],
   "source": [
    "b=int()"
   ]
  },
  {
   "cell_type": "code",
   "execution_count": 10,
   "id": "c0c5dcb9-901b-4a19-9d55-d6da63f51a32",
   "metadata": {},
   "outputs": [
    {
     "name": "stdout",
     "output_type": "stream",
     "text": [
      "0\n"
     ]
    }
   ],
   "source": [
    "print(b)"
   ]
  },
  {
   "cell_type": "code",
   "execution_count": 11,
   "id": "775a4d8f-a02f-4e54-af57-bdda2812183d",
   "metadata": {},
   "outputs": [
    {
     "name": "stdout",
     "output_type": "stream",
     "text": [
      "<class 'int'>\n"
     ]
    }
   ],
   "source": [
    "print(type(a))"
   ]
  },
  {
   "cell_type": "code",
   "execution_count": 13,
   "id": "ed427c3d-6fdb-4fb3-bd0b-8a8f6b128516",
   "metadata": {},
   "outputs": [
    {
     "name": "stdout",
     "output_type": "stream",
     "text": [
      "type(b)\n"
     ]
    }
   ],
   "source": [
    "print(\"type(b)\")"
   ]
  },
  {
   "cell_type": "code",
   "execution_count": 14,
   "id": "7f3565ca-73cf-42bb-a99e-99725488ea3f",
   "metadata": {},
   "outputs": [
    {
     "name": "stdout",
     "output_type": "stream",
     "text": [
      "<class 'int'>\n"
     ]
    }
   ],
   "source": [
    "print(type(b))"
   ]
  },
  {
   "cell_type": "code",
   "execution_count": 15,
   "id": "f5a7e1f4-e3ec-4410-830b-011544a3154d",
   "metadata": {},
   "outputs": [
    {
     "ename": "SyntaxError",
     "evalue": "leading zeros in decimal integer literals are not permitted; use an 0o prefix for octal integers (600902926.py, line 1)",
     "output_type": "error",
     "traceback": [
      "\u001b[1;36m  Cell \u001b[1;32mIn[15], line 1\u001b[1;36m\u001b[0m\n\u001b[1;33m    c=01\u001b[0m\n\u001b[1;37m      ^\u001b[0m\n\u001b[1;31mSyntaxError\u001b[0m\u001b[1;31m:\u001b[0m leading zeros in decimal integer literals are not permitted; use an 0o prefix for octal integers\n"
     ]
    }
   ],
   "source": [
    "c=01"
   ]
  },
  {
   "cell_type": "code",
   "execution_count": 16,
   "id": "46914936-1369-44d1-9393-74d8c54e5572",
   "metadata": {},
   "outputs": [],
   "source": [
    "c=1"
   ]
  },
  {
   "cell_type": "code",
   "execution_count": 22,
   "id": "ecee75dc-9321-4346-aec5-29e14d14a174",
   "metadata": {},
   "outputs": [
    {
     "name": "stdout",
     "output_type": "stream",
     "text": [
      "65\n"
     ]
    }
   ],
   "source": [
    "print(ord(\"A\"))"
   ]
  },
  {
   "cell_type": "code",
   "execution_count": 23,
   "id": "5c27a065-9891-44ae-904f-7fb4bdbff847",
   "metadata": {},
   "outputs": [
    {
     "name": "stdout",
     "output_type": "stream",
     "text": [
      "0b1000001\n"
     ]
    }
   ],
   "source": [
    "print(bin(65))"
   ]
  },
  {
   "cell_type": "code",
   "execution_count": null,
   "id": "4d841455-fb4f-4e49-9441-26338ebf6093",
   "metadata": {},
   "outputs": [],
   "source": [
    "A"
   ]
  }
 ],
 "metadata": {
  "kernelspec": {
   "display_name": "Python 3 (ipykernel)",
   "language": "python",
   "name": "python3"
  },
  "language_info": {
   "codemirror_mode": {
    "name": "ipython",
    "version": 3
   },
   "file_extension": ".py",
   "mimetype": "text/x-python",
   "name": "python",
   "nbconvert_exporter": "python",
   "pygments_lexer": "ipython3",
   "version": "3.11.4"
  }
 },
 "nbformat": 4,
 "nbformat_minor": 5
}
