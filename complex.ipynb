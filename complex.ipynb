{
 "cells": [
  {
   "cell_type": "markdown",
   "id": "4122a0e0-2e86-42bc-8340-8479de23fa51",
   "metadata": {},
   "source": [
    "# complex datatype:\n",
    "\n",
    "> complex constructor is complex()\n",
    "\n",
    "> complex literal is 0j"
   ]
  },
  {
   "cell_type": "code",
   "execution_count": 2,
   "id": "afb46a31-8ce2-443a-a839-03a3e1bd40f0",
   "metadata": {},
   "outputs": [],
   "source": [
    "a=2+4j"
   ]
  },
  {
   "cell_type": "code",
   "execution_count": 3,
   "id": "37e3ac4f-9e76-4b95-a092-b9014ac8c584",
   "metadata": {},
   "outputs": [
    {
     "name": "stdout",
     "output_type": "stream",
     "text": [
      "(2+4j)\n"
     ]
    }
   ],
   "source": [
    "print(a)"
   ]
  },
  {
   "cell_type": "code",
   "execution_count": 4,
   "id": "da4c600b-fb6b-41ee-a36e-b4413760da7e",
   "metadata": {},
   "outputs": [],
   "source": [
    "b=5j"
   ]
  },
  {
   "cell_type": "code",
   "execution_count": 5,
   "id": "51b0f0b9-9b84-4a4b-a71d-ec1c02363ac1",
   "metadata": {},
   "outputs": [
    {
     "name": "stdout",
     "output_type": "stream",
     "text": [
      "5j\n"
     ]
    }
   ],
   "source": [
    "print(b)"
   ]
  },
  {
   "cell_type": "code",
   "execution_count": 11,
   "id": "ee1bc3a7-e303-4611-b542-0ac6b902a156",
   "metadata": {},
   "outputs": [
    {
     "ename": "SyntaxError",
     "evalue": "invalid syntax (2585052834.py, line 1)",
     "output_type": "error",
     "traceback": [
      "\u001b[1;36m  Cell \u001b[1;32mIn[11], line 1\u001b[1;36m\u001b[0m\n\u001b[1;33m    c=0 j\u001b[0m\n\u001b[1;37m        ^\u001b[0m\n\u001b[1;31mSyntaxError\u001b[0m\u001b[1;31m:\u001b[0m invalid syntax\n"
     ]
    }
   ],
   "source": [
    "c=0j"
   ]
  },
  {
   "cell_type": "code",
   "execution_count": 8,
   "id": "6b2c873c-2cc0-455b-82b0-23c69725c6ff",
   "metadata": {},
   "outputs": [
    {
     "name": "stdout",
     "output_type": "stream",
     "text": [
      "0j <class 'complex'>\n"
     ]
    }
   ],
   "source": [
    "print(c,type(c))"
   ]
  },
  {
   "cell_type": "code",
   "execution_count": 12,
   "id": "51c94208-bd6e-4887-9136-62b29c56d9ef",
   "metadata": {},
   "outputs": [
    {
     "data": {
      "text/plain": [
       "16j"
      ]
     },
     "execution_count": 12,
     "metadata": {},
     "output_type": "execute_result"
    }
   ],
   "source": [
    "(2+2j)*(4+4j)"
   ]
  },
  {
   "cell_type": "code",
   "execution_count": 13,
   "id": "a60e3799-a2fb-4dae-af57-3bafc89cd2ab",
   "metadata": {},
   "outputs": [],
   "source": [
    "a=complex()"
   ]
  },
  {
   "cell_type": "code",
   "execution_count": 14,
   "id": "e7445c7a-0e7f-4a45-b495-72248efe8e75",
   "metadata": {},
   "outputs": [
    {
     "name": "stdout",
     "output_type": "stream",
     "text": [
      "0j\n"
     ]
    }
   ],
   "source": [
    "print(a)"
   ]
  },
  {
   "cell_type": "code",
   "execution_count": 15,
   "id": "642429cf-0232-4380-ac52-81ceebabd22f",
   "metadata": {},
   "outputs": [],
   "source": [
    "b=0j"
   ]
  },
  {
   "cell_type": "code",
   "execution_count": 16,
   "id": "7dc3ccfc-f7a6-49b0-bbc7-0dfb891ff2a0",
   "metadata": {},
   "outputs": [
    {
     "name": "stdout",
     "output_type": "stream",
     "text": [
      "0j\n"
     ]
    }
   ],
   "source": [
    "print(b)"
   ]
  },
  {
   "cell_type": "code",
   "execution_count": null,
   "id": "17ec8d1c-1f63-4e09-a131-7dd59b4558c7",
   "metadata": {},
   "outputs": [],
   "source": []
  }
 ],
 "metadata": {
  "kernelspec": {
   "display_name": "Python 3 (ipykernel)",
   "language": "python",
   "name": "python3"
  },
  "language_info": {
   "codemirror_mode": {
    "name": "ipython",
    "version": 3
   },
   "file_extension": ".py",
   "mimetype": "text/x-python",
   "name": "python",
   "nbconvert_exporter": "python",
   "pygments_lexer": "ipython3",
   "version": "3.11.5"
  }
 },
 "nbformat": 4,
 "nbformat_minor": 5
}
