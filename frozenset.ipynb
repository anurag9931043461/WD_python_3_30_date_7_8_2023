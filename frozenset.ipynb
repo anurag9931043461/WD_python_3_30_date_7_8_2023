{
 "cells": [
  {
   "cell_type": "markdown",
   "id": "dea1d26e-9273-43f9-a0cf-bf504571d1a5",
   "metadata": {},
   "source": [
    "# frozenset\n",
    "\n",
    "> frozenset constructor is frozenset()\n",
    "\n",
    "> frozenset literal is not available.\n",
    "\n",
    "> frozenset is a unordered frozenset of sequence of elements.\n",
    "\n",
    "> frozenset doesnot support indexing \n",
    "\n",
    "> frozenset doesnot support slicing \n",
    "\n",
    "> frozenset doesnot support concatination \n",
    "\n",
    "> frozenset doesnot allowed duplicate values.\n",
    "\n",
    "> frozenset support hashing table to remove duplicacy\n",
    "\n",
    "> frozenset is immutable.\n",
    "\n",
    "> frozenset does support nested frozenset.\n",
    "\n",
    "> frozenset always contain immutable datatype(hashable datatype)\n",
    "\n",
    "> frozenset methods."
   ]
  },
  {
   "cell_type": "code",
   "execution_count": 1,
   "id": "ecf9cd50-faa8-413e-baa6-15cba19254cd",
   "metadata": {},
   "outputs": [],
   "source": [
    "a=frozenset({1,1,1,1,2,2,2,3,3,3,4,4,4})"
   ]
  },
  {
   "cell_type": "code",
   "execution_count": 2,
   "id": "66eb10c5-95a0-4928-93d4-e98e09e9e8a9",
   "metadata": {},
   "outputs": [
    {
     "name": "stdout",
     "output_type": "stream",
     "text": [
      "frozenset({1, 2, 3, 4})\n"
     ]
    }
   ],
   "source": [
    "print(a)"
   ]
  },
  {
   "cell_type": "code",
   "execution_count": 3,
   "id": "29bbda66-87a2-4bc6-90eb-1182d058162d",
   "metadata": {},
   "outputs": [],
   "source": [
    "b=frozenset((1,1,1,1,2,2,2,3,3,3,4,4,4))"
   ]
  },
  {
   "cell_type": "code",
   "execution_count": 4,
   "id": "49c36585-d7e3-425a-86de-a7a5dc57fa68",
   "metadata": {},
   "outputs": [
    {
     "name": "stdout",
     "output_type": "stream",
     "text": [
      "frozenset({1, 2, 3, 4})\n"
     ]
    }
   ],
   "source": [
    "print(b)"
   ]
  },
  {
   "cell_type": "code",
   "execution_count": 5,
   "id": "ff3d9bf6-0f7b-47b3-967e-c009b5fccf20",
   "metadata": {},
   "outputs": [],
   "source": [
    "c=frozenset([1,1,1,1,2,2,2,3,3,3,4,4,4])"
   ]
  },
  {
   "cell_type": "code",
   "execution_count": 6,
   "id": "79a0940e-436f-4c60-834b-a9e47b884851",
   "metadata": {},
   "outputs": [
    {
     "name": "stdout",
     "output_type": "stream",
     "text": [
      "frozenset({1, 2, 3, 4})\n"
     ]
    }
   ],
   "source": [
    "print(c)"
   ]
  },
  {
   "cell_type": "code",
   "execution_count": 7,
   "id": "b78396a2-e049-4cc4-9b0f-6bc3537bac5b",
   "metadata": {},
   "outputs": [
    {
     "data": {
      "text/plain": [
       "frozenset({1, 2, 3, 4, frozenset({1, 2, 3, 4, 5})})"
      ]
     },
     "execution_count": 7,
     "metadata": {},
     "output_type": "execute_result"
    }
   ],
   "source": [
    "frozenset({1,2,3,4,frozenset({1,2,3,4,5})})"
   ]
  },
  {
   "cell_type": "code",
   "execution_count": 8,
   "id": "0100b331-29b2-4bf3-8d55-3d3c24992166",
   "metadata": {},
   "outputs": [],
   "source": [
    "a=frozenset()"
   ]
  },
  {
   "cell_type": "code",
   "execution_count": 9,
   "id": "1cc51f9c-8f5a-4d18-a2ca-cd6ad70fe26c",
   "metadata": {},
   "outputs": [
    {
     "name": "stdout",
     "output_type": "stream",
     "text": [
      "frozenset()\n"
     ]
    }
   ],
   "source": [
    "print(a)"
   ]
  },
  {
   "cell_type": "markdown",
   "id": "2d00b334-3677-46a5-84ef-01729a90ae8c",
   "metadata": {},
   "source": [
    "frozenset() methods:\n",
    "\n",
    "'copy',\n",
    "\n",
    "'difference',\n",
    "\n",
    "'intersection',\n",
    "\n",
    "'isdisjoint',\n",
    "\n",
    "'issubset',\n",
    "\n",
    "'issuperset',\n",
    "\n",
    "'symmetric_difference',\n",
    "\n",
    "'union'"
   ]
  },
  {
   "cell_type": "code",
   "execution_count": 12,
   "id": "3b900815-1be7-4068-8097-828fe5a965e0",
   "metadata": {},
   "outputs": [],
   "source": [
    "a=frozenset({1,2,3,4,5})\n",
    "b=frozenset({4,5,6,7,8,9})\n",
    "c=frozenset({1,5,9})"
   ]
  },
  {
   "cell_type": "code",
   "execution_count": 14,
   "id": "61371bb1-91ba-4166-ac8e-3b3ad0d0a132",
   "metadata": {},
   "outputs": [
    {
     "data": {
      "text/plain": [
       "frozenset({2, 3})"
      ]
     },
     "execution_count": 14,
     "metadata": {},
     "output_type": "execute_result"
    }
   ],
   "source": [
    "a.difference(b,c)"
   ]
  },
  {
   "cell_type": "code",
   "execution_count": 16,
   "id": "95dcfe34-cabe-45a6-873b-1a57451a7a87",
   "metadata": {},
   "outputs": [
    {
     "data": {
      "text/plain": [
       "frozenset({5})"
      ]
     },
     "execution_count": 16,
     "metadata": {},
     "output_type": "execute_result"
    }
   ],
   "source": [
    "a.intersection(b,c)"
   ]
  },
  {
   "cell_type": "code",
   "execution_count": 19,
   "id": "c5f2f15f-e666-4c35-aa15-06345f0a4171",
   "metadata": {},
   "outputs": [
    {
     "data": {
      "text/plain": [
       "False"
      ]
     },
     "execution_count": 19,
     "metadata": {},
     "output_type": "execute_result"
    }
   ],
   "source": [
    "a.isdisjoint(b)"
   ]
  },
  {
   "cell_type": "code",
   "execution_count": 20,
   "id": "3e9e50c0-38e6-4314-b6d2-e37eaaa3efa7",
   "metadata": {},
   "outputs": [
    {
     "name": "stdout",
     "output_type": "stream",
     "text": [
      "frozenset({1, 2, 3, 4, 5})\n"
     ]
    }
   ],
   "source": [
    "print(a)"
   ]
  },
  {
   "cell_type": "code",
   "execution_count": 21,
   "id": "5fdda9e2-3fbb-49be-be55-6e8842d7827e",
   "metadata": {},
   "outputs": [
    {
     "name": "stdout",
     "output_type": "stream",
     "text": [
      "frozenset({4, 5, 6, 7, 8, 9})\n"
     ]
    }
   ],
   "source": [
    "print(b)"
   ]
  },
  {
   "cell_type": "code",
   "execution_count": 22,
   "id": "c8127a1e-c454-4d24-a60e-43f454cc2bda",
   "metadata": {},
   "outputs": [
    {
     "name": "stdout",
     "output_type": "stream",
     "text": [
      "frozenset({1, 5, 9})\n"
     ]
    }
   ],
   "source": [
    "print(c)"
   ]
  },
  {
   "cell_type": "code",
   "execution_count": 23,
   "id": "8e10f846-804d-4d0f-a936-8b0b3c6716f8",
   "metadata": {},
   "outputs": [
    {
     "data": {
      "text/plain": [
       "False"
      ]
     },
     "execution_count": 23,
     "metadata": {},
     "output_type": "execute_result"
    }
   ],
   "source": [
    "a.issubset(b)"
   ]
  },
  {
   "cell_type": "code",
   "execution_count": 24,
   "id": "da0bdb84-123f-44ad-9dba-677bb2e0b946",
   "metadata": {},
   "outputs": [],
   "source": [
    "x=frozenset({1,2,3,4,5,6})\n",
    "y=frozenset({1,2,6})"
   ]
  },
  {
   "cell_type": "code",
   "execution_count": 25,
   "id": "3f598249-6784-4ba4-b20a-386b10a69f9c",
   "metadata": {},
   "outputs": [
    {
     "data": {
      "text/plain": [
       "True"
      ]
     },
     "execution_count": 25,
     "metadata": {},
     "output_type": "execute_result"
    }
   ],
   "source": [
    "y.issubset(x)"
   ]
  },
  {
   "cell_type": "code",
   "execution_count": 26,
   "id": "fe5a4460-a898-4016-a9e4-ecbdb010939f",
   "metadata": {},
   "outputs": [
    {
     "data": {
      "text/plain": [
       "True"
      ]
     },
     "execution_count": 26,
     "metadata": {},
     "output_type": "execute_result"
    }
   ],
   "source": [
    "x.issuperset(y)"
   ]
  },
  {
   "cell_type": "code",
   "execution_count": 27,
   "id": "dd4d6534-99bb-401f-8f93-5a3cd1bef85e",
   "metadata": {},
   "outputs": [
    {
     "name": "stdout",
     "output_type": "stream",
     "text": [
      "frozenset({1, 2, 3, 4, 5})\n"
     ]
    }
   ],
   "source": [
    "print(a)"
   ]
  },
  {
   "cell_type": "code",
   "execution_count": 28,
   "id": "8b704834-bd84-47c3-adbc-32099455b2d1",
   "metadata": {},
   "outputs": [
    {
     "name": "stdout",
     "output_type": "stream",
     "text": [
      "frozenset({4, 5, 6, 7, 8, 9})\n"
     ]
    }
   ],
   "source": [
    "print(b)"
   ]
  },
  {
   "cell_type": "code",
   "execution_count": 29,
   "id": "15c9f5ee-6340-4381-b181-f0cc441b04f5",
   "metadata": {},
   "outputs": [
    {
     "name": "stdout",
     "output_type": "stream",
     "text": [
      "frozenset({1, 5, 9})\n"
     ]
    }
   ],
   "source": [
    "print(c)"
   ]
  },
  {
   "cell_type": "code",
   "execution_count": 32,
   "id": "22d34be4-aaab-471f-a0fa-f1294cd76092",
   "metadata": {},
   "outputs": [
    {
     "data": {
      "text/plain": [
       "frozenset({1, 2, 3, 6, 7, 8, 9})"
      ]
     },
     "execution_count": 32,
     "metadata": {},
     "output_type": "execute_result"
    }
   ],
   "source": [
    "a.symmetric_difference(b)"
   ]
  },
  {
   "cell_type": "code",
   "execution_count": 33,
   "id": "1229a1a2-8e56-4f44-a650-ba01ef78887b",
   "metadata": {},
   "outputs": [
    {
     "data": {
      "text/plain": [
       "frozenset({1, 2, 3, 4, 5, 6, 7, 8, 9})"
      ]
     },
     "execution_count": 33,
     "metadata": {},
     "output_type": "execute_result"
    }
   ],
   "source": [
    "a.union(b,c)"
   ]
  },
  {
   "cell_type": "code",
   "execution_count": null,
   "id": "86ae4669-52da-4bd0-97e5-fa94a9de2b58",
   "metadata": {},
   "outputs": [],
   "source": [
    "\n"
   ]
  }
 ],
 "metadata": {
  "kernelspec": {
   "display_name": "Python 3 (ipykernel)",
   "language": "python",
   "name": "python3"
  },
  "language_info": {
   "codemirror_mode": {
    "name": "ipython",
    "version": 3
   },
   "file_extension": ".py",
   "mimetype": "text/x-python",
   "name": "python",
   "nbconvert_exporter": "python",
   "pygments_lexer": "ipython3",
   "version": "3.11.5"
  }
 },
 "nbformat": 4,
 "nbformat_minor": 5
}
