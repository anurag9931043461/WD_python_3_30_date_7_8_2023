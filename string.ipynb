{
 "cells": [
  {
   "cell_type": "markdown",
   "id": "86db2131-c562-4e7c-9214-d70781de8e80",
   "metadata": {},
   "source": [
    "# string\n",
    "\n",
    "> string constructor is str()\n",
    "\n",
    "> string literal is '',\"\",\"\"\"\"\"\",''''''\n",
    "\n",
    "> string is a order set of sequence of character.\n",
    "\n",
    "> string support indexing \n",
    "\n",
    "> string support slicing \n",
    "\n",
    "> string is immutable(also called hashable)\n",
    "\n",
    "> string support concatination\n",
    "\n",
    "> string methods.\n",
    "    "
   ]
  },
  {
   "cell_type": "code",
   "execution_count": 1,
   "id": "f2fe65cf-1bb6-4952-bca8-81ba6321e790",
   "metadata": {},
   "outputs": [
    {
     "name": "stdout",
     "output_type": "stream",
     "text": [
      "Hello world\n"
     ]
    }
   ],
   "source": [
    "print(\"Hello world\")"
   ]
  },
  {
   "cell_type": "code",
   "execution_count": 7,
   "id": "9e3d7474-8b3d-4ba3-a9e9-5edce01423ba",
   "metadata": {},
   "outputs": [
    {
     "name": "stdout",
     "output_type": "stream",
     "text": [
      "Hello world\n",
      "Hello world\n"
     ]
    }
   ],
   "source": [
    "print(\"Hello world\")\n",
    "print('Hello world')\n"
   ]
  },
  {
   "cell_type": "code",
   "execution_count": 9,
   "id": "4e7b9df3-fe93-4ff1-9d58-5d237439d48d",
   "metadata": {},
   "outputs": [
    {
     "name": "stdout",
     "output_type": "stream",
     "text": [
      "Twinkle Twinkle little start\n",
      "    how I wonder what you are\n",
      "        up above the world so high\n",
      "            Like a diamond in the sky\n",
      "Twinkle Twinkle little start\n",
      "    how I wonder what you are\n",
      "        up above the world so high\n",
      "            Like a diamond in the sky\n"
     ]
    }
   ],
   "source": [
    "print(\"\"\"Twinkle Twinkle little start\n",
    "    how I wonder what you are\n",
    "        up above the world so high\n",
    "            Like a diamond in the sky\"\"\")\n",
    "print('''Twinkle Twinkle little start\n",
    "    how I wonder what you are\n",
    "        up above the world so high\n",
    "            Like a diamond in the sky''')"
   ]
  },
  {
   "cell_type": "code",
   "execution_count": 10,
   "id": "65aaf3fb-6d31-4ce6-b246-023cb3454858",
   "metadata": {},
   "outputs": [],
   "source": [
    "a=str()"
   ]
  },
  {
   "cell_type": "code",
   "execution_count": 16,
   "id": "8a532c75-7c4e-45f7-9a70-c88570fb1c59",
   "metadata": {},
   "outputs": [
    {
     "data": {
      "text/plain": [
       "''"
      ]
     },
     "execution_count": 16,
     "metadata": {},
     "output_type": "execute_result"
    }
   ],
   "source": [
    "a"
   ]
  },
  {
   "cell_type": "code",
   "execution_count": 13,
   "id": "cef8f1a9-02ef-4b74-8f0e-899546a14239",
   "metadata": {},
   "outputs": [
    {
     "data": {
      "text/plain": [
       "'hello world'"
      ]
     },
     "execution_count": 13,
     "metadata": {},
     "output_type": "execute_result"
    }
   ],
   "source": [
    "'hello world'"
   ]
  },
  {
   "cell_type": "code",
   "execution_count": 15,
   "id": "1b25af1b-f167-42f3-8aac-5f0f78f3c55f",
   "metadata": {},
   "outputs": [
    {
     "name": "stdout",
     "output_type": "stream",
     "text": [
      "Hello world\n"
     ]
    }
   ],
   "source": [
    "print(\"Hello world\")"
   ]
  },
  {
   "cell_type": "code",
   "execution_count": 17,
   "id": "39292d01-9f4d-43ca-8791-5c8f1cac6467",
   "metadata": {},
   "outputs": [],
   "source": [
    "b=\"\""
   ]
  },
  {
   "cell_type": "code",
   "execution_count": 19,
   "id": "5560722c-b9d6-40da-9937-9620d92cde7d",
   "metadata": {},
   "outputs": [
    {
     "data": {
      "text/plain": [
       "''"
      ]
     },
     "execution_count": 19,
     "metadata": {},
     "output_type": "execute_result"
    }
   ],
   "source": [
    "b"
   ]
  },
  {
   "cell_type": "code",
   "execution_count": 20,
   "id": "7e43e0e8-f510-4926-95e5-a4c5e0991c25",
   "metadata": {},
   "outputs": [],
   "source": [
    "c=\"\"\"\"\"\""
   ]
  },
  {
   "cell_type": "code",
   "execution_count": 21,
   "id": "639f103c-9343-4c7d-91da-4a285a3d7c62",
   "metadata": {},
   "outputs": [
    {
     "data": {
      "text/plain": [
       "''"
      ]
     },
     "execution_count": 21,
     "metadata": {},
     "output_type": "execute_result"
    }
   ],
   "source": [
    "c"
   ]
  },
  {
   "cell_type": "code",
   "execution_count": 22,
   "id": "eb276b1e-cc84-4614-ba80-11df4b384645",
   "metadata": {},
   "outputs": [],
   "source": [
    "d=''''''"
   ]
  },
  {
   "cell_type": "code",
   "execution_count": 23,
   "id": "01bbc893-eb9f-4649-9746-a8172b75478e",
   "metadata": {},
   "outputs": [
    {
     "data": {
      "text/plain": [
       "''"
      ]
     },
     "execution_count": 23,
     "metadata": {},
     "output_type": "execute_result"
    }
   ],
   "source": [
    "d"
   ]
  },
  {
   "cell_type": "code",
   "execution_count": 25,
   "id": "7d071e79-d206-4672-9a6a-a9598888eabc",
   "metadata": {},
   "outputs": [
    {
     "name": "stdout",
     "output_type": "stream",
     "text": [
      "<class 'str'>\n"
     ]
    }
   ],
   "source": [
    "print(type(d))"
   ]
  },
  {
   "cell_type": "code",
   "execution_count": 26,
   "id": "a5d159b7-9f2d-42f3-9ad1-4ec4ac6b4c72",
   "metadata": {},
   "outputs": [],
   "source": [
    "a=\"KRISHNA\""
   ]
  },
  {
   "cell_type": "code",
   "execution_count": 27,
   "id": "92003fd7-beb7-4dbd-9c80-25c1e8f842c4",
   "metadata": {},
   "outputs": [
    {
     "name": "stdout",
     "output_type": "stream",
     "text": [
      "KRISHNA\n"
     ]
    }
   ],
   "source": [
    "print(a)"
   ]
  },
  {
   "cell_type": "code",
   "execution_count": 28,
   "id": "8f46a183-d009-49d0-8644-2164a5bc2c61",
   "metadata": {},
   "outputs": [
    {
     "data": {
      "text/plain": [
       "'K'"
      ]
     },
     "execution_count": 28,
     "metadata": {},
     "output_type": "execute_result"
    }
   ],
   "source": [
    "a[0]"
   ]
  },
  {
   "cell_type": "code",
   "execution_count": 29,
   "id": "715fbd2b-0a25-4d9e-af11-50449cb01235",
   "metadata": {},
   "outputs": [
    {
     "data": {
      "text/plain": [
       "'K'"
      ]
     },
     "execution_count": 29,
     "metadata": {},
     "output_type": "execute_result"
    }
   ],
   "source": [
    "a[-7]"
   ]
  },
  {
   "cell_type": "code",
   "execution_count": 30,
   "id": "5e1cdc7c-8b7a-4cea-97c2-7523b48b7177",
   "metadata": {},
   "outputs": [
    {
     "data": {
      "text/plain": [
       "'A'"
      ]
     },
     "execution_count": 30,
     "metadata": {},
     "output_type": "execute_result"
    }
   ],
   "source": [
    "a[-1]"
   ]
  },
  {
   "cell_type": "code",
   "execution_count": 31,
   "id": "608cf386-f921-4fad-96dc-1db608aa8bfa",
   "metadata": {},
   "outputs": [
    {
     "data": {
      "text/plain": [
       "'A'"
      ]
     },
     "execution_count": 31,
     "metadata": {},
     "output_type": "execute_result"
    }
   ],
   "source": [
    "a[6]"
   ]
  },
  {
   "cell_type": "code",
   "execution_count": 32,
   "id": "b090cdbb-7f2c-4045-ba43-506665d2f898",
   "metadata": {},
   "outputs": [
    {
     "data": {
      "text/plain": [
       "'KRISH'"
      ]
     },
     "execution_count": 32,
     "metadata": {},
     "output_type": "execute_result"
    }
   ],
   "source": [
    "a[0:5]"
   ]
  },
  {
   "cell_type": "code",
   "execution_count": 33,
   "id": "38c918f7-8fbf-4b2e-b3a1-5f308a0c9899",
   "metadata": {},
   "outputs": [
    {
     "data": {
      "text/plain": [
       "'KRISHNA'"
      ]
     },
     "execution_count": 33,
     "metadata": {},
     "output_type": "execute_result"
    }
   ],
   "source": [
    "a[0:9873498732489732489732498732498732497832987:1]"
   ]
  },
  {
   "cell_type": "code",
   "execution_count": 34,
   "id": "622c216e-9c95-43e1-a98d-d68098c59af8",
   "metadata": {},
   "outputs": [
    {
     "data": {
      "text/plain": [
       "'KRISHNA'"
      ]
     },
     "execution_count": 34,
     "metadata": {},
     "output_type": "execute_result"
    }
   ],
   "source": [
    "a[0:7:1]"
   ]
  },
  {
   "cell_type": "code",
   "execution_count": 1,
   "id": "98156542-f8de-4828-88fc-0dfa6349d3c0",
   "metadata": {},
   "outputs": [],
   "source": [
    "a=\"KRISHNA\""
   ]
  },
  {
   "cell_type": "code",
   "execution_count": 2,
   "id": "564effcb-fcc5-4229-9a8b-d78cb6b2488f",
   "metadata": {},
   "outputs": [
    {
     "name": "stdout",
     "output_type": "stream",
     "text": [
      "KRISHNA\n"
     ]
    }
   ],
   "source": [
    "print(a)"
   ]
  },
  {
   "cell_type": "markdown",
   "id": "3ea4831c-9537-4b0b-99b2-e6703b790f35",
   "metadata": {},
   "source": [
    "indexing and slicing , set of sequence of character"
   ]
  },
  {
   "cell_type": "code",
   "execution_count": 3,
   "id": "4eb99ef6-8374-4e9e-9edd-d0dd570a96d5",
   "metadata": {},
   "outputs": [
    {
     "data": {
      "text/plain": [
       "'KRISH'"
      ]
     },
     "execution_count": 3,
     "metadata": {},
     "output_type": "execute_result"
    }
   ],
   "source": [
    "a[0:5:1]"
   ]
  },
  {
   "cell_type": "code",
   "execution_count": 9,
   "id": "0ef874b6-6fb5-43d1-af2f-7f941cde8689",
   "metadata": {},
   "outputs": [
    {
     "data": {
      "text/plain": [
       "'KRISHNA'"
      ]
     },
     "execution_count": 9,
     "metadata": {},
     "output_type": "execute_result"
    }
   ],
   "source": [
    "a[::]"
   ]
  },
  {
   "cell_type": "code",
   "execution_count": 8,
   "id": "da81603b-3bfa-44e5-8367-20df85d6a163",
   "metadata": {},
   "outputs": [
    {
     "data": {
      "text/plain": [
       "'KRISHNA'"
      ]
     },
     "execution_count": 8,
     "metadata": {},
     "output_type": "execute_result"
    }
   ],
   "source": [
    "a[-7:3423423423:1]"
   ]
  },
  {
   "cell_type": "code",
   "execution_count": 10,
   "id": "3c3bc8aa-e59a-4aaa-8e73-be88eb555573",
   "metadata": {},
   "outputs": [
    {
     "data": {
      "text/plain": [
       "'ANHSIRK'"
      ]
     },
     "execution_count": 10,
     "metadata": {},
     "output_type": "execute_result"
    }
   ],
   "source": [
    "a[-1:-8:-1]"
   ]
  },
  {
   "cell_type": "code",
   "execution_count": 11,
   "id": "097cf7d7-b3b3-49f5-b733-42a2a7359c06",
   "metadata": {},
   "outputs": [
    {
     "data": {
      "text/plain": [
       "'ANHSIRK'"
      ]
     },
     "execution_count": 11,
     "metadata": {},
     "output_type": "execute_result"
    }
   ],
   "source": [
    "a[6:-8:-1]"
   ]
  },
  {
   "cell_type": "code",
   "execution_count": 12,
   "id": "8dcd2b00-39c0-4c20-ac26-4ca69fba6f91",
   "metadata": {},
   "outputs": [
    {
     "data": {
      "text/plain": [
       "'ANHSIRK'"
      ]
     },
     "execution_count": 12,
     "metadata": {},
     "output_type": "execute_result"
    }
   ],
   "source": [
    "a[6::-1]"
   ]
  },
  {
   "cell_type": "code",
   "execution_count": 13,
   "id": "fed35273-c1f0-4946-bee5-ff51397223a2",
   "metadata": {},
   "outputs": [
    {
     "data": {
      "text/plain": [
       "'ANHSIRK'"
      ]
     },
     "execution_count": 13,
     "metadata": {},
     "output_type": "execute_result"
    }
   ],
   "source": [
    "a[::-1]"
   ]
  },
  {
   "cell_type": "code",
   "execution_count": 14,
   "id": "19729287-c184-4847-9f5f-4cd50b29826d",
   "metadata": {},
   "outputs": [
    {
     "data": {
      "text/plain": [
       "'KRISHNA'"
      ]
     },
     "execution_count": 14,
     "metadata": {},
     "output_type": "execute_result"
    }
   ],
   "source": [
    "a[::1]"
   ]
  },
  {
   "cell_type": "code",
   "execution_count": 15,
   "id": "2d6c4c95-ae34-4bb1-a3e9-704876871ae1",
   "metadata": {},
   "outputs": [
    {
     "data": {
      "text/plain": [
       "'KRISHNA'"
      ]
     },
     "execution_count": 15,
     "metadata": {},
     "output_type": "execute_result"
    }
   ],
   "source": [
    "a[:]"
   ]
  },
  {
   "cell_type": "code",
   "execution_count": 16,
   "id": "960effc3-59f5-4c47-8323-7b13fff98901",
   "metadata": {},
   "outputs": [
    {
     "name": "stdout",
     "output_type": "stream",
     "text": [
      "KRISHNA\n"
     ]
    }
   ],
   "source": [
    "print(a)"
   ]
  },
  {
   "cell_type": "code",
   "execution_count": 17,
   "id": "b17834ca-a2e4-44be-b2b2-22b9f1398275",
   "metadata": {},
   "outputs": [
    {
     "data": {
      "text/plain": [
       "'KRISHNA'"
      ]
     },
     "execution_count": 17,
     "metadata": {},
     "output_type": "execute_result"
    }
   ],
   "source": [
    "a[:]"
   ]
  },
  {
   "cell_type": "code",
   "execution_count": 18,
   "id": "796a1b3c-a3bc-4c55-80b2-b1f169bf19a5",
   "metadata": {},
   "outputs": [
    {
     "ename": "SyntaxError",
     "evalue": "invalid syntax (1145722274.py, line 1)",
     "output_type": "error",
     "traceback": [
      "\u001b[1;36m  Cell \u001b[1;32mIn[18], line 1\u001b[1;36m\u001b[0m\n\u001b[1;33m    a[]\u001b[0m\n\u001b[1;37m      ^\u001b[0m\n\u001b[1;31mSyntaxError\u001b[0m\u001b[1;31m:\u001b[0m invalid syntax\n"
     ]
    }
   ],
   "source": [
    "a[]"
   ]
  },
  {
   "cell_type": "code",
   "execution_count": 19,
   "id": "ab54daf1-ea17-452b-86b3-0c68f5935597",
   "metadata": {},
   "outputs": [
    {
     "data": {
      "text/plain": [
       "'KIHA'"
      ]
     },
     "execution_count": 19,
     "metadata": {},
     "output_type": "execute_result"
    }
   ],
   "source": [
    "a[0:7:2]"
   ]
  },
  {
   "cell_type": "code",
   "execution_count": 20,
   "id": "ac08bf02-a995-41c9-918b-a38564b9982d",
   "metadata": {},
   "outputs": [
    {
     "data": {
      "text/plain": [
       "'KSA'"
      ]
     },
     "execution_count": 20,
     "metadata": {},
     "output_type": "execute_result"
    }
   ],
   "source": [
    "a[0:7:3]"
   ]
  },
  {
   "cell_type": "code",
   "execution_count": 21,
   "id": "3a85c724-46b7-4b2d-97ef-e55d2082e438",
   "metadata": {},
   "outputs": [
    {
     "data": {
      "text/plain": [
       "'KSA'"
      ]
     },
     "execution_count": 21,
     "metadata": {},
     "output_type": "execute_result"
    }
   ],
   "source": [
    "a[0::3]"
   ]
  },
  {
   "cell_type": "code",
   "execution_count": 22,
   "id": "0a0ac26d-161a-45ae-b0b7-8ed975049d37",
   "metadata": {},
   "outputs": [
    {
     "data": {
      "text/plain": [
       "'KSA'"
      ]
     },
     "execution_count": 22,
     "metadata": {},
     "output_type": "execute_result"
    }
   ],
   "source": [
    "a[::3]"
   ]
  },
  {
   "cell_type": "code",
   "execution_count": 29,
   "id": "0a9e59f8-d374-4002-a056-6831ce9b90fe",
   "metadata": {},
   "outputs": [
    {
     "name": "stdout",
     "output_type": "stream",
     "text": [
      "a[5443534534:432423:6546]\n"
     ]
    }
   ],
   "source": [
    "print(\"a[5443534534:432423:6546]\")"
   ]
  },
  {
   "cell_type": "code",
   "execution_count": 32,
   "id": "27d581fe-f361-41db-b92b-09b089cb25fb",
   "metadata": {},
   "outputs": [
    {
     "data": {
      "text/plain": [
       "'krishna Kumar prajapati'"
      ]
     },
     "execution_count": 32,
     "metadata": {},
     "output_type": "execute_result"
    }
   ],
   "source": [
    "\"krishna\"+\" \"+\"Kumar\"+\" \"+\"prajapati\""
   ]
  },
  {
   "cell_type": "code",
   "execution_count": 34,
   "id": "69b4657c-8bca-4d6e-815a-b1c462e6fd70",
   "metadata": {},
   "outputs": [
    {
     "data": {
      "text/plain": [
       "'krishna Kumar prajapati'"
      ]
     },
     "execution_count": 34,
     "metadata": {},
     "output_type": "execute_result"
    }
   ],
   "source": [
    "\"krishna \"+\"Kumar \"+\"prajapati\""
   ]
  },
  {
   "cell_type": "code",
   "execution_count": null,
   "id": "816541f4-1698-46f5-94e5-03806b1b9d26",
   "metadata": {},
   "outputs": [],
   "source": [
    "\"krishna \"-\"Kumar \"-\"prajapati\""
   ]
  },
  {
   "cell_type": "code",
   "execution_count": 39,
   "id": "0d543f6e-e9d2-42b3-9cf8-f1e8fb0ba2e3",
   "metadata": {},
   "outputs": [],
   "source": [
    "a=\"krishna\"+\"kumar\""
   ]
  },
  {
   "cell_type": "code",
   "execution_count": 40,
   "id": "10f1c262-bb75-4517-9558-78d6cf379a4f",
   "metadata": {},
   "outputs": [
    {
     "name": "stdout",
     "output_type": "stream",
     "text": [
      "krishnakumar\n"
     ]
    }
   ],
   "source": [
    "print(a)"
   ]
  },
  {
   "cell_type": "code",
   "execution_count": 41,
   "id": "d1c0a483-ee1f-4d17-a741-ae509d17e015",
   "metadata": {},
   "outputs": [
    {
     "data": {
      "text/plain": [
       "'ramukanhsirk'"
      ]
     },
     "execution_count": 41,
     "metadata": {},
     "output_type": "execute_result"
    }
   ],
   "source": [
    "a[::-1]"
   ]
  },
  {
   "cell_type": "code",
   "execution_count": 42,
   "id": "adb0ffbd-262e-43b3-94e5-4a6dfdbe26fa",
   "metadata": {},
   "outputs": [
    {
     "name": "stdout",
     "output_type": "stream",
     "text": [
      "krishnakumar\n"
     ]
    }
   ],
   "source": [
    "print(a)"
   ]
  },
  {
   "cell_type": "code",
   "execution_count": 43,
   "id": "494d2b25-bffc-40de-9843-041dbe676b19",
   "metadata": {},
   "outputs": [],
   "source": [
    "a=\"NnkrIshna714@gmaiL.com\""
   ]
  },
  {
   "cell_type": "code",
   "execution_count": 44,
   "id": "c70a5037-925d-4ac5-8da2-214c85d7dc8f",
   "metadata": {},
   "outputs": [
    {
     "name": "stdout",
     "output_type": "stream",
     "text": [
      "nnkrishna714@gmail.com\n"
     ]
    }
   ],
   "source": [
    "print(a.casefold())"
   ]
  },
  {
   "cell_type": "code",
   "execution_count": 45,
   "id": "395169bc-adc8-416a-bb53-4938552ca0fc",
   "metadata": {},
   "outputs": [
    {
     "name": "stdout",
     "output_type": "stream",
     "text": [
      "NnkrIshna714@gmaiL.com\n"
     ]
    }
   ],
   "source": [
    "print(a)"
   ]
  },
  {
   "cell_type": "code",
   "execution_count": 46,
   "id": "bf3d8f91-9264-4a46-912a-2c81cc2c6aa7",
   "metadata": {},
   "outputs": [
    {
     "data": {
      "text/plain": [
       "'nnkrishna714@gmail.com'"
      ]
     },
     "execution_count": 46,
     "metadata": {},
     "output_type": "execute_result"
    }
   ],
   "source": [
    "a.lower()"
   ]
  },
  {
   "cell_type": "code",
   "execution_count": 47,
   "id": "897a2132-b37c-4bf2-be1a-5309749e2dbc",
   "metadata": {},
   "outputs": [
    {
     "name": "stdout",
     "output_type": "stream",
     "text": [
      "NnkrIshna714@gmaiL.com\n"
     ]
    }
   ],
   "source": [
    "print(a)"
   ]
  },
  {
   "cell_type": "code",
   "execution_count": 48,
   "id": "87c8346d-221c-4d6c-83b7-83d2d13349e9",
   "metadata": {},
   "outputs": [],
   "source": [
    "b=\"        NnkrIshna714@gmail.com       \""
   ]
  },
  {
   "cell_type": "code",
   "execution_count": 49,
   "id": "16e08168-859f-4365-b878-b5f40151333b",
   "metadata": {},
   "outputs": [
    {
     "data": {
      "text/plain": [
       "'        NnkrIshna714@gmail.com       '"
      ]
     },
     "execution_count": 49,
     "metadata": {},
     "output_type": "execute_result"
    }
   ],
   "source": [
    "b"
   ]
  },
  {
   "cell_type": "code",
   "execution_count": 51,
   "id": "7a72613d-2d2d-45d1-9825-788c5c820af1",
   "metadata": {},
   "outputs": [],
   "source": [
    "c=b.strip()"
   ]
  },
  {
   "cell_type": "code",
   "execution_count": 53,
   "id": "9a837c0e-8ca8-4542-8f72-d46cb571f865",
   "metadata": {},
   "outputs": [
    {
     "data": {
      "text/plain": [
       "'nnkrishna714@gmail.com'"
      ]
     },
     "execution_count": 53,
     "metadata": {},
     "output_type": "execute_result"
    }
   ],
   "source": [
    "c.casefold()"
   ]
  },
  {
   "cell_type": "code",
   "execution_count": 54,
   "id": "4c52a555-7bdc-4d34-acd9-85a2a2a9d18e",
   "metadata": {},
   "outputs": [
    {
     "data": {
      "text/plain": [
       "'nnkrishna714@gmail.com'"
      ]
     },
     "execution_count": 54,
     "metadata": {},
     "output_type": "execute_result"
    }
   ],
   "source": [
    "b.strip().casefold()"
   ]
  },
  {
   "cell_type": "code",
   "execution_count": 1,
   "id": "2884d115-ed34-4f05-9b4f-f3e58671154f",
   "metadata": {},
   "outputs": [],
   "source": [
    "a=\"krishna\""
   ]
  },
  {
   "cell_type": "code",
   "execution_count": 2,
   "id": "01d6334a-6c9b-4652-a4cb-e1bc62f153d3",
   "metadata": {},
   "outputs": [
    {
     "data": {
      "text/plain": [
       "['__add__',\n",
       " '__class__',\n",
       " '__contains__',\n",
       " '__delattr__',\n",
       " '__dir__',\n",
       " '__doc__',\n",
       " '__eq__',\n",
       " '__format__',\n",
       " '__ge__',\n",
       " '__getattribute__',\n",
       " '__getitem__',\n",
       " '__getnewargs__',\n",
       " '__getstate__',\n",
       " '__gt__',\n",
       " '__hash__',\n",
       " '__init__',\n",
       " '__init_subclass__',\n",
       " '__iter__',\n",
       " '__le__',\n",
       " '__len__',\n",
       " '__lt__',\n",
       " '__mod__',\n",
       " '__mul__',\n",
       " '__ne__',\n",
       " '__new__',\n",
       " '__reduce__',\n",
       " '__reduce_ex__',\n",
       " '__repr__',\n",
       " '__rmod__',\n",
       " '__rmul__',\n",
       " '__setattr__',\n",
       " '__sizeof__',\n",
       " '__str__',\n",
       " '__subclasshook__',\n",
       " 'capitalize',\n",
       " 'casefold',\n",
       " 'center',\n",
       " 'count',\n",
       " 'encode',\n",
       " 'endswith',\n",
       " 'expandtabs',\n",
       " 'find',\n",
       " 'format',\n",
       " 'format_map',\n",
       " 'index',\n",
       " 'isalnum',\n",
       " 'isalpha',\n",
       " 'isascii',\n",
       " 'isdecimal',\n",
       " 'isdigit',\n",
       " 'isidentifier',\n",
       " 'islower',\n",
       " 'isnumeric',\n",
       " 'isprintable',\n",
       " 'isspace',\n",
       " 'istitle',\n",
       " 'isupper',\n",
       " 'join',\n",
       " 'ljust',\n",
       " 'lower',\n",
       " 'lstrip',\n",
       " 'maketrans',\n",
       " 'partition',\n",
       " 'removeprefix',\n",
       " 'removesuffix',\n",
       " 'replace',\n",
       " 'rfind',\n",
       " 'rindex',\n",
       " 'rjust',\n",
       " 'rpartition',\n",
       " 'rsplit',\n",
       " 'rstrip',\n",
       " 'split',\n",
       " 'splitlines',\n",
       " 'startswith',\n",
       " 'strip',\n",
       " 'swapcase',\n",
       " 'title',\n",
       " 'translate',\n",
       " 'upper',\n",
       " 'zfill']"
      ]
     },
     "execution_count": 2,
     "metadata": {},
     "output_type": "execute_result"
    }
   ],
   "source": [
    "dir(a)"
   ]
  },
  {
   "cell_type": "markdown",
   "id": "48b394b1-66bb-4a39-8359-415c3744e202",
   "metadata": {},
   "source": [
    "'capitalize',\n",
    " 'casefold',\n",
    " 'center',\n",
    " 'count',\n",
    " 'encode',\n",
    " 'endswith',\n",
    " 'expandtabs',\n",
    " 'find',\n",
    " 'format',\n",
    " 'format_map',\n",
    " 'index',\n",
    " 'isalnum',\n",
    " 'isalpha',\n",
    " 'isascii',\n",
    " 'isdecimal',\n",
    " 'isdigit',\n",
    " 'isidentifier',\n",
    " 'islower',\n",
    " 'isnumeric',\n",
    " 'isprintable',\n",
    " 'isspace',\n",
    " 'istitle',\n",
    " 'isupper',\n",
    " 'join',\n",
    " 'ljust',\n",
    " 'lower',\n",
    " 'lstrip',\n",
    " 'maketrans',\n",
    " 'partition',\n",
    " 'removeprefix',\n",
    " 'removesuffix',\n",
    " 'replace',\n",
    " 'rfind',\n",
    " 'rindex',\n",
    " 'rjust',\n",
    " 'rpartition',\n",
    " 'rsplit',\n",
    " 'rstrip',\n",
    " 'split',\n",
    " 'splitlines',\n",
    " 'startswith',\n",
    " 'strip',\n",
    " 'swapcase',\n",
    " 'title',\n",
    " 'translate',\n",
    " 'upper',\n",
    " 'zfill'"
   ]
  },
  {
   "cell_type": "code",
   "execution_count": 3,
   "id": "e3c47724-fde1-4491-a314-4e932f07c677",
   "metadata": {},
   "outputs": [],
   "source": [
    "a=\"krishna\""
   ]
  },
  {
   "cell_type": "code",
   "execution_count": 4,
   "id": "d23ae963-dece-4edc-b881-d450e8c0e79e",
   "metadata": {},
   "outputs": [
    {
     "name": "stdout",
     "output_type": "stream",
     "text": [
      "Krishna\n"
     ]
    }
   ],
   "source": [
    "print(a.capitalize())"
   ]
  },
  {
   "cell_type": "code",
   "execution_count": 5,
   "id": "63f3361d-0415-4fd5-894b-fef02deaec85",
   "metadata": {},
   "outputs": [],
   "source": [
    "a=\"KrishNa\""
   ]
  },
  {
   "cell_type": "code",
   "execution_count": 6,
   "id": "89a8adb2-a2bb-46a8-a6c6-480aa6a5a748",
   "metadata": {},
   "outputs": [
    {
     "name": "stdout",
     "output_type": "stream",
     "text": [
      "krishna\n"
     ]
    }
   ],
   "source": [
    "print(a.casefold())"
   ]
  },
  {
   "cell_type": "code",
   "execution_count": 8,
   "id": "5f9a17b0-ea89-4467-af3f-9fd69b25a7b7",
   "metadata": {},
   "outputs": [
    {
     "name": "stdout",
     "output_type": "stream",
     "text": [
      "krishna\n"
     ]
    }
   ],
   "source": [
    "print(a.lower())"
   ]
  },
  {
   "cell_type": "code",
   "execution_count": 9,
   "id": "882ba0a0-1422-4827-bd38-f560ce42dba9",
   "metadata": {},
   "outputs": [],
   "source": [
    "b=\"    krishna\""
   ]
  },
  {
   "cell_type": "code",
   "execution_count": 10,
   "id": "f96152b4-c0a5-436f-9a04-9764432069a6",
   "metadata": {},
   "outputs": [
    {
     "data": {
      "text/plain": [
       "'    krishna'"
      ]
     },
     "execution_count": 10,
     "metadata": {},
     "output_type": "execute_result"
    }
   ],
   "source": [
    "b"
   ]
  },
  {
   "cell_type": "code",
   "execution_count": 11,
   "id": "02e12bed-9f2a-42c1-8043-9b91009359be",
   "metadata": {},
   "outputs": [
    {
     "data": {
      "text/plain": [
       "'krishna'"
      ]
     },
     "execution_count": 11,
     "metadata": {},
     "output_type": "execute_result"
    }
   ],
   "source": [
    "b.strip()"
   ]
  },
  {
   "cell_type": "code",
   "execution_count": 12,
   "id": "06f1a069-b949-4318-a35b-2111bc038497",
   "metadata": {},
   "outputs": [
    {
     "name": "stdout",
     "output_type": "stream",
     "text": [
      "    krishna\n"
     ]
    }
   ],
   "source": [
    "print(b)"
   ]
  },
  {
   "cell_type": "code",
   "execution_count": 16,
   "id": "0ac37daa-1c16-4815-8886-7455ea70db3c",
   "metadata": {},
   "outputs": [],
   "source": [
    "c=\"krishna\""
   ]
  },
  {
   "cell_type": "code",
   "execution_count": 18,
   "id": "4485c073-825d-4d78-bb16-181fc851794f",
   "metadata": {},
   "outputs": [
    {
     "data": {
      "text/plain": [
       "' krishna  '"
      ]
     },
     "execution_count": 18,
     "metadata": {},
     "output_type": "execute_result"
    }
   ],
   "source": [
    "c.center(10)"
   ]
  },
  {
   "cell_type": "code",
   "execution_count": 19,
   "id": "276d7941-95ea-437c-8865-46483827308b",
   "metadata": {},
   "outputs": [],
   "source": [
    "d=\"immutable\""
   ]
  },
  {
   "cell_type": "code",
   "execution_count": 20,
   "id": "756a8de1-c18b-4bcd-a5fe-9fc934686ba2",
   "metadata": {},
   "outputs": [
    {
     "data": {
      "text/plain": [
       "2"
      ]
     },
     "execution_count": 20,
     "metadata": {},
     "output_type": "execute_result"
    }
   ],
   "source": [
    "d.count(\"m\")"
   ]
  },
  {
   "cell_type": "code",
   "execution_count": 21,
   "id": "04484ade-3b7c-489e-bbf7-34efc29d97a2",
   "metadata": {},
   "outputs": [
    {
     "data": {
      "text/plain": [
       "1"
      ]
     },
     "execution_count": 21,
     "metadata": {},
     "output_type": "execute_result"
    }
   ],
   "source": [
    "d.count(\"im\")"
   ]
  },
  {
   "cell_type": "code",
   "execution_count": 22,
   "id": "8db2ceea-08ee-44be-8c5b-434c92026e20",
   "metadata": {},
   "outputs": [],
   "source": [
    "a=\"python is funny language beacuse python is useless\""
   ]
  },
  {
   "cell_type": "code",
   "execution_count": 23,
   "id": "57507ce7-78fe-4b9c-98ff-e8777cb30a55",
   "metadata": {},
   "outputs": [
    {
     "data": {
      "text/plain": [
       "2"
      ]
     },
     "execution_count": 23,
     "metadata": {},
     "output_type": "execute_result"
    }
   ],
   "source": [
    "a.count(\"python\")"
   ]
  },
  {
   "cell_type": "code",
   "execution_count": 24,
   "id": "1674e15b-2697-46fe-ad67-e60a0e2cf43a",
   "metadata": {},
   "outputs": [
    {
     "data": {
      "text/plain": [
       "5"
      ]
     },
     "execution_count": 24,
     "metadata": {},
     "output_type": "execute_result"
    }
   ],
   "source": [
    "a.count(\"e\")"
   ]
  },
  {
   "cell_type": "code",
   "execution_count": 25,
   "id": "7bc45baa-345c-4b7e-8a04-b0c61ed99633",
   "metadata": {},
   "outputs": [
    {
     "data": {
      "text/plain": [
       "True"
      ]
     },
     "execution_count": 25,
     "metadata": {},
     "output_type": "execute_result"
    }
   ],
   "source": [
    "a.endswith(\"s\")"
   ]
  },
  {
   "cell_type": "code",
   "execution_count": 26,
   "id": "345b8eaa-0634-49c2-8cda-b8def9a0856e",
   "metadata": {},
   "outputs": [
    {
     "data": {
      "text/plain": [
       "False"
      ]
     },
     "execution_count": 26,
     "metadata": {},
     "output_type": "execute_result"
    }
   ],
   "source": [
    "a.endswith(\"S\")"
   ]
  },
  {
   "cell_type": "code",
   "execution_count": 27,
   "id": "6a48bf3d-0c5d-4b62-bc0e-a35769f55080",
   "metadata": {},
   "outputs": [
    {
     "data": {
      "text/plain": [
       "True"
      ]
     },
     "execution_count": 27,
     "metadata": {},
     "output_type": "execute_result"
    }
   ],
   "source": [
    "a.endswith(\"useless\")"
   ]
  },
  {
   "cell_type": "code",
   "execution_count": 29,
   "id": "a5943aa6-f476-4c49-8442-dccd750a479c",
   "metadata": {},
   "outputs": [
    {
     "data": {
      "text/plain": [
       "'python is funny language beacuse python is useless'"
      ]
     },
     "execution_count": 29,
     "metadata": {},
     "output_type": "execute_result"
    }
   ],
   "source": [
    "a.expandtabs()"
   ]
  },
  {
   "cell_type": "code",
   "execution_count": 30,
   "id": "750e7011-6560-44b1-968d-f0d11790c139",
   "metadata": {},
   "outputs": [],
   "source": [
    "a=\"py\\thon is funny language beacuse py\\thon is useless\""
   ]
  },
  {
   "cell_type": "code",
   "execution_count": 31,
   "id": "c146c66f-68b9-49f4-ae07-f520c71cff40",
   "metadata": {},
   "outputs": [
    {
     "name": "stdout",
     "output_type": "stream",
     "text": [
      "py\thon is funny language beacuse py\thon is useless\n"
     ]
    }
   ],
   "source": [
    "print(a)"
   ]
  },
  {
   "cell_type": "code",
   "execution_count": 35,
   "id": "0e62bb90-96c3-4e93-aa26-30e9d0e3931e",
   "metadata": {},
   "outputs": [
    {
     "name": "stdout",
     "output_type": "stream",
     "text": [
      "py                                                                                                  hon is funny language beacuse py                                                                    hon is useless\n"
     ]
    }
   ],
   "source": [
    "print(a.expandtabs(100))"
   ]
  },
  {
   "cell_type": "code",
   "execution_count": 40,
   "id": "dac5aa72-d7b0-4064-a001-e7d00d21624e",
   "metadata": {},
   "outputs": [],
   "source": [
    "a=\"python is         funny language beacuse python is useless\""
   ]
  },
  {
   "cell_type": "code",
   "execution_count": 41,
   "id": "e2aa14a8-aa8c-42cb-9f60-297da51ac3d7",
   "metadata": {},
   "outputs": [
    {
     "data": {
      "text/plain": [
       "18"
      ]
     },
     "execution_count": 41,
     "metadata": {},
     "output_type": "execute_result"
    }
   ],
   "source": [
    "a.find(\"funny\")"
   ]
  },
  {
   "cell_type": "code",
   "execution_count": 44,
   "id": "b7258fe8-0353-4953-8f25-91768d0a0859",
   "metadata": {},
   "outputs": [
    {
     "name": "stdout",
     "output_type": "stream",
     "text": [
      "I am Rohan\n"
     ]
    }
   ],
   "source": [
    "name=\"Rohan\"\n",
    "a=\"I am {}\".format(name)\n",
    "print(a)"
   ]
  },
  {
   "cell_type": "code",
   "execution_count": 45,
   "id": "ceb9b980-6f67-46a3-80e4-9f95c7ae22e6",
   "metadata": {},
   "outputs": [],
   "source": [
    "# f string\n",
    "\n",
    "# F-string"
   ]
  },
  {
   "cell_type": "code",
   "execution_count": 46,
   "id": "8afcb1c1-90fa-40a1-9beb-ef82f844be27",
   "metadata": {},
   "outputs": [
    {
     "name": "stdout",
     "output_type": "stream",
     "text": [
      "I am krishna and age is 27\n"
     ]
    }
   ],
   "source": [
    "name=\"krishna\"\n",
    "age=27\n",
    "print(\"I am krishna and age is 27\")"
   ]
  },
  {
   "cell_type": "code",
   "execution_count": 48,
   "id": "5b053aa7-95b3-4224-8e18-b82f73e05763",
   "metadata": {},
   "outputs": [
    {
     "name": "stdout",
     "output_type": "stream",
     "text": [
      "I am Sonum and age is 89\n"
     ]
    }
   ],
   "source": [
    "name=\"Sonum\"\n",
    "age=89\n",
    "print(\"I am {} and age is {}\".format(name,age))"
   ]
  },
  {
   "cell_type": "code",
   "execution_count": 49,
   "id": "4f3fdf6d-7324-4b97-a7ed-6672ba108d71",
   "metadata": {},
   "outputs": [
    {
     "name": "stdout",
     "output_type": "stream",
     "text": [
      "I am Vicky and age is 21\n"
     ]
    }
   ],
   "source": [
    "name=\"Vicky\"\n",
    "age=21\n",
    "print(\"I am {} and age is {}\".format(name,age))"
   ]
  },
  {
   "cell_type": "code",
   "execution_count": 50,
   "id": "65d57853-5372-459b-9e34-9d5de9646ab0",
   "metadata": {},
   "outputs": [
    {
     "name": "stdout",
     "output_type": "stream",
     "text": [
      "I am Vicky and age is 21\n"
     ]
    }
   ],
   "source": [
    "name=\"Vicky\"\n",
    "age=21\n",
    "print(\"I am {0} and age is {1}\".format(name,age))"
   ]
  },
  {
   "cell_type": "code",
   "execution_count": 51,
   "id": "b07767d3-7896-4ced-8138-53eb68f61cce",
   "metadata": {},
   "outputs": [
    {
     "name": "stdout",
     "output_type": "stream",
     "text": [
      "I am 21 and age is Vicky\n"
     ]
    }
   ],
   "source": [
    "name=\"Vicky\"\n",
    "age=21\n",
    "print(\"I am {1} and age is {0}\".format(name,age))"
   ]
  },
  {
   "cell_type": "code",
   "execution_count": 52,
   "id": "48076406-f642-43f7-b9f8-4107fcb0a0d0",
   "metadata": {},
   "outputs": [
    {
     "name": "stdout",
     "output_type": "stream",
     "text": [
      "I am Vicky and age is 21\n"
     ]
    }
   ],
   "source": [
    "name=\"Vicky\"\n",
    "age=21\n",
    "print(\"I am {1} and age is {0}\".format(age,name))"
   ]
  },
  {
   "cell_type": "code",
   "execution_count": 53,
   "id": "b8e85330-7eb6-4ab5-8853-2e777eff2a1f",
   "metadata": {},
   "outputs": [
    {
     "name": "stdout",
     "output_type": "stream",
     "text": [
      "I am {name} and age is {age}\n"
     ]
    }
   ],
   "source": [
    "name=\"Vicky\"\n",
    "age=21\n",
    "print(\"I am {name} and age is {age}\")"
   ]
  },
  {
   "cell_type": "code",
   "execution_count": 54,
   "id": "1dadb454-eb36-49ec-ba35-9c70b62ebff3",
   "metadata": {},
   "outputs": [
    {
     "name": "stdout",
     "output_type": "stream",
     "text": [
      "I am Vicky and age is 21\n"
     ]
    }
   ],
   "source": [
    "name=\"Vicky\"\n",
    "age=21\n",
    "print(f\"I am {name} and age is {age}\")"
   ]
  },
  {
   "cell_type": "code",
   "execution_count": 55,
   "id": "f95c359e-242b-498a-8c54-937225753bad",
   "metadata": {},
   "outputs": [
    {
     "name": "stdout",
     "output_type": "stream",
     "text": [
      "I am Vicky and age is 21\n"
     ]
    }
   ],
   "source": [
    "name=\"Vicky\"\n",
    "age=21\n",
    "print(F\"I am {name} and age is {age}\")"
   ]
  },
  {
   "cell_type": "code",
   "execution_count": 57,
   "id": "59462a2c-d486-466f-abbc-bf0d690d89bc",
   "metadata": {},
   "outputs": [
    {
     "data": {
      "text/plain": [
       "10"
      ]
     },
     "execution_count": 57,
     "metadata": {},
     "output_type": "execute_result"
    }
   ],
   "source": [
    "len(a)"
   ]
  },
  {
   "cell_type": "code",
   "execution_count": 58,
   "id": "eec93f19-f444-408d-93c2-3140b89b9fcd",
   "metadata": {},
   "outputs": [
    {
     "data": {
      "text/plain": [
       "'I am Rohan'"
      ]
     },
     "execution_count": 58,
     "metadata": {},
     "output_type": "execute_result"
    }
   ],
   "source": [
    "a"
   ]
  },
  {
   "cell_type": "code",
   "execution_count": 60,
   "id": "1f0683b0-7bce-44ca-bedc-283e69a2553a",
   "metadata": {},
   "outputs": [
    {
     "data": {
      "text/plain": [
       "2"
      ]
     },
     "execution_count": 60,
     "metadata": {},
     "output_type": "execute_result"
    }
   ],
   "source": [
    "a.index(\"am\")"
   ]
  },
  {
   "cell_type": "code",
   "execution_count": 61,
   "id": "eb48f283-b282-4bb8-8f7d-be00a9003878",
   "metadata": {},
   "outputs": [],
   "source": [
    "a=\"krishna\""
   ]
  },
  {
   "cell_type": "code",
   "execution_count": 62,
   "id": "b1141fff-1ca9-4f27-8a85-1337724aae3c",
   "metadata": {},
   "outputs": [
    {
     "data": {
      "text/plain": [
       "'KRISHNA'"
      ]
     },
     "execution_count": 62,
     "metadata": {},
     "output_type": "execute_result"
    }
   ],
   "source": [
    "a.upper()"
   ]
  },
  {
   "cell_type": "code",
   "execution_count": 1,
   "id": "39e54b19-9230-4d18-bd5e-ea3787b60553",
   "metadata": {},
   "outputs": [],
   "source": [
    "a=\"this is krishna\""
   ]
  },
  {
   "cell_type": "code",
   "execution_count": 4,
   "id": "5da79858-dbce-46a8-b843-121c83933ca8",
   "metadata": {},
   "outputs": [
    {
     "data": {
      "text/plain": [
       "4"
      ]
     },
     "execution_count": 4,
     "metadata": {},
     "output_type": "execute_result"
    }
   ],
   "source": [
    "a.find(\" is \")"
   ]
  },
  {
   "cell_type": "code",
   "execution_count": 5,
   "id": "6a0c9d76-a491-4b25-88e8-a74752d9ff87",
   "metadata": {},
   "outputs": [],
   "source": [
    "b=\"python is funny language\""
   ]
  },
  {
   "cell_type": "code",
   "execution_count": 6,
   "id": "0e127587-e9bd-4e12-a585-9f9b92424f6e",
   "metadata": {},
   "outputs": [
    {
     "data": {
      "text/plain": [
       "10"
      ]
     },
     "execution_count": 6,
     "metadata": {},
     "output_type": "execute_result"
    }
   ],
   "source": [
    "b.find(\"funny\")"
   ]
  },
  {
   "cell_type": "code",
   "execution_count": null,
   "id": "cd74f502-bcf8-4e64-aeaf-81977b3d2a72",
   "metadata": {},
   "outputs": [],
   "source": []
  }
 ],
 "metadata": {
  "kernelspec": {
   "display_name": "Python 3 (ipykernel)",
   "language": "python",
   "name": "python3"
  },
  "language_info": {
   "codemirror_mode": {
    "name": "ipython",
    "version": 3
   },
   "file_extension": ".py",
   "mimetype": "text/x-python",
   "name": "python",
   "nbconvert_exporter": "python",
   "pygments_lexer": "ipython3",
   "version": "3.11.4"
  }
 },
 "nbformat": 4,
 "nbformat_minor": 5
}
