{
 "cells": [
  {
   "cell_type": "markdown",
   "id": "447b2362-6249-4077-8116-0b988d1825af",
   "metadata": {},
   "source": [
    "# float\n",
    "\n",
    "> float constructor is float()\n",
    "\n",
    "> float literal is 0.0\n",
    "\n",
    "> 0-9."
   ]
  },
  {
   "cell_type": "code",
   "execution_count": 1,
   "id": "457d64fa-4953-488c-a4b1-9ca6f98db41f",
   "metadata": {},
   "outputs": [],
   "source": [
    "a=float()"
   ]
  },
  {
   "cell_type": "code",
   "execution_count": 2,
   "id": "5dcf6ba5-3fc1-4358-a318-d7e5f42c43c7",
   "metadata": {},
   "outputs": [
    {
     "name": "stdout",
     "output_type": "stream",
     "text": [
      "0.0\n"
     ]
    }
   ],
   "source": [
    "print(a)"
   ]
  },
  {
   "cell_type": "code",
   "execution_count": 3,
   "id": "de5986a3-bc1c-49e0-bad9-cd0330c97318",
   "metadata": {},
   "outputs": [],
   "source": [
    "b=0.0"
   ]
  },
  {
   "cell_type": "code",
   "execution_count": 4,
   "id": "fc35373d-672b-4965-9ca1-352d3eb8fadf",
   "metadata": {},
   "outputs": [
    {
     "name": "stdout",
     "output_type": "stream",
     "text": [
      "0.0\n"
     ]
    }
   ],
   "source": [
    "print(b)"
   ]
  },
  {
   "cell_type": "code",
   "execution_count": 5,
   "id": "116e149e-1be5-4425-b274-f98ec8d2c37a",
   "metadata": {},
   "outputs": [
    {
     "name": "stdout",
     "output_type": "stream",
     "text": [
      "<class 'float'>\n"
     ]
    }
   ],
   "source": [
    "print(type(a))"
   ]
  },
  {
   "cell_type": "code",
   "execution_count": 6,
   "id": "cd311aee-e9d8-42f7-ae96-e6da1af32063",
   "metadata": {},
   "outputs": [
    {
     "name": "stdout",
     "output_type": "stream",
     "text": [
      "<class 'float'>\n"
     ]
    }
   ],
   "source": [
    "print(type(b))"
   ]
  },
  {
   "cell_type": "code",
   "execution_count": 7,
   "id": "c61838e5-4512-4397-ab31-08fe85bf97d4",
   "metadata": {},
   "outputs": [],
   "source": [
    "v=1."
   ]
  },
  {
   "cell_type": "code",
   "execution_count": 8,
   "id": "d1519efa-d622-4174-9ad1-cfe34a8c881b",
   "metadata": {},
   "outputs": [
    {
     "name": "stdout",
     "output_type": "stream",
     "text": [
      "1.0\n"
     ]
    }
   ],
   "source": [
    "print(v)"
   ]
  },
  {
   "cell_type": "code",
   "execution_count": 9,
   "id": "121168ea-1d9b-4634-bc95-74fc37a622ad",
   "metadata": {},
   "outputs": [],
   "source": [
    "x=0.1000000000000000000000000"
   ]
  },
  {
   "cell_type": "code",
   "execution_count": 10,
   "id": "ac73d63a-6dd6-49e6-8b60-7f1aafaa7030",
   "metadata": {},
   "outputs": [
    {
     "name": "stdout",
     "output_type": "stream",
     "text": [
      "0.1\n"
     ]
    }
   ],
   "source": [
    "print(x)"
   ]
  },
  {
   "cell_type": "code",
   "execution_count": 11,
   "id": "3f753e6f-a7b0-4758-bdb7-c0841d92c876",
   "metadata": {},
   "outputs": [],
   "source": [
    "y=2e5"
   ]
  },
  {
   "cell_type": "code",
   "execution_count": 12,
   "id": "49c489ae-e889-43b4-9394-49b744b05e96",
   "metadata": {},
   "outputs": [
    {
     "name": "stdout",
     "output_type": "stream",
     "text": [
      "200000.0\n"
     ]
    }
   ],
   "source": [
    "print(y)"
   ]
  },
  {
   "cell_type": "code",
   "execution_count": 13,
   "id": "f2cd73f9-704b-49e6-af35-0ff8641dfe00",
   "metadata": {},
   "outputs": [
    {
     "data": {
      "text/plain": [
       "200000.0"
      ]
     },
     "execution_count": 13,
     "metadata": {},
     "output_type": "execute_result"
    }
   ],
   "source": [
    "2*10.0**5"
   ]
  },
  {
   "cell_type": "code",
   "execution_count": 14,
   "id": "41898801-bd8c-4d22-b300-9e8841f4cf56",
   "metadata": {},
   "outputs": [
    {
     "data": {
      "text/plain": [
       "0.0"
      ]
     },
     "execution_count": 14,
     "metadata": {},
     "output_type": "execute_result"
    }
   ],
   "source": []
  },
  {
   "cell_type": "code",
   "execution_count": null,
   "id": "3e23ed79-26d4-4154-999e-4a11005327a8",
   "metadata": {},
   "outputs": [],
   "source": []
  }
 ],
 "metadata": {
  "kernelspec": {
   "display_name": "Python 3 (ipykernel)",
   "language": "python",
   "name": "python3"
  },
  "language_info": {
   "codemirror_mode": {
    "name": "ipython",
    "version": 3
   },
   "file_extension": ".py",
   "mimetype": "text/x-python",
   "name": "python",
   "nbconvert_exporter": "python",
   "pygments_lexer": "ipython3",
   "version": "3.11.5"
  }
 },
 "nbformat": 4,
 "nbformat_minor": 5
}
