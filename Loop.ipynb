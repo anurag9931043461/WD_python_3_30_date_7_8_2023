{
 "cells": [
  {
   "cell_type": "raw",
   "id": "ad7a5b67-59ce-4e19-a20e-0d50e5c580b4",
   "metadata": {},
   "source": [
    "> Loop\n",
    "    > for loop \n",
    "        > range()\n",
    "        > iterable\n",
    "        > single for loop\n",
    "        > nested for loop \n",
    "        > pattern using single for loop \n",
    "        > pattern using nested for loop\n",
    "        > list comprehension \n",
    "        > set comprehension \n",
    "        > dictionary comprehension \n",
    "        > tuple comprehension (gernerator object)\n",
    "    > while loop\n",
    "        > single while loop \n",
    "        > nested while loop\n",
    "        > pattern using single while loop\n",
    "        > pattern using nested while loop"
   ]
  },
  {
   "cell_type": "code",
   "execution_count": 2,
   "id": "68327eb0-e9d1-4fb3-a947-fd2875394263",
   "metadata": {},
   "outputs": [
    {
     "name": "stdout",
     "output_type": "stream",
     "text": [
      "Hello world\n",
      "Hello world\n",
      "Hello world\n",
      "Hello world\n",
      "Hello world\n"
     ]
    }
   ],
   "source": [
    "print(\"Hello world\")\n",
    "print(\"Hello world\")\n",
    "print(\"Hello world\")\n",
    "print(\"Hello world\")\n",
    "print(\"Hello world\")"
   ]
  },
  {
   "cell_type": "code",
   "execution_count": 8,
   "id": "e2faa999-b1b5-40a5-9c74-a4f9e016408f",
   "metadata": {
    "tags": []
   },
   "outputs": [
    {
     "name": "stdout",
     "output_type": "stream",
     "text": [
      "1\n",
      "3\n",
      "5\n",
      "7\n",
      "9\n"
     ]
    }
   ],
   "source": [
    "for i in range(1,10,2):\n",
    "    print(i)"
   ]
  },
  {
   "cell_type": "code",
   "execution_count": 9,
   "id": "e51c499f-ee20-4c2a-ae85-dfde0fd59553",
   "metadata": {
    "tags": []
   },
   "outputs": [
    {
     "name": "stdout",
     "output_type": "stream",
     "text": [
      "0\n",
      "1\n",
      "2\n",
      "3\n",
      "4\n"
     ]
    }
   ],
   "source": [
    "for i in range(0,5,1):\n",
    "    print(i)"
   ]
  },
  {
   "cell_type": "code",
   "execution_count": 12,
   "id": "5716f645-f7d5-4cdd-be0c-30928040718f",
   "metadata": {
    "tags": []
   },
   "outputs": [
    {
     "name": "stdout",
     "output_type": "stream",
     "text": [
      "0 hello world\n",
      "1 hello world\n",
      "2 hello world\n",
      "3 hello world\n",
      "4 hello world\n"
     ]
    }
   ],
   "source": [
    "for i in range(0,5,1):\n",
    "    print(i,\"hello world\",sep=\" \",end=\"\\n\")"
   ]
  },
  {
   "cell_type": "code",
   "execution_count": 13,
   "id": "f6995d2c-24cc-4166-9f10-2d0bfc3c4c0a",
   "metadata": {
    "tags": []
   },
   "outputs": [
    {
     "name": "stdout",
     "output_type": "stream",
     "text": [
      "0 hello world\n",
      "1 hello world\n",
      "3 hello world\n",
      "4 hello world\n"
     ]
    }
   ],
   "source": [
    "for i in range(0,5,1):\n",
    "    if i==2:\n",
    "        continue\n",
    "    print(i,\"hello world\",sep=\" \",end=\"\\n\")"
   ]
  },
  {
   "cell_type": "code",
   "execution_count": 14,
   "id": "54131b98-dbb6-40d6-8df8-8851b7998275",
   "metadata": {
    "tags": []
   },
   "outputs": [
    {
     "name": "stdout",
     "output_type": "stream",
     "text": [
      "0 hello world\n",
      "1 hello world\n",
      "4 hello world\n"
     ]
    }
   ],
   "source": [
    "for i in range(0,5,1):\n",
    "    if i==2 or i==3:\n",
    "        continue\n",
    "    print(i,\"hello world\",sep=\" \",end=\"\\n\")"
   ]
  },
  {
   "cell_type": "code",
   "execution_count": 15,
   "id": "8954492e-a219-46c9-9033-20a89e008efd",
   "metadata": {
    "tags": []
   },
   "outputs": [
    {
     "name": "stdout",
     "output_type": "stream",
     "text": [
      "0 hello world\n",
      "1 hello world\n",
      "2 hello world\n",
      "3 hello world\n",
      "4 hello world\n"
     ]
    }
   ],
   "source": [
    "\n",
    "for i in range(0,5,1):\n",
    "    if i==2 or i==3:\n",
    "        continue\n",
    "    print(i,\"hello world\",sep=\" \",end=\"\\n\")\n",
    "    \n",
    "    "
   ]
  },
  {
   "cell_type": "code",
   "execution_count": 16,
   "id": "4d99eae6-4027-485e-aedc-a88ebbc6d083",
   "metadata": {
    "tags": []
   },
   "outputs": [
    {
     "name": "stdout",
     "output_type": "stream",
     "text": [
      "0 hello world\n",
      "1 hello world\n",
      "4 hello world\n"
     ]
    }
   ],
   "source": [
    "\n",
    "for i in range(0,5,1):\n",
    "    if i in (3,2):\n",
    "        continue\n",
    "    else:\n",
    "        print(i,\"hello world\",sep=\" \",end=\"\\n\")"
   ]
  },
  {
   "cell_type": "code",
   "execution_count": 19,
   "id": "e5aee641-63f9-4cec-a2c9-d985640fc58b",
   "metadata": {
    "tags": []
   },
   "outputs": [
    {
     "name": "stdout",
     "output_type": "stream",
     "text": [
      "this is 123@kri47!shna$"
     ]
    }
   ],
   "source": [
    "a=\"this is 123@kri47!shna$\"\n",
    "for i in a:\n",
    "    print(i,end=\"\")"
   ]
  },
  {
   "cell_type": "code",
   "execution_count": 20,
   "id": "ff7e5d75-3bd0-4eeb-89d6-0f8b5662e10c",
   "metadata": {
    "tags": []
   },
   "outputs": [
    {
     "name": "stdout",
     "output_type": "stream",
     "text": [
      "this is krishna"
     ]
    }
   ],
   "source": [
    "a=\"this is 123@kri47!shna$\"\n",
    "for i in a:\n",
    "    if i not in \"1234567890@!$\":\n",
    "        print(i,end=\"\")"
   ]
  },
  {
   "cell_type": "code",
   "execution_count": 21,
   "id": "fdec8ffa-8ab8-408e-b2f4-b063bb043818",
   "metadata": {
    "tags": []
   },
   "outputs": [
    {
     "name": "stdout",
     "output_type": "stream",
     "text": [
      "thisiskrishna"
     ]
    }
   ],
   "source": [
    "a=\"this is 123@kri47!shna$\"\n",
    "for i in a:\n",
    "    if i not in \" 1234567890@!$\":\n",
    "        print(i,end=\"\")"
   ]
  },
  {
   "cell_type": "code",
   "execution_count": 1,
   "id": "d6ca7b6b-da56-4442-a745-596e55575738",
   "metadata": {},
   "outputs": [
    {
     "name": "stdout",
     "output_type": "stream",
     "text": [
      "enjoying earthquake\n",
      "enjoying tsunami\n",
      "enjoying cyclone\n",
      "enjoying Thunderstorm\n"
     ]
    }
   ],
   "source": [
    "god_gift=[\"earthquake\",\"tsunami\",\"cyclone\",\"Thunderstorm\", \"flood\",\"Volcanic erruption\",\"landslide\"]\n",
    "for i in god_gift:\n",
    "    if i==\"flood\":\n",
    "        break\n",
    "    print(\"enjoying\",i)"
   ]
  },
  {
   "cell_type": "code",
   "execution_count": 2,
   "id": "916daae7-fae9-4359-bb2d-1c3b1bc8e379",
   "metadata": {
    "tags": []
   },
   "outputs": [
    {
     "name": "stdout",
     "output_type": "stream",
     "text": [
      "enjoying earthquake\n"
     ]
    }
   ],
   "source": [
    "god_gift=[\"earthquake\",\"tsunami\",\"cyclone\",\"Thunderstorm\", \"flood\",\"Volcanic erruption\",\"landslide\"]\n",
    "for i in god_gift:\n",
    "    if i==\"flood\" or i==\"tsunami\":\n",
    "        break\n",
    "    print(\"enjoying\",i)"
   ]
  },
  {
   "cell_type": "code",
   "execution_count": 3,
   "id": "ebab12ea-75b0-4181-b062-8533a9b3a300",
   "metadata": {
    "tags": []
   },
   "outputs": [
    {
     "name": "stdout",
     "output_type": "stream",
     "text": [
      "enjoying earthquake\n",
      "enjoying cyclone\n",
      "enjoying Thunderstorm\n"
     ]
    }
   ],
   "source": [
    "god_gift=[\"earthquake\",\"tsunami\",\"cyclone\",\"Thunderstorm\", \"flood\",\"Volcanic erruption\",\"landslide\"]\n",
    "for i in god_gift:\n",
    "    if i in (\"flood\"):\n",
    "        break\n",
    "    if i ==\"tsunami\":\n",
    "        continue\n",
    "    print(\"enjoying\",i)"
   ]
  },
  {
   "cell_type": "code",
   "execution_count": 4,
   "id": "9b0c9510-59b0-48cf-928e-9d48f7516aa5",
   "metadata": {
    "tags": []
   },
   "outputs": [
    {
     "name": "stdin",
     "output_type": "stream",
     "text": [
      "Enter user id: krishsfiuyiw\n",
      "Enter password: gfdjfsd\n"
     ]
    },
    {
     "name": "stdout",
     "output_type": "stream",
     "text": [
      "successfully logged in \n"
     ]
    },
    {
     "name": "stdin",
     "output_type": "stream",
     "text": [
      "Enter user id: fdsfsdf\n",
      "Enter password: dfs\n"
     ]
    },
    {
     "name": "stdout",
     "output_type": "stream",
     "text": [
      "successfully logged in \n"
     ]
    },
    {
     "name": "stdin",
     "output_type": "stream",
     "text": [
      "Enter user id: fsd\n",
      "Enter password: gfdsf\n"
     ]
    },
    {
     "name": "stdout",
     "output_type": "stream",
     "text": [
      "successfully logged in \n"
     ]
    },
    {
     "name": "stdin",
     "output_type": "stream",
     "text": [
      "Enter user id: sdf\n",
      "Enter password: dfs\n"
     ]
    },
    {
     "name": "stdout",
     "output_type": "stream",
     "text": [
      "successfully logged in \n"
     ]
    },
    {
     "name": "stdin",
     "output_type": "stream",
     "text": [
      "Enter user id: df\n",
      "Enter password: sdf\n"
     ]
    },
    {
     "name": "stdout",
     "output_type": "stream",
     "text": [
      "successfully logged in \n"
     ]
    },
    {
     "name": "stdin",
     "output_type": "stream",
     "text": [
      "Enter user id: sdf\n",
      "Enter password: sdf\n"
     ]
    },
    {
     "name": "stdout",
     "output_type": "stream",
     "text": [
      "successfully logged in \n"
     ]
    },
    {
     "name": "stdin",
     "output_type": "stream",
     "text": [
      "Enter user id: sd\n",
      "Enter password: f\n"
     ]
    },
    {
     "name": "stdout",
     "output_type": "stream",
     "text": [
      "successfully logged in \n"
     ]
    },
    {
     "name": "stdin",
     "output_type": "stream",
     "text": [
      "Enter user id: f\n",
      "Enter password: sd\n"
     ]
    },
    {
     "name": "stdout",
     "output_type": "stream",
     "text": [
      "successfully logged in \n"
     ]
    },
    {
     "name": "stdin",
     "output_type": "stream",
     "text": [
      "Enter user id: sd\n",
      "Enter password: f\n"
     ]
    },
    {
     "name": "stdout",
     "output_type": "stream",
     "text": [
      "successfully logged in \n"
     ]
    },
    {
     "name": "stdin",
     "output_type": "stream",
     "text": [
      "Enter user id: sdf\n",
      "Enter password: sd\n"
     ]
    },
    {
     "name": "stdout",
     "output_type": "stream",
     "text": [
      "successfully logged in \n"
     ]
    }
   ],
   "source": [
    "admin=\"krishna123\"\n",
    "password_admin=\"krishna000@\"\n",
    "email=\"nnkrishna714@gmail.com\"\n",
    "for i in range(10):\n",
    "    user=input(\"Enter user id:\")\n",
    "    password=input(\"Enter password:\")\n",
    "    if user==admin and password==password_admin:\n",
    "        print(\"somebody try to login your account\",email)\n",
    "        break\n",
    "    else:\n",
    "        print(\"successfully logged in \")"
   ]
  },
  {
   "cell_type": "code",
   "execution_count": 5,
   "id": "2d891236-7777-4da5-a289-dfb4460ad2a0",
   "metadata": {
    "tags": []
   },
   "outputs": [
    {
     "name": "stdout",
     "output_type": "stream",
     "text": [
      "hello world\n",
      "hello world\n"
     ]
    }
   ],
   "source": [
    "for i in range(10):\n",
    "    if i==2:\n",
    "        break\n",
    "    print(\"hello world\")"
   ]
  },
  {
   "cell_type": "code",
   "execution_count": 9,
   "id": "76acf8e3-4eee-4163-b4be-4b43ee768592",
   "metadata": {
    "tags": []
   },
   "outputs": [
    {
     "name": "stdout",
     "output_type": "stream",
     "text": [
      "0\n",
      "1\n",
      "2\n",
      "3\n",
      "4\n",
      "5\n",
      "6\n",
      "7\n",
      "8\n",
      "9\n",
      "welcome to krishna's world\n"
     ]
    }
   ],
   "source": [
    "for i in range(10):\n",
    "    print(i)\n",
    "print(\"welcome to krishna's world\")"
   ]
  },
  {
   "cell_type": "code",
   "execution_count": 13,
   "id": "879481a1-5a81-4dc5-b64d-2320ad39144a",
   "metadata": {
    "tags": []
   },
   "outputs": [
    {
     "name": "stdout",
     "output_type": "stream",
     "text": [
      "hello world\n"
     ]
    }
   ],
   "source": [
    "for i in range(5):\n",
    "    pass\n",
    "\n",
    "print(\"hello world\")"
   ]
  },
  {
   "cell_type": "code",
   "execution_count": 14,
   "id": "935951d0-71ed-497c-9b2c-c1dd82492d96",
   "metadata": {
    "tags": []
   },
   "outputs": [
    {
     "name": "stdin",
     "output_type": "stream",
     "text": [
      "Enter your age 27\n",
      "Enter your name Krishna Kumar\n",
      "Enter your age 27\n",
      "Enter your name dfs\n",
      "Enter your age gdf\n",
      "Enter your name \n",
      "Enter your age dgfsdf\n",
      "Enter your name sdf\n",
      "Enter your age sdf\n",
      "Enter your name sd\n"
     ]
    },
    {
     "name": "stdout",
     "output_type": "stream",
     "text": [
      "hello world\n"
     ]
    }
   ],
   "source": [
    "for i in range(5):\n",
    "    user=input(\"Enter your age\")\n",
    "    name=input(\"Enter your name\")\n",
    "\n",
    "print(\"hello world\")"
   ]
  },
  {
   "cell_type": "code",
   "execution_count": 2,
   "id": "574084c7-64a8-483d-be20-01885d2b0d7b",
   "metadata": {},
   "outputs": [],
   "source": [
    "a=[\"abc\",\"bcd\",\"cde\"]\n",
    "\n",
    "output1: [\"cba\",\"dcb\",\"edc\"]\n",
    "output2: [\"edc\",\"dcb\",\"cba\"]"
   ]
  },
  {
   "cell_type": "code",
   "execution_count": 4,
   "id": "b1ecf88b-cc6e-4032-9fe9-6f26ade67354",
   "metadata": {
    "tags": []
   },
   "outputs": [
    {
     "name": "stdout",
     "output_type": "stream",
     "text": [
      "['cba', 'dcb', 'edc']\n"
     ]
    }
   ],
   "source": [
    "cont=[]\n",
    "for i in a:\n",
    "    cont.append(i[::-1])\n",
    "print(cont)"
   ]
  },
  {
   "cell_type": "code",
   "execution_count": 13,
   "id": "d1884c30-8ddb-4bc1-bc82-f8dca9362745",
   "metadata": {
    "tags": []
   },
   "outputs": [
    {
     "name": "stdout",
     "output_type": "stream",
     "text": [
      "['cba', 'dcb', 'edc']\n"
     ]
    }
   ],
   "source": [
    "# using nested loop\n",
    "a=[\"abc\",\"bcd\",\"cde\"]\n",
    "# output1: [\"cba\",\"dcb\",\"edc\"]\n",
    "cont2=[]\n",
    "for i in a: #i=\"abc\"\n",
    "    string=\"\"\n",
    "    for j in range(len(i)): #\"abc\"\n",
    "        string=string+i[-(j+1)]\n",
    "    cont2.append(string)\n",
    "    string=\"\"\n",
    "print(cont2)"
   ]
  },
  {
   "cell_type": "code",
   "execution_count": 6,
   "id": "63e9010a-be84-4328-babe-09da3beaa6e7",
   "metadata": {
    "tags": []
   },
   "outputs": [
    {
     "name": "stdout",
     "output_type": "stream",
     "text": [
      "a\n",
      "b\n",
      "c\n"
     ]
    }
   ],
   "source": [
    "for j in \"abc\":\n",
    "    print(j)"
   ]
  },
  {
   "cell_type": "code",
   "execution_count": 10,
   "id": "f1d4fc33-dc58-4b7a-b32d-b07bee66f859",
   "metadata": {
    "tags": []
   },
   "outputs": [
    {
     "data": {
      "text/plain": [
       "'a'"
      ]
     },
     "execution_count": 10,
     "metadata": {},
     "output_type": "execute_result"
    }
   ],
   "source": [
    "\"abc\"[-(3+0)]"
   ]
  },
  {
   "cell_type": "code",
   "execution_count": 1,
   "id": "f467a0a1-6a75-4624-9048-4ba94aba7b01",
   "metadata": {},
   "outputs": [
    {
     "name": "stdout",
     "output_type": "stream",
     "text": [
      "['cba', 'dcb', 'edc']\n"
     ]
    }
   ],
   "source": [
    "# using nested loop\n",
    "a=[\"abc\",\"bcd\",\"cde\"]\n",
    "# output1: [\"cba\",\"dcb\",\"edc\"]\n",
    "cont2=[]\n",
    "for i in a: #i=\"abc\"\n",
    "    string=\"\"\n",
    "    for j in range(len(i)): #\"abc\"\n",
    "        string=string+i[-(j+1)]\n",
    "    cont2.append(string)\n",
    "    string=\"\"\n",
    "print(cont2)"
   ]
  },
  {
   "cell_type": "code",
   "execution_count": 2,
   "id": "77c7cf0b-1838-464f-8050-cce05c894f94",
   "metadata": {},
   "outputs": [
    {
     "name": "stdout",
     "output_type": "stream",
     "text": [
      "['edc', 'dcb', 'cba']\n"
     ]
    }
   ],
   "source": [
    "a=[\"abc\",\"bcd\",\"cde\"]\n",
    "# output2: [\"edc\",\"dcb\",\"cba\"]\n",
    "cont2=[]\n",
    "for i in a: #i=\"abc\"\n",
    "    string=\"\"\n",
    "    for j in range(len(i)): #\"abc\"\n",
    "        string=string+i[-(j+1)]\n",
    "    cont2.insert(0,string)\n",
    "    string=\"\"\n",
    "print(cont2)"
   ]
  },
  {
   "cell_type": "code",
   "execution_count": 9,
   "id": "c2fb283b-56e4-4f6a-88a2-82d6504e5ad4",
   "metadata": {},
   "outputs": [],
   "source": [
    "a=[1,2,2,2,3,3,3,4,4,2]"
   ]
  },
  {
   "cell_type": "code",
   "execution_count": 11,
   "id": "a0e0b8d3-0d6e-43b1-8459-030566bdc2b0",
   "metadata": {},
   "outputs": [
    {
     "data": {
      "text/plain": [
       "9"
      ]
     },
     "execution_count": 11,
     "metadata": {},
     "output_type": "execute_result"
    }
   ],
   "source": [
    "a.index(2,len(a)-1,4323)"
   ]
  },
  {
   "cell_type": "code",
   "execution_count": 12,
   "id": "db476ea4-6977-4e81-bccb-95bbf6827566",
   "metadata": {},
   "outputs": [],
   "source": [
    "a=\"KRISHNA\""
   ]
  },
  {
   "cell_type": "code",
   "execution_count": 15,
   "id": "4274dc9c-4998-4aff-9ce0-d39e10d1ab7f",
   "metadata": {},
   "outputs": [
    {
     "name": "stdout",
     "output_type": "stream",
     "text": [
      "ANHSIRK"
     ]
    }
   ],
   "source": [
    "print(a[-1],end=\"\")\n",
    "print(a[-2],end=\"\")\n",
    "print(a[-3],end=\"\")\n",
    "print(a[-4],end=\"\")\n",
    "print(a[-5],end=\"\")\n",
    "print(a[-6],end=\"\")\n",
    "print(a[-7],end=\"\")"
   ]
  },
  {
   "cell_type": "code",
   "execution_count": 17,
   "id": "afcc1a06-71f8-4b06-b907-8130ad42a7bc",
   "metadata": {},
   "outputs": [
    {
     "name": "stdout",
     "output_type": "stream",
     "text": [
      "ANHSIRK"
     ]
    }
   ],
   "source": [
    "for i in range(len(a)):\n",
    "    print(a[-(i+1)],end=\"\")"
   ]
  },
  {
   "cell_type": "code",
   "execution_count": 19,
   "id": "408c2782-367e-4852-9841-0f4fa0595c5f",
   "metadata": {},
   "outputs": [
    {
     "name": "stdout",
     "output_type": "stream",
     "text": [
      "ANHSIRK\n"
     ]
    }
   ],
   "source": [
    "a=\"KRISHNA\"\n",
    "def reverse(a):\n",
    "    if len(a) == 0:\n",
    "        return a\n",
    "    else:\n",
    "        return reverse(a[1:]) + a[0]\n",
    " \n",
    "print(reverse(a))"
   ]
  },
  {
   "cell_type": "code",
   "execution_count": 30,
   "id": "8ae80b50-bef8-4cd5-8267-1b897068b1ef",
   "metadata": {},
   "outputs": [
    {
     "name": "stdout",
     "output_type": "stream",
     "text": [
      "KRISHNA\n"
     ]
    }
   ],
   "source": [
    "print(a)"
   ]
  },
  {
   "cell_type": "code",
   "execution_count": 26,
   "id": "70bff41b-f707-4193-b737-f4fc5e77edf0",
   "metadata": {},
   "outputs": [
    {
     "name": "stdout",
     "output_type": "stream",
     "text": [
      "ANHSIRK\n"
     ]
    }
   ],
   "source": [
    "a=\"KRISHNA\"\n",
    "string=\"\"\n",
    "for j in range(len(a)): #\"abc\"\n",
    "        string=string+a[-(j+1)]\n",
    "print(string)"
   ]
  },
  {
   "cell_type": "markdown",
   "id": "c8af5d64-c992-4b71-ac04-328e126fb18a",
   "metadata": {},
   "source": [
    "# single for loop pattern "
   ]
  },
  {
   "cell_type": "code",
   "execution_count": 29,
   "id": "4a231f6a-429c-4f19-9a16-019f04bd33e6",
   "metadata": {},
   "outputs": [
    {
     "name": "stdout",
     "output_type": "stream",
     "text": [
      "*\n",
      "**\n",
      "***\n",
      "****\n",
      "*****\n"
     ]
    }
   ],
   "source": [
    "print(\"*\"*1)\n",
    "print(\"*\"*2)\n",
    "print(\"*\"*3)\n",
    "print(\"*\"*4)\n",
    "print(\"*\"*5)"
   ]
  },
  {
   "cell_type": "code",
   "execution_count": 30,
   "id": "bd82a51c-b74f-4ef7-b255-d97cf554ef5d",
   "metadata": {},
   "outputs": [
    {
     "name": "stdout",
     "output_type": "stream",
     "text": [
      "*\n",
      "**\n",
      "***\n",
      "****\n",
      "*****\n"
     ]
    }
   ],
   "source": [
    "for i in range(5):\n",
    "    print(\"*\"*(i+1))"
   ]
  },
  {
   "cell_type": "code",
   "execution_count": 31,
   "id": "7cd83f71-f887-4e6b-951f-b6153e89afb8",
   "metadata": {},
   "outputs": [
    {
     "name": "stdout",
     "output_type": "stream",
     "text": [
      "*\n",
      "**\n",
      "***\n",
      "****\n",
      "*****\n"
     ]
    }
   ],
   "source": [
    "for i in range(5):\n",
    "    for j in range(i+1):\n",
    "        print(\"*\",end=\"\")\n",
    "    print()"
   ]
  },
  {
   "cell_type": "code",
   "execution_count": 37,
   "id": "7760ef8d-fa70-4732-b4bc-1c52338b0c22",
   "metadata": {},
   "outputs": [
    {
     "name": "stdout",
     "output_type": "stream",
     "text": [
      "1\n",
      "21\n",
      "321\n",
      "4321\n",
      "54321\n"
     ]
    }
   ],
   "source": [
    "for i in range(1,6):\n",
    "    for j in range(i):\n",
    "        print(i-j,end=\"\")\n",
    "    print()"
   ]
  },
  {
   "cell_type": "code",
   "execution_count": 38,
   "id": "cc25c4e6-2f3e-4138-a4d5-1b3fd8c86231",
   "metadata": {},
   "outputs": [
    {
     "name": "stdout",
     "output_type": "stream",
     "text": [
      "1 \n",
      "2 1 \n",
      "3 2 1 \n",
      "4 3 2 1 \n",
      "5 4 3 2 1 \n"
     ]
    }
   ],
   "source": [
    "for i in range(1,6):\n",
    "    for j in range(i):\n",
    "        print(i-j,end=\" \")\n",
    "    print()"
   ]
  },
  {
   "cell_type": "code",
   "execution_count": 46,
   "id": "6417b177-c9f0-4e6c-a8d1-c06a7527a37f",
   "metadata": {},
   "outputs": [
    {
     "name": "stdout",
     "output_type": "stream",
     "text": [
      "9 \n",
      "8 7 \n",
      "6 5 4 \n",
      "3 2 1 0 \n"
     ]
    }
   ],
   "source": [
    "k=9\n",
    "for i in range(0,4):\n",
    "    for j in range(i+1):\n",
    "        print(k,end=\" \")\n",
    "        k=k-1\n",
    "    print()"
   ]
  },
  {
   "cell_type": "markdown",
   "id": "41051e15-3e69-480b-a966-c688fe4ba1c1",
   "metadata": {},
   "source": [
    "# comprehension:\n",
    "\n",
    "    > List comprehension\n",
    "\n",
    "    > set comprehension\n",
    "\n",
    "    > forzenset comprehension\n",
    "\n",
    "    > dictionary comprehension \n",
    "\n",
    "    > tuple comprehension(generator)"
   ]
  },
  {
   "cell_type": "code",
   "execution_count": 4,
   "id": "359c29c4-671d-471a-ab81-58d16d417ffa",
   "metadata": {},
   "outputs": [
    {
     "name": "stdout",
     "output_type": "stream",
     "text": [
      "[0, 1, 2, 3, 4, 5, 6, 7, 8, 9]\n"
     ]
    }
   ],
   "source": [
    "cont=[]\n",
    "for i in range(10):\n",
    "    cont.append(i)\n",
    "print(cont)"
   ]
  },
  {
   "cell_type": "code",
   "execution_count": 14,
   "id": "85628ae9-ad17-4fba-9b15-34c66469f7d1",
   "metadata": {},
   "outputs": [],
   "source": [
    "cont2=[i for i in range(10) if i%2==1]    # list comprehension "
   ]
  },
  {
   "cell_type": "code",
   "execution_count": 15,
   "id": "8c7d82ff-db94-4fd6-8960-037c36942604",
   "metadata": {},
   "outputs": [
    {
     "name": "stdout",
     "output_type": "stream",
     "text": [
      "[1, 3, 5, 7, 9]\n"
     ]
    }
   ],
   "source": [
    "print(cont2)"
   ]
  },
  {
   "cell_type": "code",
   "execution_count": 17,
   "id": "1756fdaf-3dfb-4701-a66f-8aa4df2b4b0c",
   "metadata": {},
   "outputs": [
    {
     "name": "stdout",
     "output_type": "stream",
     "text": [
      "{0, 1, 2, 3, 4, 5, 6, 7, 8, 9}\n"
     ]
    }
   ],
   "source": [
    "cont=set()\n",
    "for i in range(10):\n",
    "    cont.add(i)\n",
    "print(cont)"
   ]
  },
  {
   "cell_type": "code",
   "execution_count": 18,
   "id": "7b2b7b30-0f1d-42f1-809b-cb27478ba564",
   "metadata": {},
   "outputs": [],
   "source": []
  },
  {
   "cell_type": "code",
   "execution_count": 19,
   "id": "c4bcd7a9-9312-4d4d-86cf-dc41c5057be2",
   "metadata": {},
   "outputs": [
    {
     "data": {
      "text/plain": [
       "{' ', 'H', 'd', 'e', 'l', 'o', 'r', 'w'}"
      ]
     },
     "execution_count": 19,
     "metadata": {},
     "output_type": "execute_result"
    }
   ],
   "source": []
  },
  {
   "cell_type": "code",
   "execution_count": 24,
   "id": "83c565ef-928c-416f-80c3-46fe3f0f517b",
   "metadata": {},
   "outputs": [
    {
     "name": "stdout",
     "output_type": "stream",
     "text": [
      "{'e': 1, 'r': 1, 'l': 3, 'H': 1, 'w': 1, 'd': 1, ' ': 1, 'o': 2}\n"
     ]
    }
   ],
   "source": [
    "a=\"Hello world\"\n",
    "set(a)\n",
    "d={}\n",
    "for i in set(a):\n",
    "    d.update({i:a.count(i)})\n",
    "print(d)"
   ]
  },
  {
   "cell_type": "code",
   "execution_count": null,
   "id": "c7dd7b3d-5681-4220-b01c-2967c215fb86",
   "metadata": {},
   "outputs": [],
   "source": [
    "a=\n",
    "set(\"Hello world\")\n",
    "d={}\n",
    "for i in set(\"Hello world\"):\n",
    "    d.update({i:\"Hello world\".count(i)})\n",
    "print(d)"
   ]
  },
  {
   "cell_type": "code",
   "execution_count": 26,
   "id": "a901d38f-7189-4a25-9b41-2be6bdda0a30",
   "metadata": {},
   "outputs": [
    {
     "data": {
      "text/plain": [
       "{'e': 1, 'r': 1, 'l': 3, 'H': 1, 'w': 1, 'd': 1, ' ': 1, 'o': 2}"
      ]
     },
     "execution_count": 26,
     "metadata": {},
     "output_type": "execute_result"
    }
   ],
   "source": [
    "{i:\"Hello world\".count(i) for i in set(\"Hello world\")}"
   ]
  },
  {
   "cell_type": "code",
   "execution_count": 32,
   "id": "e1cded64-c142-45b6-91bf-286dc0cbdf1a",
   "metadata": {},
   "outputs": [],
   "source": [
    "a={1:\"krishna\",2:\"Kumar\",3:\"Prajapati\"}"
   ]
  },
  {
   "cell_type": "code",
   "execution_count": 33,
   "id": "f34f7f01-919e-4a8e-a3a4-83a4e85ab2eb",
   "metadata": {},
   "outputs": [
    {
     "name": "stdout",
     "output_type": "stream",
     "text": [
      "1 krishna\n",
      "2 Kumar\n",
      "3 Prajapati\n"
     ]
    }
   ],
   "source": [
    "for i in a:\n",
    "    print(i,a[i])"
   ]
  },
  {
   "cell_type": "code",
   "execution_count": 35,
   "id": "20c3a280-3a93-4f56-bf0a-2e82e2b06e4c",
   "metadata": {},
   "outputs": [
    {
     "data": {
      "text/plain": [
       "dict_keys([1, 2, 3])"
      ]
     },
     "execution_count": 35,
     "metadata": {},
     "output_type": "execute_result"
    }
   ],
   "source": [
    "a.keys()"
   ]
  },
  {
   "cell_type": "code",
   "execution_count": 39,
   "id": "250606b6-cf8f-45a9-8688-ac2b85d5116e",
   "metadata": {},
   "outputs": [
    {
     "name": "stdout",
     "output_type": "stream",
     "text": [
      "{1: 'krishna', 2: 'Kumar', 3: 'Prajapati'}\n"
     ]
    }
   ],
   "source": [
    "a=[1,2,3]\n",
    "b=[\"krishna\",\"Kumar\",\"Prajapati\"]\n",
    "d={}\n",
    "for i,j in zip(a,b):\n",
    "    d.update({i:j}) \n",
    "print(d)"
   ]
  },
  {
   "cell_type": "code",
   "execution_count": 40,
   "id": "64f14711-da46-4a6b-a4bf-863543ae9036",
   "metadata": {},
   "outputs": [
    {
     "name": "stdout",
     "output_type": "stream",
     "text": [
      "{1: 'krishna', 2: 'Kumar', 3: 'Prajapati'}\n"
     ]
    }
   ],
   "source": [
    "e={i:j for i,j in zip(a,b)}\n",
    "print(e)"
   ]
  },
  {
   "cell_type": "code",
   "execution_count": 48,
   "id": "563cb6b9-6919-40cb-93cd-dda3121ccbc6",
   "metadata": {},
   "outputs": [
    {
     "name": "stdout",
     "output_type": "stream",
     "text": [
      "frozenset({0, 1, 2, 3, 4, 5, 6, 7, 8, 9})\n"
     ]
    }
   ],
   "source": [
    "a=frozenset()\n",
    "for i in range(10):\n",
    "    a=a.union({i})\n",
    "print(a)"
   ]
  },
  {
   "cell_type": "code",
   "execution_count": 49,
   "id": "2a4a1efd-9ced-47fd-88dc-504ae4e9d08b",
   "metadata": {},
   "outputs": [
    {
     "name": "stdout",
     "output_type": "stream",
     "text": [
      "frozenset({0, 1, 2, 3, 4, 5, 6, 7, 8, 9})\n"
     ]
    }
   ],
   "source": [
    "b=frozenset({i for i in range(10)})\n",
    "print(b)"
   ]
  },
  {
   "cell_type": "code",
   "execution_count": 44,
   "id": "b6ecc0e6-c298-4db5-af3a-07181bd6a7d1",
   "metadata": {},
   "outputs": [
    {
     "data": {
      "text/plain": [
       "frozenset({1})"
      ]
     },
     "execution_count": 44,
     "metadata": {},
     "output_type": "execute_result"
    }
   ],
   "source": [
    "a.union({1})"
   ]
  },
  {
   "cell_type": "code",
   "execution_count": 50,
   "id": "122bdf04-2df9-4524-8526-26c67123f106",
   "metadata": {},
   "outputs": [
    {
     "name": "stdout",
     "output_type": "stream",
     "text": [
      "(0, 1, 2, 3, 4, 5, 6, 7, 8, 9)\n"
     ]
    }
   ],
   "source": [
    "a=()\n",
    "for i in range(10):\n",
    "    a=a+(i,)\n",
    "print(a)"
   ]
  },
  {
   "cell_type": "code",
   "execution_count": 64,
   "id": "22064217-f124-4b72-a6f9-6c1056576306",
   "metadata": {},
   "outputs": [],
   "source": [
    "a=(i for i in range(10))"
   ]
  },
  {
   "cell_type": "code",
   "execution_count": 63,
   "id": "18115544-ca05-4365-885b-6a2cb053c800",
   "metadata": {},
   "outputs": [
    {
     "ename": "StopIteration",
     "evalue": "",
     "output_type": "error",
     "traceback": [
      "\u001b[1;31m---------------------------------------------------------------------------\u001b[0m",
      "\u001b[1;31mStopIteration\u001b[0m                             Traceback (most recent call last)",
      "Cell \u001b[1;32mIn[63], line 1\u001b[0m\n\u001b[1;32m----> 1\u001b[0m \u001b[38;5;28;43mnext\u001b[39;49m\u001b[43m(\u001b[49m\u001b[43ma\u001b[49m\u001b[43m)\u001b[49m\n",
      "\u001b[1;31mStopIteration\u001b[0m: "
     ]
    }
   ],
   "source": [
    "next(a)"
   ]
  },
  {
   "cell_type": "code",
   "execution_count": 76,
   "id": "6ea5daf7-2a5f-42c5-95ec-b9bb469b26f4",
   "metadata": {},
   "outputs": [
    {
     "ename": "StopIteration",
     "evalue": "",
     "output_type": "error",
     "traceback": [
      "\u001b[1;31m---------------------------------------------------------------------------\u001b[0m",
      "\u001b[1;31mStopIteration\u001b[0m                             Traceback (most recent call last)",
      "Cell \u001b[1;32mIn[76], line 1\u001b[0m\n\u001b[1;32m----> 1\u001b[0m \u001b[43ma\u001b[49m\u001b[38;5;241;43m.\u001b[39;49m\u001b[38;5;21;43m__next__\u001b[39;49m\u001b[43m(\u001b[49m\u001b[43m)\u001b[49m\n",
      "\u001b[1;31mStopIteration\u001b[0m: "
     ]
    }
   ],
   "source": [
    "a.__next__()"
   ]
  },
  {
   "cell_type": "code",
   "execution_count": 77,
   "id": "a4142c6b-fba8-4ff7-a696-db1a23f156e8",
   "metadata": {},
   "outputs": [],
   "source": [
    "a=10\n",
    "b=20"
   ]
  },
  {
   "cell_type": "code",
   "execution_count": 79,
   "id": "6b27da49-1c53-4b98-87a4-7deefc32042a",
   "metadata": {},
   "outputs": [
    {
     "data": {
      "text/plain": [
       "30"
      ]
     },
     "execution_count": 79,
     "metadata": {},
     "output_type": "execute_result"
    }
   ],
   "source": [
    "a.__add__(b)"
   ]
  },
  {
   "cell_type": "code",
   "execution_count": 80,
   "id": "c08d201f-1f24-4d64-b003-d052d4fa4f34",
   "metadata": {},
   "outputs": [
    {
     "data": {
      "text/plain": [
       "30"
      ]
     },
     "execution_count": 80,
     "metadata": {},
     "output_type": "execute_result"
    }
   ],
   "source": [
    "a+b"
   ]
  },
  {
   "cell_type": "code",
   "execution_count": 4,
   "id": "eb951e3e-ecb3-4673-acf0-0067fa71bd6d",
   "metadata": {},
   "outputs": [],
   "source": [
    "a=[1,2,3,4,5]\n",
    "b=[\"a\",\"b\",'c','d','e']\n",
    "dictionary={}\n",
    "for i,j in zip(a,b):\n",
    "    dictionary.update({i:j})"
   ]
  },
  {
   "cell_type": "code",
   "execution_count": 5,
   "id": "5402733c-f66d-4395-9261-6aa7b88266c0",
   "metadata": {},
   "outputs": [
    {
     "data": {
      "text/plain": [
       "{1: 'a', 2: 'b', 3: 'c', 4: 'd', 5: 'e'}"
      ]
     },
     "execution_count": 5,
     "metadata": {},
     "output_type": "execute_result"
    }
   ],
   "source": [
    "dictionary"
   ]
  },
  {
   "cell_type": "code",
   "execution_count": 8,
   "id": "ff07b39a-195f-4323-90ce-12ac5eee5366",
   "metadata": {},
   "outputs": [
    {
     "name": "stdout",
     "output_type": "stream",
     "text": [
      "{1: 'a', 2: 'b', 3: 'c', 4: 'd', 5: 'e'}\n"
     ]
    }
   ],
   "source": [
    "# comprehension of dictionary:\n",
    "\n",
    "print({i:j for i,j in zip([1,2,3,4,5],[\"a\",\"b\",'c','d','e'])})"
   ]
  },
  {
   "cell_type": "code",
   "execution_count": 18,
   "id": "bbab1bbd-8cea-4607-b433-a9f0a07de0c5",
   "metadata": {},
   "outputs": [
    {
     "name": "stdout",
     "output_type": "stream",
     "text": [
      "1 a\n",
      "2 b\n",
      "3 c\n",
      "4 d\n",
      "5 e\n"
     ]
    }
   ],
   "source": [
    "a=[1,2,3,4,5]\n",
    "b=[\"a\",\"b\",'c','d','e']\n",
    "for i,j in zip(a,b):\n",
    "    print(i,j)"
   ]
  },
  {
   "cell_type": "markdown",
   "id": "6b24f210-f3aa-4940-a58c-f751f3a3ffe6",
   "metadata": {},
   "source": [
    "while loop\n",
    "\n",
    "        > single while loop \n",
    "\n",
    "        > nested while loop\n",
    "        \n",
    "        > pattern using single while loop\n",
    "        \n",
    "        > pattern using nested while loop"
   ]
  },
  {
   "cell_type": "code",
   "execution_count": 19,
   "id": "ebc1468e-f7ef-403d-8ba4-6839c907051c",
   "metadata": {},
   "outputs": [],
   "source": [
    "# core syntex of while loop \n",
    "\n",
    "# initializer\n",
    "# while condition:\n",
    "#     statment(s)\n",
    "#     increment/decrement"
   ]
  },
  {
   "cell_type": "code",
   "execution_count": 26,
   "id": "84a3c39a-f90f-4aa3-a1a3-110f52d394ef",
   "metadata": {},
   "outputs": [
    {
     "name": "stdout",
     "output_type": "stream",
     "text": [
      "1 Hello world\n",
      "2 Hello world\n",
      "3 Hello world\n",
      "4 Hello world\n",
      "5 Hello world\n",
      "6 Hello world\n",
      "7 Hello world\n",
      "8 Hello world\n",
      "9 Hello world\n"
     ]
    }
   ],
   "source": [
    "i=1\n",
    "while i<10:\n",
    "    print(i,\"Hello world\",sep=\" \",end=\"\\n\")\n",
    "    i=i+1"
   ]
  },
  {
   "cell_type": "code",
   "execution_count": 27,
   "id": "54ad257f-6227-4843-b6cf-c9ea4dc5a939",
   "metadata": {},
   "outputs": [
    {
     "name": "stdout",
     "output_type": "stream",
     "text": [
      "9 Hello world\n",
      "8 Hello world\n",
      "7 Hello world\n",
      "6 Hello world\n",
      "5 Hello world\n",
      "4 Hello world\n",
      "3 Hello world\n",
      "2 Hello world\n",
      "1 Hello world\n"
     ]
    }
   ],
   "source": [
    "i=1\n",
    "while i<10:\n",
    "    print(10-i,\"Hello world\",sep=\" \",end=\"\\n\")\n",
    "    i=i+1"
   ]
  },
  {
   "cell_type": "code",
   "execution_count": 30,
   "id": "c74f575d-c21f-4de4-a99f-514d7b27bee5",
   "metadata": {},
   "outputs": [
    {
     "name": "stdout",
     "output_type": "stream",
     "text": [
      "9 Hello world\n",
      "8 Hello world\n",
      "7 Hello world\n",
      "4 Hello world\n",
      "3 Hello world\n",
      "2 Hello world\n",
      "1 Hello world\n"
     ]
    }
   ],
   "source": [
    "i=1\n",
    "while i<10:\n",
    "    if i==4 or i==5:\n",
    "        i=i+1\n",
    "        continue\n",
    "    print(10-i,\"Hello world\",sep=\" \",end=\"\\n\")\n",
    "    i=i+1"
   ]
  },
  {
   "cell_type": "code",
   "execution_count": null,
   "id": "b72f59c5-f2ae-4934-a925-7914d7e1e877",
   "metadata": {},
   "outputs": [],
   "source": []
  }
 ],
 "metadata": {
  "kernelspec": {
   "display_name": "Python 3 (ipykernel)",
   "language": "python",
   "name": "python3"
  },
  "language_info": {
   "codemirror_mode": {
    "name": "ipython",
    "version": 3
   },
   "file_extension": ".py",
   "mimetype": "text/x-python",
   "name": "python",
   "nbconvert_exporter": "python",
   "pygments_lexer": "ipython3",
   "version": "3.12.0"
  }
 },
 "nbformat": 4,
 "nbformat_minor": 5
}
