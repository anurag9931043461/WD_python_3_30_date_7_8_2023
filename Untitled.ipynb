{
 "cells": [
  {
   "cell_type": "markdown",
   "id": "db5425f1-1d3d-4560-be4d-13ac1f17eeb5",
   "metadata": {},
   "source": [
    "# functions\n",
    "\n",
    "    > def function \n",
    "\n",
    "    > pass\n",
    "\n",
    "    > return \n",
    "\n",
    "    > yield\n",
    "\n",
    "    > next(),__next__()\n",
    "    \n",
    "    > Arguments:\n",
    "\n",
    "        > positional argument\n",
    "\n",
    "        > default argument\n",
    "\n",
    "        > keyword argument\n",
    "\n",
    "        > arbitrary positional argument\n",
    "\n",
    "        > arbitrary keyword argument\n",
    "\n",
    "    > lambda function(annonymous function)   \n",
    "    \n",
    "    > nested function \n",
    "    \n",
    "    > decorator\n",
    "    \n",
    "    > generator "
   ]
  },
  {
   "cell_type": "code",
   "execution_count": 3,
   "id": "e6d3874b-c1f0-43c3-b789-3de17061762b",
   "metadata": {},
   "outputs": [
    {
     "name": "stdout",
     "output_type": "stream",
     "text": [
      "Hello world\n",
      "Hello world\n",
      "Hello world\n",
      "Hello world\n",
      "Hello world\n",
      "Hello world\n",
      "Hello world\n",
      "Hello world\n",
      "Hello world\n",
      "Hello world\n"
     ]
    }
   ],
   "source": [
    "print(\"Hello world\")\n",
    "print(\"Hello world\")\n",
    "print(\"Hello world\")\n",
    "print(\"Hello world\")\n",
    "print(\"Hello world\")\n",
    "print(\"Hello world\")\n",
    "print(\"Hello world\")\n",
    "print(\"Hello world\")\n",
    "print(\"Hello world\")\n",
    "print(\"Hello world\")"
   ]
  },
  {
   "cell_type": "code",
   "execution_count": 4,
   "id": "5a984ee9-5270-4623-8f91-31a34420e3a6",
   "metadata": {},
   "outputs": [
    {
     "name": "stdout",
     "output_type": "stream",
     "text": [
      "Hello world\n",
      "Hello world\n",
      "Hello world\n",
      "Hello world\n",
      "Hello world\n",
      "Hello world\n",
      "Hello world\n",
      "Hello world\n",
      "Hello world\n",
      "Hello world\n"
     ]
    }
   ],
   "source": [
    "for i in range(10):\n",
    "    print(\"Hello world\")"
   ]
  },
  {
   "cell_type": "code",
   "execution_count": 5,
   "id": "1a3f44ed-d505-42f8-afe6-e338cb2babdd",
   "metadata": {},
   "outputs": [],
   "source": [
    "def hello():\n",
    "    for i in range(10):\n",
    "        print(\"Hello world\")"
   ]
  },
  {
   "cell_type": "code",
   "execution_count": 6,
   "id": "ac78ab6e-67c9-4854-9aeb-7413ad85ffff",
   "metadata": {},
   "outputs": [
    {
     "name": "stdout",
     "output_type": "stream",
     "text": [
      "Hello world\n",
      "Hello world\n",
      "Hello world\n",
      "Hello world\n",
      "Hello world\n",
      "Hello world\n",
      "Hello world\n",
      "Hello world\n",
      "Hello world\n",
      "Hello world\n"
     ]
    }
   ],
   "source": [
    "hello()"
   ]
  },
  {
   "cell_type": "code",
   "execution_count": 9,
   "id": "5b171602-fba7-450d-8a84-a4897d568f40",
   "metadata": {},
   "outputs": [],
   "source": [
    "def hello(arg):\n",
    "    for i in range(arg):\n",
    "        print(\"hello world\")"
   ]
  },
  {
   "cell_type": "code",
   "execution_count": 10,
   "id": "0e03d703-5e01-4155-a7a5-11f8f3317161",
   "metadata": {},
   "outputs": [
    {
     "ename": "TypeError",
     "evalue": "hello() missing 1 required positional argument: 'arg'",
     "output_type": "error",
     "traceback": [
      "\u001b[1;31m---------------------------------------------------------------------------\u001b[0m",
      "\u001b[1;31mTypeError\u001b[0m                                 Traceback (most recent call last)",
      "Cell \u001b[1;32mIn[10], line 1\u001b[0m\n\u001b[1;32m----> 1\u001b[0m \u001b[43mhello\u001b[49m\u001b[43m(\u001b[49m\u001b[43m)\u001b[49m\n",
      "\u001b[1;31mTypeError\u001b[0m: hello() missing 1 required positional argument: 'arg'"
     ]
    }
   ],
   "source": [
    "hello()"
   ]
  },
  {
   "cell_type": "code",
   "execution_count": 11,
   "id": "f7ab2abd-dc16-412e-b89b-2da43aa1d033",
   "metadata": {},
   "outputs": [
    {
     "name": "stdout",
     "output_type": "stream",
     "text": [
      "hello world\n",
      "hello world\n",
      "hello world\n"
     ]
    }
   ],
   "source": [
    "hello(3)"
   ]
  },
  {
   "cell_type": "code",
   "execution_count": 12,
   "id": "82f3e184-326c-4ee9-b876-ffe85e3621c8",
   "metadata": {},
   "outputs": [
    {
     "name": "stdout",
     "output_type": "stream",
     "text": [
      "hello world\n"
     ]
    }
   ],
   "source": [
    "hello(1)"
   ]
  },
  {
   "cell_type": "code",
   "execution_count": 13,
   "id": "05f9291d-bc5b-473c-a69b-d9f7ea87a768",
   "metadata": {},
   "outputs": [
    {
     "name": "stdout",
     "output_type": "stream",
     "text": [
      "hello world\n",
      "hello world\n",
      "hello world\n",
      "hello world\n",
      "hello world\n",
      "hello world\n",
      "hello world\n",
      "hello world\n",
      "hello world\n",
      "hello world\n"
     ]
    }
   ],
   "source": [
    "hello(10)"
   ]
  },
  {
   "cell_type": "code",
   "execution_count": 16,
   "id": "fe178ca8-5e8f-45ef-bf0c-edc1e40e724e",
   "metadata": {},
   "outputs": [],
   "source": [
    "# postional argument\n",
    "def addition(a,b):\n",
    "    print(\"a\",a)\n",
    "    print(\"b\",b)\n",
    "    print(a+b)"
   ]
  },
  {
   "cell_type": "code",
   "execution_count": 17,
   "id": "c0c40af0-1695-451e-b016-56647d734d7b",
   "metadata": {},
   "outputs": [
    {
     "name": "stdout",
     "output_type": "stream",
     "text": [
      "a 20\n",
      "b 30\n",
      "50\n"
     ]
    }
   ],
   "source": [
    "addition(20,30)"
   ]
  },
  {
   "cell_type": "code",
   "execution_count": 18,
   "id": "dfc839ce-b1ea-400f-82a7-c2bc7a360d35",
   "metadata": {},
   "outputs": [
    {
     "name": "stdout",
     "output_type": "stream",
     "text": [
      "a 30\n",
      "b 20\n",
      "50\n"
     ]
    }
   ],
   "source": [
    "addition(30,20)"
   ]
  },
  {
   "cell_type": "code",
   "execution_count": 19,
   "id": "e077996b-26bf-44e3-9a02-e60c91f82a7f",
   "metadata": {},
   "outputs": [
    {
     "ename": "TypeError",
     "evalue": "addition() takes 2 positional arguments but 3 were given",
     "output_type": "error",
     "traceback": [
      "\u001b[1;31m---------------------------------------------------------------------------\u001b[0m",
      "\u001b[1;31mTypeError\u001b[0m                                 Traceback (most recent call last)",
      "Cell \u001b[1;32mIn[19], line 1\u001b[0m\n\u001b[1;32m----> 1\u001b[0m \u001b[43maddition\u001b[49m\u001b[43m(\u001b[49m\u001b[38;5;241;43m30\u001b[39;49m\u001b[43m,\u001b[49m\u001b[38;5;241;43m20\u001b[39;49m\u001b[43m,\u001b[49m\u001b[38;5;241;43m30\u001b[39;49m\u001b[43m)\u001b[49m\n",
      "\u001b[1;31mTypeError\u001b[0m: addition() takes 2 positional arguments but 3 were given"
     ]
    }
   ],
   "source": [
    "addition(30,20,30)"
   ]
  },
  {
   "cell_type": "code",
   "execution_count": 20,
   "id": "fb3c832e-a4c8-4182-8082-b91ef343b4ab",
   "metadata": {},
   "outputs": [
    {
     "name": "stdout",
     "output_type": "stream",
     "text": [
      "20\n"
     ]
    }
   ],
   "source": [
    "a=10\n",
    "a=20\n",
    "print(a)"
   ]
  },
  {
   "cell_type": "code",
   "execution_count": 25,
   "id": "0badb6b0-b37e-4903-a399-21aa238fd245",
   "metadata": {},
   "outputs": [],
   "source": [
    "# postional argument\n",
    "def addition(a,b):\n",
    "    print(\"a\",a)\n",
    "    print(\"b\",b)\n",
    "    print(a+b)"
   ]
  },
  {
   "cell_type": "code",
   "execution_count": 26,
   "id": "eed40b8b-9927-4200-93b4-20c4596c1e00",
   "metadata": {},
   "outputs": [],
   "source": [
    "# postional argument\n",
    "def addition1(a,b,c):\n",
    "    print(\"a\",a)\n",
    "    print(\"b\",b)\n",
    "    print(\"c\",c)\n",
    "    print(a+b+c)"
   ]
  },
  {
   "cell_type": "code",
   "execution_count": 28,
   "id": "6d9714f7-a49c-40a0-b41e-50d14f086e82",
   "metadata": {},
   "outputs": [
    {
     "name": "stdout",
     "output_type": "stream",
     "text": [
      "a 20\n",
      "b 30\n",
      "c 30\n",
      "80\n"
     ]
    }
   ],
   "source": [
    "addition1(20,30,30)"
   ]
  },
  {
   "cell_type": "code",
   "execution_count": 30,
   "id": "10afedf9-3843-4ee7-821c-d6cacee76f6c",
   "metadata": {},
   "outputs": [],
   "source": [
    "# default argument\n",
    "def addition3(a,b,c=0):\n",
    "    print(a+b+c)"
   ]
  },
  {
   "cell_type": "code",
   "execution_count": 31,
   "id": "96f18e48-1b39-4cc7-85a8-9336d11945c8",
   "metadata": {},
   "outputs": [
    {
     "name": "stdout",
     "output_type": "stream",
     "text": [
      "60\n"
     ]
    }
   ],
   "source": [
    "addition3(10,20,30)"
   ]
  },
  {
   "cell_type": "code",
   "execution_count": 32,
   "id": "5f056c41-add8-42ce-ad8f-1a3080bd34bd",
   "metadata": {},
   "outputs": [
    {
     "name": "stdout",
     "output_type": "stream",
     "text": [
      "30\n"
     ]
    }
   ],
   "source": [
    "addition3(10,20)"
   ]
  },
  {
   "cell_type": "code",
   "execution_count": 35,
   "id": "d73141b4-e920-460f-8bb6-8208e502b3bc",
   "metadata": {},
   "outputs": [],
   "source": [
    "# keyword argument\n",
    "def addition4(a,b):\n",
    "    print(a+b)"
   ]
  },
  {
   "cell_type": "code",
   "execution_count": 38,
   "id": "c6a3f0d9-5740-4909-ba8b-199b5bfa67d2",
   "metadata": {},
   "outputs": [
    {
     "ename": "TypeError",
     "evalue": "addition4() missing 1 required positional argument: 'b'",
     "output_type": "error",
     "traceback": [
      "\u001b[1;31m---------------------------------------------------------------------------\u001b[0m",
      "\u001b[1;31mTypeError\u001b[0m                                 Traceback (most recent call last)",
      "Cell \u001b[1;32mIn[38], line 1\u001b[0m\n\u001b[1;32m----> 1\u001b[0m \u001b[43maddition4\u001b[49m\u001b[43m(\u001b[49m\u001b[38;5;241;43m10\u001b[39;49m\u001b[43m)\u001b[49m\n",
      "\u001b[1;31mTypeError\u001b[0m: addition4() missing 1 required positional argument: 'b'"
     ]
    }
   ],
   "source": [
    "addition4(10)"
   ]
  },
  {
   "cell_type": "code",
   "execution_count": 37,
   "id": "84d4bad2-49bd-4f18-b231-ec675e91af82",
   "metadata": {},
   "outputs": [
    {
     "ename": "TypeError",
     "evalue": "addition4() missing 1 required positional argument: 'a'",
     "output_type": "error",
     "traceback": [
      "\u001b[1;31m---------------------------------------------------------------------------\u001b[0m",
      "\u001b[1;31mTypeError\u001b[0m                                 Traceback (most recent call last)",
      "Cell \u001b[1;32mIn[37], line 1\u001b[0m\n\u001b[1;32m----> 1\u001b[0m \u001b[43maddition4\u001b[49m\u001b[43m(\u001b[49m\u001b[43mb\u001b[49m\u001b[38;5;241;43m=\u001b[39;49m\u001b[38;5;241;43m10\u001b[39;49m\u001b[43m)\u001b[49m\n",
      "\u001b[1;31mTypeError\u001b[0m: addition4() missing 1 required positional argument: 'a'"
     ]
    }
   ],
   "source": [
    "addition4(b=10)"
   ]
  },
  {
   "cell_type": "code",
   "execution_count": 39,
   "id": "298e972b-6aaf-43d1-bb40-6d517a176bbc",
   "metadata": {},
   "outputs": [
    {
     "name": "stdout",
     "output_type": "stream",
     "text": [
      "30\n"
     ]
    }
   ],
   "source": [
    "addition4(b=10,a=20)"
   ]
  },
  {
   "cell_type": "code",
   "execution_count": 41,
   "id": "0a05b457-b333-4b39-a62f-dafa7db15e1c",
   "metadata": {},
   "outputs": [],
   "source": [
    "# arbitrary positional argument\n",
    "\n",
    "def addition5(*krishna):\n",
    "    print(krishna)"
   ]
  },
  {
   "cell_type": "code",
   "execution_count": 42,
   "id": "8ed2d684-88b0-46ef-adb3-989f100374c2",
   "metadata": {},
   "outputs": [
    {
     "name": "stdout",
     "output_type": "stream",
     "text": [
      "(1, 2, 3, 4, 5, 6, 7, 4353, 534, 423, 423, 4, 5, 654, 645, 645, 'krishna')\n"
     ]
    }
   ],
   "source": [
    "addition5(1,2,3,4,5,6,7,4353,534,423,423,4,5,654,645,645,\"krishna\")"
   ]
  },
  {
   "cell_type": "code",
   "execution_count": null,
   "id": "0beb1842-49c6-42a2-bec7-2fc423a4235a",
   "metadata": {},
   "outputs": [],
   "source": [
    "def addition5(*krishna):\n",
    "    "
   ]
  },
  {
   "cell_type": "code",
   "execution_count": 43,
   "id": "515d007a-4fcd-4289-96a0-5de4b6d2fccc",
   "metadata": {},
   "outputs": [
    {
     "name": "stdout",
     "output_type": "stream",
     "text": [
      "1\n",
      "2\n",
      "3\n",
      "4\n",
      "5\n",
      "6\n",
      "67\n"
     ]
    }
   ],
   "source": [
    "a=(1,2,3,4,5,6,67)\n",
    "c=0\n",
    "for i in a:\n",
    "   print(i)     "
   ]
  },
  {
   "cell_type": "code",
   "execution_count": 47,
   "id": "96c44bb6-1583-4af5-953a-75595fe7dd04",
   "metadata": {},
   "outputs": [],
   "source": [
    "def addition6(*n):\n",
    "    c=0\n",
    "    for i in n:\n",
    "       c=c+i\n",
    "    print(c)"
   ]
  },
  {
   "cell_type": "code",
   "execution_count": 48,
   "id": "65f511c7-8620-40fe-95ab-17d1fbf087cb",
   "metadata": {},
   "outputs": [
    {
     "name": "stdout",
     "output_type": "stream",
     "text": [
      "6486\n"
     ]
    }
   ],
   "source": [
    "addition6(1,2,3,4,56,67,532,23,23,54,45,5676)"
   ]
  },
  {
   "cell_type": "code",
   "execution_count": 49,
   "id": "41a54044-fd88-45e1-bf72-058b3a638827",
   "metadata": {},
   "outputs": [],
   "source": [
    "# arbitrary keyword argument\n",
    "def addition7(**n):\n",
    "    print(n)"
   ]
  },
  {
   "cell_type": "code",
   "execution_count": 50,
   "id": "c9f50a15-8635-44d9-86bb-46d89758efe1",
   "metadata": {},
   "outputs": [
    {
     "name": "stdout",
     "output_type": "stream",
     "text": [
      "{'name': 'krishna', 'age': 27, 'height': 5.6}\n"
     ]
    }
   ],
   "source": [
    "addition7(name=\"krishna\",age=27,height=5.6)"
   ]
  },
  {
   "cell_type": "code",
   "execution_count": 51,
   "id": "5eb91b00-b010-4edf-aed5-500bf81696dc",
   "metadata": {},
   "outputs": [
    {
     "ename": "SyntaxError",
     "evalue": "parameter without a default follows parameter with a default (1508776806.py, line 1)",
     "output_type": "error",
     "traceback": [
      "\u001b[1;36m  Cell \u001b[1;32mIn[51], line 1\u001b[1;36m\u001b[0m\n\u001b[1;33m    def addition8(a=0,b):\u001b[0m\n\u001b[1;37m                      ^\u001b[0m\n\u001b[1;31mSyntaxError\u001b[0m\u001b[1;31m:\u001b[0m parameter without a default follows parameter with a default\n"
     ]
    }
   ],
   "source": [
    "def addition8(a=0,b):\n",
    "    print(a+b)"
   ]
  },
  {
   "cell_type": "code",
   "execution_count": 55,
   "id": "99876663-e669-488c-a975-b1d381bb4e81",
   "metadata": {},
   "outputs": [],
   "source": [
    "def addition8(b,a=10):\n",
    "    print(a+b)"
   ]
  },
  {
   "cell_type": "code",
   "execution_count": 56,
   "id": "e4f44a7f-bc7e-4c1b-9a4d-63b81c6fe58d",
   "metadata": {},
   "outputs": [
    {
     "name": "stdout",
     "output_type": "stream",
     "text": [
      "20\n"
     ]
    }
   ],
   "source": [
    "addition8(10)"
   ]
  },
  {
   "cell_type": "code",
   "execution_count": 57,
   "id": "7979225c-6bf3-45d0-85a9-48f6db539234",
   "metadata": {},
   "outputs": [
    {
     "name": "stdout",
     "output_type": "stream",
     "text": [
      "40\n"
     ]
    }
   ],
   "source": [
    "addition8(10,30)"
   ]
  },
  {
   "cell_type": "markdown",
   "id": "6250dfbb-14d8-4837-852a-930437d65117",
   "metadata": {},
   "source": [
    "# pass keyword"
   ]
  },
  {
   "cell_type": "code",
   "execution_count": 62,
   "id": "d3751123-efdf-410f-99a2-ee255eb09df1",
   "metadata": {},
   "outputs": [
    {
     "name": "stdout",
     "output_type": "stream",
     "text": [
      "hello world\n"
     ]
    }
   ],
   "source": [
    "def name():\n",
    "    pass\n",
    "print(\"hello world\")"
   ]
  },
  {
   "cell_type": "markdown",
   "id": "e01580fe-5593-4511-9996-313df075b844",
   "metadata": {},
   "source": [
    "# return"
   ]
  },
  {
   "cell_type": "code",
   "execution_count": 65,
   "id": "1140af49-66f2-442a-adb5-882333e45b7c",
   "metadata": {},
   "outputs": [
    {
     "name": "stdout",
     "output_type": "stream",
     "text": [
      "30\n"
     ]
    }
   ],
   "source": [
    "a=addition8(10,20)"
   ]
  },
  {
   "cell_type": "code",
   "execution_count": 66,
   "id": "d5b3a29b-a70b-4532-a82c-fc1cfb81ef2d",
   "metadata": {},
   "outputs": [
    {
     "name": "stdout",
     "output_type": "stream",
     "text": [
      "None\n"
     ]
    }
   ],
   "source": [
    "print(a)"
   ]
  },
  {
   "cell_type": "code",
   "execution_count": 67,
   "id": "496a066a-23ef-4d84-a60a-730868e22d35",
   "metadata": {},
   "outputs": [],
   "source": [
    "def addition9(a,b):\n",
    "    return a+b"
   ]
  },
  {
   "cell_type": "code",
   "execution_count": 69,
   "id": "598ecc79-6320-4a64-b5f9-2269ec3087b9",
   "metadata": {},
   "outputs": [],
   "source": [
    "a=addition9(10,20)"
   ]
  },
  {
   "cell_type": "code",
   "execution_count": 70,
   "id": "76f92888-3acc-4f95-91bf-32ae7a35b981",
   "metadata": {},
   "outputs": [
    {
     "name": "stdout",
     "output_type": "stream",
     "text": [
      "30\n"
     ]
    }
   ],
   "source": [
    "print(a)"
   ]
  },
  {
   "cell_type": "code",
   "execution_count": null,
   "id": "ef905f10-e820-4063-a12b-ce83f82ef390",
   "metadata": {},
   "outputs": [],
   "source": [
    "  "
   ]
  }
 ],
 "metadata": {
  "kernelspec": {
   "display_name": "Python 3 (ipykernel)",
   "language": "python",
   "name": "python3"
  },
  "language_info": {
   "codemirror_mode": {
    "name": "ipython",
    "version": 3
   },
   "file_extension": ".py",
   "mimetype": "text/x-python",
   "name": "python",
   "nbconvert_exporter": "python",
   "pygments_lexer": "ipython3",
   "version": "3.12.0"
  }
 },
 "nbformat": 4,
 "nbformat_minor": 5
}
