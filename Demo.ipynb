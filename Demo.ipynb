{
 "cells": [
  {
   "cell_type": "code",
   "execution_count": 3,
   "id": "3ffc7d3c-ff94-4f2f-b45f-7ffd868a03e3",
   "metadata": {},
   "outputs": [
    {
     "name": "stdout",
     "output_type": "stream",
     "text": [
      "Hello world\n"
     ]
    }
   ],
   "source": [
    "print(\"Hello world\")"
   ]
  },
  {
   "cell_type": "code",
   "execution_count": 4,
   "id": "a187a8a7-e5d5-4541-8838-b90797697f5c",
   "metadata": {},
   "outputs": [
    {
     "name": "stdout",
     "output_type": "stream",
     "text": [
      "hello world\n",
      "hello world\n"
     ]
    }
   ],
   "source": [
    "print(\"hello world\")\n",
    "print(\"hello world\")"
   ]
  },
  {
   "cell_type": "code",
   "execution_count": 6,
   "id": "78bff481-c21a-4217-8b4e-e00ee99286ed",
   "metadata": {},
   "outputs": [
    {
     "name": "stdout",
     "output_type": "stream",
     "text": [
      "hello world\n",
      "\n",
      "hello world\n"
     ]
    }
   ],
   "source": [
    "print(\"hello world\")\n",
    "print(\"hello world\")"
   ]
  },
  {
   "cell_type": "code",
   "execution_count": 7,
   "id": "dbe895e0-ba7e-4d73-89d7-c4f96039e6d8",
   "metadata": {},
   "outputs": [
    {
     "name": "stdout",
     "output_type": "stream",
     "text": [
      "hello world\n",
      "hello world\n"
     ]
    }
   ],
   "source": [
    "print(\"hello world\");\n",
    "print(\"hello world\");"
   ]
  },
  {
   "cell_type": "code",
   "execution_count": 8,
   "id": "d7d4c108-8575-4d08-963c-99f5fe2d911f",
   "metadata": {},
   "outputs": [
    {
     "ename": "SyntaxError",
     "evalue": "invalid syntax (3589480220.py, line 1)",
     "output_type": "error",
     "traceback": [
      "\u001b[1;36m  Cell \u001b[1;32mIn[8], line 1\u001b[1;36m\u001b[0m\n\u001b[1;33m    print(\"Hello world\")print(\"hello world\")\u001b[0m\n\u001b[1;37m                        ^\u001b[0m\n\u001b[1;31mSyntaxError\u001b[0m\u001b[1;31m:\u001b[0m invalid syntax\n"
     ]
    }
   ],
   "source": [
    "print(\"Hello world\")print(\"hello world\")"
   ]
  },
  {
   "cell_type": "code",
   "execution_count": 9,
   "id": "580713b5-1d5e-430e-8cd6-2fba0e5ad669",
   "metadata": {},
   "outputs": [
    {
     "name": "stdout",
     "output_type": "stream",
     "text": [
      "Hello world\n",
      "hello world\n"
     ]
    }
   ],
   "source": [
    "print(\"Hello world\");print(\"hello world\")"
   ]
  },
  {
   "cell_type": "raw",
   "id": "09203630-dbbe-412e-86d7-81a54611b390",
   "metadata": {},
   "source": [
    "end operator  end=\"\\n\""
   ]
  },
  {
   "cell_type": "code",
   "execution_count": 12,
   "id": "f867bee9-cbce-4df3-b7cf-763e646ed6f9",
   "metadata": {},
   "outputs": [
    {
     "name": "stdout",
     "output_type": "stream",
     "text": [
      "hello world\n",
      "hello world\n"
     ]
    }
   ],
   "source": [
    "print(\"hello world\");\n",
    "print(end=\"\")\n",
    "print(\"hello world\");"
   ]
  },
  {
   "cell_type": "code",
   "execution_count": 14,
   "id": "047b196b-9765-4399-8258-9058698e63de",
   "metadata": {},
   "outputs": [
    {
     "name": "stdout",
     "output_type": "stream",
     "text": [
      "hello worldhello world\n"
     ]
    }
   ],
   "source": [
    "print(\"hello world\",end=\"\");\n",
    "print(\"hello world\",end=\"\\n\");\n"
   ]
  },
  {
   "cell_type": "code",
   "execution_count": 15,
   "id": "17d9070d-3cbb-4b18-b9ab-cbd51444a9ed",
   "metadata": {},
   "outputs": [
    {
     "name": "stdout",
     "output_type": "stream",
     "text": [
      "hello worldhello world\n",
      "I am krishna\n"
     ]
    }
   ],
   "source": [
    "print(\"hello world\",end=\"\");\n",
    "print(\"hello world\",end=\"\\n\");\n",
    "print(\"I am krishna\")"
   ]
  },
  {
   "cell_type": "code",
   "execution_count": 16,
   "id": "74db9564-bd5b-427e-ac14-1f57e1d78bb2",
   "metadata": {},
   "outputs": [
    {
     "name": "stdout",
     "output_type": "stream",
     "text": [
      "hello worldhello world$I am krishna\n"
     ]
    }
   ],
   "source": [
    "print(\"hello world\",end=\"\");\n",
    "print(\"hello world\",end=\"$\");\n",
    "print(\"I am krishna\")"
   ]
  },
  {
   "cell_type": "markdown",
   "id": "e31d98ff-a622-4fbb-8e1d-59ad9171190b",
   "metadata": {},
   "source": [
    "# Date- 8/8/2023"
   ]
  },
  {
   "cell_type": "raw",
   "id": "da8f6541-68d1-46e7-a13d-b32fbee8e010",
   "metadata": {},
   "source": [
    "sep, end operator available inside print, print()"
   ]
  },
  {
   "cell_type": "code",
   "execution_count": 3,
   "id": "e84ec7cb-258e-43b6-8ac3-e6e762391350",
   "metadata": {},
   "outputs": [
    {
     "name": "stdout",
     "output_type": "stream",
     "text": [
      "hello world\n"
     ]
    }
   ],
   "source": [
    "print(\"hello world\")"
   ]
  },
  {
   "cell_type": "code",
   "execution_count": 4,
   "id": "0b1524eb-3066-4616-be1d-a1370cd9a6c9",
   "metadata": {},
   "outputs": [
    {
     "name": "stdout",
     "output_type": "stream",
     "text": [
      "hello world\n"
     ]
    }
   ],
   "source": [
    "print(\"hello world\")"
   ]
  },
  {
   "cell_type": "code",
   "execution_count": 6,
   "id": "727e781b-297b-4c2e-b51e-ae6b71bff4c5",
   "metadata": {},
   "outputs": [
    {
     "name": "stdout",
     "output_type": "stream",
     "text": [
      "Hello world\n",
      "Hello world\n"
     ]
    }
   ],
   "source": [
    "print(\"Hello world\");\n",
    "print(\"Hello world\");"
   ]
  },
  {
   "cell_type": "code",
   "execution_count": 7,
   "id": "474fb69f-7c84-4a88-8fb4-2dcac94048b6",
   "metadata": {},
   "outputs": [
    {
     "name": "stdout",
     "output_type": "stream",
     "text": [
      "Hello world\n",
      "Hello world\n"
     ]
    }
   ],
   "source": [
    "print(\"Hello world\")\n",
    "print(\"Hello world\")"
   ]
  },
  {
   "cell_type": "code",
   "execution_count": 8,
   "id": "9f93e3ee-6fd1-4c51-9fe8-b14d34522d57",
   "metadata": {},
   "outputs": [
    {
     "ename": "SyntaxError",
     "evalue": "invalid syntax (290783463.py, line 1)",
     "output_type": "error",
     "traceback": [
      "\u001b[1;36m  Cell \u001b[1;32mIn[8], line 1\u001b[1;36m\u001b[0m\n\u001b[1;33m    print(\"Hello world\")print(\"Hello world\")\u001b[0m\n\u001b[1;37m                        ^\u001b[0m\n\u001b[1;31mSyntaxError\u001b[0m\u001b[1;31m:\u001b[0m invalid syntax\n"
     ]
    }
   ],
   "source": [
    "print(\"Hello world\")print(\"Hello world\")"
   ]
  },
  {
   "cell_type": "code",
   "execution_count": 9,
   "id": "d57fc05f-ab5e-464b-b839-ed5f5cb41d9c",
   "metadata": {},
   "outputs": [
    {
     "name": "stdout",
     "output_type": "stream",
     "text": [
      "Hello world\n",
      "Hello world\n"
     ]
    }
   ],
   "source": [
    "print(\"Hello world\");print(\"Hello world\")"
   ]
  },
  {
   "cell_type": "code",
   "execution_count": 10,
   "id": "7eee7847-d314-44b6-8148-f23a82a135fb",
   "metadata": {},
   "outputs": [
    {
     "ename": "SyntaxError",
     "evalue": "invalid syntax (2625173962.py, line 1)",
     "output_type": "error",
     "traceback": [
      "\u001b[1;36m  Cell \u001b[1;32mIn[10], line 1\u001b[1;36m\u001b[0m\n\u001b[1;33m    print(\"Hello world\");print(\"Hello world\")print(\"hello world\")\u001b[0m\n\u001b[1;37m                                             ^\u001b[0m\n\u001b[1;31mSyntaxError\u001b[0m\u001b[1;31m:\u001b[0m invalid syntax\n"
     ]
    }
   ],
   "source": [
    "print(\"Hello world\");print(\"Hello world\")print(\"hello world\")"
   ]
  },
  {
   "cell_type": "code",
   "execution_count": 11,
   "id": "d813164a-5b09-446e-8f97-da8a85df7a2d",
   "metadata": {},
   "outputs": [
    {
     "name": "stdout",
     "output_type": "stream",
     "text": [
      "Hello world\n",
      "Hello world\n",
      "hello world\n"
     ]
    }
   ],
   "source": [
    "print(\"Hello world\");print(\"Hello world\");print(\"hello world\")"
   ]
  },
  {
   "cell_type": "code",
   "execution_count": 12,
   "id": "77ea5869-28c5-4144-bcf0-55b6a66fb1a9",
   "metadata": {},
   "outputs": [
    {
     "name": "stdout",
     "output_type": "stream",
     "text": [
      "Hello world\n",
      "Hello world\n",
      "hello world\n"
     ]
    }
   ],
   "source": [
    "print(\"Hello world\");print(\"Hello world\");print(\"hello world\");"
   ]
  },
  {
   "cell_type": "code",
   "execution_count": 13,
   "id": "a5110f03-34dd-4f10-8fac-589957c647a7",
   "metadata": {},
   "outputs": [
    {
     "name": "stdout",
     "output_type": "stream",
     "text": [
      "Hello world\n",
      "Hello world\n",
      "hello world\n"
     ]
    }
   ],
   "source": [
    "print(\"Hello world\");print(\"Hello world\");print(\"hello world\");"
   ]
  },
  {
   "cell_type": "code",
   "execution_count": 14,
   "id": "cbb66822-ba0d-49a5-99e9-696bdd48e127",
   "metadata": {},
   "outputs": [
    {
     "name": "stdout",
     "output_type": "stream",
     "text": [
      "Hello world\n",
      "Hello world\n",
      "hello world\n"
     ]
    }
   ],
   "source": [
    "print(\"Hello world\",end=\"\\n\");print(\"Hello world\");print(\"hello world\");"
   ]
  },
  {
   "cell_type": "code",
   "execution_count": 15,
   "id": "5e609805-e472-43aa-a929-456c172f4f8b",
   "metadata": {},
   "outputs": [
    {
     "name": "stdout",
     "output_type": "stream",
     "text": [
      "Hello world$Hello world\n",
      "hello world\n"
     ]
    }
   ],
   "source": [
    "print(\"Hello world\",end=\"$\");print(\"Hello world\");print(\"hello world\");"
   ]
  },
  {
   "cell_type": "code",
   "execution_count": 16,
   "id": "3d9ea6fd-7576-4498-8645-58c3aee8ea3b",
   "metadata": {},
   "outputs": [
    {
     "name": "stdout",
     "output_type": "stream",
     "text": [
      "Hello world$Hello world India hello world\n"
     ]
    }
   ],
   "source": [
    "print(\"Hello world\",end=\"$\");print(\"Hello world\",end=\" India \");print(\"hello world\");"
   ]
  },
  {
   "cell_type": "code",
   "execution_count": 18,
   "id": "2c1abbfc-0d0f-419b-811c-054fac9d1304",
   "metadata": {},
   "outputs": [
    {
     "name": "stdout",
     "output_type": "stream",
     "text": [
      "Hello world$Hello worldIndiahello world\n"
     ]
    }
   ],
   "source": [
    "print(\"Hello world\",end=\"$\");print(\"Hello world\",end=\"India\");print(\"hello world\",end=\"\\n\");"
   ]
  },
  {
   "cell_type": "code",
   "execution_count": 19,
   "id": "beeb08ff-1730-4b38-807f-8d5eab5c1ca4",
   "metadata": {},
   "outputs": [
    {
     "name": "stdout",
     "output_type": "stream",
     "text": [
      "Hello world$Hello worldIndiahello worldKrishna"
     ]
    }
   ],
   "source": [
    "print(\"Hello world\",end=\"$\");print(\"Hello world\",end=\"India\");print(\"hello world\",end=\"Krishna\");"
   ]
  },
  {
   "cell_type": "markdown",
   "id": "f5b4fefe-1061-4bff-b18b-2646535961a9",
   "metadata": {},
   "source": [
    "# sep=\" \""
   ]
  },
  {
   "cell_type": "code",
   "execution_count": 20,
   "id": "d2f7ad03-0b59-41b7-81d1-3ef12bd79f62",
   "metadata": {},
   "outputs": [
    {
     "name": "stdout",
     "output_type": "stream",
     "text": [
      "apple banana pineapple\n"
     ]
    }
   ],
   "source": [
    "print(\"apple\",\"banana\",\"pineapple\")"
   ]
  },
  {
   "cell_type": "code",
   "execution_count": 21,
   "id": "c5326383-6ea3-41f8-96e9-71ff86c2712a",
   "metadata": {},
   "outputs": [
    {
     "ename": "SyntaxError",
     "evalue": "invalid syntax (2167423069.py, line 1)",
     "output_type": "error",
     "traceback": [
      "\u001b[1;36m  Cell \u001b[1;32mIn[21], line 1\u001b[1;36m\u001b[0m\n\u001b[1;33m    print(\"apple\";\"banana\";\"pineapple\")\u001b[0m\n\u001b[1;37m                 ^\u001b[0m\n\u001b[1;31mSyntaxError\u001b[0m\u001b[1;31m:\u001b[0m invalid syntax\n"
     ]
    }
   ],
   "source": [
    "print(\"apple\";\"banana\";\"pineapple\")"
   ]
  },
  {
   "cell_type": "code",
   "execution_count": 22,
   "id": "843e763f-3d24-4c17-baa3-c9782f91a688",
   "metadata": {},
   "outputs": [
    {
     "name": "stdout",
     "output_type": "stream",
     "text": [
      "apple banana pineapple\n"
     ]
    }
   ],
   "source": [
    "print(\"apple\",\"banana\",\"pineapple\")"
   ]
  },
  {
   "cell_type": "code",
   "execution_count": 23,
   "id": "37a1bc5d-b813-40c3-a01f-aa72e93b6868",
   "metadata": {},
   "outputs": [
    {
     "name": "stdout",
     "output_type": "stream",
     "text": [
      "apple banana pineapple\n"
     ]
    }
   ],
   "source": [
    "print(\"apple\",\"banana\",\"pineapple\",sep=\" \")"
   ]
  },
  {
   "cell_type": "code",
   "execution_count": 24,
   "id": "4fa1e75f-6cbb-48ee-a485-4edc25d7c1a0",
   "metadata": {},
   "outputs": [
    {
     "name": "stdout",
     "output_type": "stream",
     "text": [
      "apple,banana,pineapple\n"
     ]
    }
   ],
   "source": [
    "print(\"apple\",\"banana\",\"pineapple\",sep=\",\")"
   ]
  },
  {
   "cell_type": "code",
   "execution_count": 25,
   "id": "d4d58552-8c57-47a7-b780-160dfadf504a",
   "metadata": {},
   "outputs": [
    {
     "name": "stdout",
     "output_type": "stream",
     "text": [
      "apple,banana,pineapple\n",
      "Hello world\n"
     ]
    }
   ],
   "source": [
    "print(\"apple\",\"banana\",\"pineapple\",sep=\",\")\n",
    "print(\"Hello world\")"
   ]
  },
  {
   "cell_type": "code",
   "execution_count": 26,
   "id": "ecd7ca2c-7b20-41ed-ae90-274f39c87ea1",
   "metadata": {},
   "outputs": [
    {
     "name": "stdout",
     "output_type": "stream",
     "text": [
      "apple,banana,pineappleHello world\n"
     ]
    }
   ],
   "source": [
    "print(\"apple\",\"banana\",\"pineapple\",sep=\",\",end=\"\")\n",
    "print(\"Hello world\")"
   ]
  },
  {
   "cell_type": "code",
   "execution_count": 27,
   "id": "03cebd67-0b12-4c83-8ff4-290e08a2daf2",
   "metadata": {},
   "outputs": [
    {
     "ename": "SyntaxError",
     "evalue": "keyword argument repeated: sep (1619910108.py, line 1)",
     "output_type": "error",
     "traceback": [
      "\u001b[1;36m  Cell \u001b[1;32mIn[27], line 1\u001b[1;36m\u001b[0m\n\u001b[1;33m    print(\"apple\",\"banana\",\"pineapple\",sep=\",\",sep=\" \",end=\"\")\u001b[0m\n\u001b[1;37m                                               ^\u001b[0m\n\u001b[1;31mSyntaxError\u001b[0m\u001b[1;31m:\u001b[0m keyword argument repeated: sep\n"
     ]
    }
   ],
   "source": [
    "print(\"apple\",\"banana\",\"pineapple\",sep=\",\",sep=\" \",end=\"\")\n",
    "print(\"Hello world\")"
   ]
  },
  {
   "cell_type": "code",
   "execution_count": 28,
   "id": "7f4c64a2-5600-4df4-b553-0d2a8a36d680",
   "metadata": {},
   "outputs": [
    {
     "name": "stdout",
     "output_type": "stream",
     "text": [
      "apple, banana, pineappleHello world\n"
     ]
    }
   ],
   "source": [
    "print(\"apple\",\"banana\",\"pineapple\",sep=\", \",end=\"\")\n",
    "print(\"Hello world\")"
   ]
  },
  {
   "cell_type": "code",
   "execution_count": 29,
   "id": "c7ed4bb4-2865-477f-960c-3bd6b599b4c0",
   "metadata": {},
   "outputs": [
    {
     "name": "stdout",
     "output_type": "stream",
     "text": [
      "apple\n",
      "banana\n",
      "pineapple\n"
     ]
    }
   ],
   "source": [
    "print(\"apple\",\"banana\",\"pineapple\",sep=\"\\n\")"
   ]
  },
  {
   "cell_type": "code",
   "execution_count": 30,
   "id": "14d9cbe8-3b85-46cb-9b18-435c9bf56062",
   "metadata": {},
   "outputs": [
    {
     "name": "stdout",
     "output_type": "stream",
     "text": [
      "Hello world\n"
     ]
    }
   ],
   "source": [
    "print(\"Hello world\")"
   ]
  },
  {
   "cell_type": "code",
   "execution_count": 1,
   "id": "2c57bb2d-b399-44ef-8d40-47a70a39ed92",
   "metadata": {},
   "outputs": [
    {
     "name": "stdout",
     "output_type": "stream",
     "text": [
      "this is krish\n",
      "a\n"
     ]
    }
   ],
   "source": [
    "print(\"this is krish\\na\")"
   ]
  },
  {
   "cell_type": "code",
   "execution_count": 2,
   "id": "f5db4ec0-9032-40e8-852a-e2312161da59",
   "metadata": {},
   "outputs": [
    {
     "name": "stdout",
     "output_type": "stream",
     "text": [
      "this is krishna's \table\n"
     ]
    }
   ],
   "source": [
    "print(\"this is krishna's \\table\")"
   ]
  },
  {
   "cell_type": "code",
   "execution_count": 3,
   "id": "bca322aa-b6c8-4f40-9c8c-6ab354d88832",
   "metadata": {},
   "outputs": [
    {
     "name": "stdout",
     "output_type": "stream",
     "text": [
      "this is krishna'sottle\n"
     ]
    }
   ],
   "source": [
    "print(\"this is krishna's \\bottle\")"
   ]
  },
  {
   "cell_type": "code",
   "execution_count": 4,
   "id": "f4b224e7-878d-4e13-82dd-4fbda3bef285",
   "metadata": {},
   "outputs": [
    {
     "ename": "SyntaxError",
     "evalue": "invalid syntax. Perhaps you forgot a comma? (639375680.py, line 1)",
     "output_type": "error",
     "traceback": [
      "\u001b[1;36m  Cell \u001b[1;32mIn[4], line 1\u001b[1;36m\u001b[0m\n\u001b[1;33m    print(\"You guys are \"genius\"\")\u001b[0m\n\u001b[1;37m          ^\u001b[0m\n\u001b[1;31mSyntaxError\u001b[0m\u001b[1;31m:\u001b[0m invalid syntax. Perhaps you forgot a comma?\n"
     ]
    }
   ],
   "source": [
    "print(\"You guys are \"genius\"\")"
   ]
  },
  {
   "cell_type": "code",
   "execution_count": 7,
   "id": "4051b36a-8a6c-493e-a1e4-f037ba099d0a",
   "metadata": {},
   "outputs": [
    {
     "name": "stdout",
     "output_type": "stream",
     "text": [
      "You guys are \"genius\"\n"
     ]
    }
   ],
   "source": [
    "print(\"You guys are \\\"genius\\\"\")"
   ]
  },
  {
   "cell_type": "code",
   "execution_count": 14,
   "id": "1b1d4900-a6c8-4584-8eb4-5763ba307148",
   "metadata": {},
   "outputs": [
    {
     "ename": "SyntaxError",
     "evalue": "unterminated string literal (detected at line 1) (4250313823.py, line 1)",
     "output_type": "error",
     "traceback": [
      "\u001b[1;36m  Cell \u001b[1;32mIn[14], line 1\u001b[1;36m\u001b[0m\n\u001b[1;33m    print(\"hello\u001b[0m\n\u001b[1;37m          ^\u001b[0m\n\u001b[1;31mSyntaxError\u001b[0m\u001b[1;31m:\u001b[0m unterminated string literal (detected at line 1)\n"
     ]
    }
   ],
   "source": [
    "print(\"hello \n",
    "world\")\n",
    "print('hello world')"
   ]
  },
  {
   "cell_type": "code",
   "execution_count": 15,
   "id": "d9c899f8-6a98-4107-993b-96455eb8e1b3",
   "metadata": {},
   "outputs": [
    {
     "name": "stdout",
     "output_type": "stream",
     "text": [
      "hello world\n",
      "hello world\n"
     ]
    }
   ],
   "source": [
    "print(\"hello world\")\n",
    "print('hello world')"
   ]
  },
  {
   "cell_type": "code",
   "execution_count": 17,
   "id": "f4fe05d5-59c3-4ef4-a664-dbb7aea2e04e",
   "metadata": {},
   "outputs": [
    {
     "ename": "SyntaxError",
     "evalue": "unterminated string literal (detected at line 2) (2298581653.py, line 2)",
     "output_type": "error",
     "traceback": [
      "\u001b[1;36m  Cell \u001b[1;32mIn[17], line 2\u001b[1;36m\u001b[0m\n\u001b[1;33m    print('hello\u001b[0m\n\u001b[1;37m          ^\u001b[0m\n\u001b[1;31mSyntaxError\u001b[0m\u001b[1;31m:\u001b[0m unterminated string literal (detected at line 2)\n"
     ]
    }
   ],
   "source": [
    "print(\"hello world\")\n",
    "print('hello \n",
    "world')"
   ]
  },
  {
   "cell_type": "code",
   "execution_count": 19,
   "id": "c34045c3-ea57-421f-9639-b3511bf4bbfe",
   "metadata": {},
   "outputs": [
    {
     "name": "stdout",
     "output_type": "stream",
     "text": [
      "hello world\n",
      "hello world\n"
     ]
    }
   ],
   "source": [
    "print(\"hello world\")\n",
    "print('hello world')"
   ]
  },
  {
   "cell_type": "code",
   "execution_count": 21,
   "id": "bf32e4e2-8fc3-437a-976a-e6a4f3557963",
   "metadata": {},
   "outputs": [
    {
     "name": "stdout",
     "output_type": "stream",
     "text": [
      "Dear sir,\n",
      "\n",
      "This is krishna kumar, working as AI trainer. I am done with you guys go to hell.\n",
      "\n",
      "Regard \n",
      "Krishna kumar\n",
      "\n",
      "hello\n",
      "\n",
      "\n",
      "        world\n"
     ]
    }
   ],
   "source": [
    "print(\"\"\"Dear sir,\n",
    "\n",
    "This is krishna kumar, working as AI trainer. I am done with you guys go to hell.\n",
    "\n",
    "Regard \n",
    "Krishna kumar\n",
    "\"\"\")\n",
    "print('''hello\n",
    "\n",
    "\n",
    "        world''')"
   ]
  },
  {
   "cell_type": "code",
   "execution_count": 22,
   "id": "2707c9a2-759b-463d-8c1b-603fd6ca515f",
   "metadata": {},
   "outputs": [
    {
     "ename": "SyntaxError",
     "evalue": "incomplete input (1644682240.py, line 8)",
     "output_type": "error",
     "traceback": [
      "\u001b[1;36m  Cell \u001b[1;32mIn[22], line 8\u001b[1;36m\u001b[0m\n\u001b[1;33m    print('''hello\u001b[0m\n\u001b[1;37m          ^\u001b[0m\n\u001b[1;31mSyntaxError\u001b[0m\u001b[1;31m:\u001b[0m incomplete input\n"
     ]
    }
   ],
   "source": [
    "print(\"\"\"Dear sir,\n",
    "\n",
    "This is krishna kumar, working as AI trainer. I am done with you guys go to hell.\n",
    "\n",
    "Regard \n",
    "Krishna kumar\n",
    "\"\"\")\n",
    "print('''hello\n",
    "\n",
    "\n",
    "        world)"
   ]
  },
  {
   "cell_type": "code",
   "execution_count": 23,
   "id": "e9334883-676f-4834-8994-295cb7c1b12a",
   "metadata": {},
   "outputs": [
    {
     "name": "stdout",
     "output_type": "stream",
     "text": [
      "Dear sir,\n",
      "\n",
      "This is krishna kumar, working as AI trainer. I am done with you guys go to hell.\n",
      "\n",
      "Regard \n",
      "Krishna kumar\n",
      "\n",
      "hello\n",
      "\n",
      "\n",
      "        world\n"
     ]
    }
   ],
   "source": [
    "print(\"\"\"Dear sir,\n",
    "\n",
    "This is krishna kumar, working as AI trainer. I am done with you guys go to hell.\n",
    "\n",
    "Regard \n",
    "Krishna kumar\n",
    "\"\"\")\n",
    "print('''hello\n",
    "\n",
    "\n",
    "        world''')"
   ]
  },
  {
   "cell_type": "code",
   "execution_count": 24,
   "id": "f5fc7a10-48a3-4890-a4e6-18aadab9feb9",
   "metadata": {},
   "outputs": [
    {
     "ename": "SyntaxError",
     "evalue": "invalid syntax. Perhaps you forgot a comma? (639375680.py, line 1)",
     "output_type": "error",
     "traceback": [
      "\u001b[1;36m  Cell \u001b[1;32mIn[24], line 1\u001b[1;36m\u001b[0m\n\u001b[1;33m    print(\"You guys are \"genius\"\")\u001b[0m\n\u001b[1;37m          ^\u001b[0m\n\u001b[1;31mSyntaxError\u001b[0m\u001b[1;31m:\u001b[0m invalid syntax. Perhaps you forgot a comma?\n"
     ]
    }
   ],
   "source": [
    "print(\"You guys are \"genius\"\")"
   ]
  },
  {
   "cell_type": "code",
   "execution_count": 25,
   "id": "16560b8d-8534-40ee-8b7d-8a9ea9d32b1b",
   "metadata": {},
   "outputs": [
    {
     "name": "stdout",
     "output_type": "stream",
     "text": [
      "You guys are \"genius\"\n"
     ]
    }
   ],
   "source": [
    "print(\"You guys are \\\"genius\\\"\")"
   ]
  },
  {
   "cell_type": "code",
   "execution_count": 26,
   "id": "35b7e0a0-2bc6-4a43-bdb1-45d5444f6c62",
   "metadata": {},
   "outputs": [
    {
     "name": "stdout",
     "output_type": "stream",
     "text": [
      "You guys are \"genius\"\n"
     ]
    }
   ],
   "source": [
    "print('You guys are \"genius\"')"
   ]
  },
  {
   "cell_type": "code",
   "execution_count": 27,
   "id": "06a609ee-b3d2-45b5-b1c7-cc97219e70b7",
   "metadata": {},
   "outputs": [
    {
     "name": "stdout",
     "output_type": "stream",
     "text": [
      "You guys are \"genius\"\n"
     ]
    }
   ],
   "source": [
    "print('''You guys are \"genius\"''')"
   ]
  },
  {
   "cell_type": "code",
   "execution_count": 30,
   "id": "bc128c9b-5716-4831-b3bd-685d31d74867",
   "metadata": {},
   "outputs": [
    {
     "name": "stdout",
     "output_type": "stream",
     "text": [
      " You guys are \"genius\" \n"
     ]
    }
   ],
   "source": [
    "print(\"\"\" You guys are \"genius\" \"\"\")"
   ]
  },
  {
   "cell_type": "code",
   "execution_count": 32,
   "id": "1e80a8f6-4c1e-4cfd-b6e7-51691b252571",
   "metadata": {},
   "outputs": [
    {
     "name": "stdout",
     "output_type": "stream",
     "text": [
      "https:\\\\www.google.com\\usearch?q=github&rlz=1C1CHZN_e\n"
     ]
    }
   ],
   "source": [
    "print(r\"https:\\\\www.google.com\\usearch?q=github&rlz=1C1CHZN_e\")"
   ]
  },
  {
   "cell_type": "code",
   "execution_count": 33,
   "id": "31541753-3e79-4bdc-bb65-81e74704e40c",
   "metadata": {},
   "outputs": [
    {
     "name": "stdout",
     "output_type": "stream",
     "text": [
      "https:\\www.google.com\\usearch?q=github&rlz=1C1CHZN_e\n"
     ]
    }
   ],
   "source": [
    "print(\"https:\\\\www.google.com\\\\usearch?q=github&rlz=1C1CHZN_e\")"
   ]
  },
  {
   "cell_type": "code",
   "execution_count": 34,
   "id": "76b4546e-f9db-4370-87a2-4b570ad43d9a",
   "metadata": {},
   "outputs": [
    {
     "ename": "SyntaxError",
     "evalue": "(unicode error) 'unicodeescape' codec can't decode bytes in position 22-23: truncated \\uXXXX escape (1097585726.py, line 1)",
     "output_type": "error",
     "traceback": [
      "\u001b[1;36m  Cell \u001b[1;32mIn[34], line 1\u001b[1;36m\u001b[0m\n\u001b[1;33m    print(\"https:\\\\www.google.com\\usearch?q=github&rlz=1C1CHZN_e\")\u001b[0m\n\u001b[1;37m                                                                 ^\u001b[0m\n\u001b[1;31mSyntaxError\u001b[0m\u001b[1;31m:\u001b[0m (unicode error) 'unicodeescape' codec can't decode bytes in position 22-23: truncated \\uXXXX escape\n"
     ]
    }
   ],
   "source": [
    "print(\"https:\\\\www.google.com\\usearch?q=github&rlz=1C1CHZN_e\")"
   ]
  },
  {
   "cell_type": "code",
   "execution_count": 35,
   "id": "765e8568-d88d-41b5-83a4-fa577f46897a",
   "metadata": {},
   "outputs": [
    {
     "name": "stdout",
     "output_type": "stream",
     "text": [
      "♞\n"
     ]
    }
   ],
   "source": [
    "print(\"\\u265E\")"
   ]
  },
  {
   "cell_type": "code",
   "execution_count": 36,
   "id": "47981300-7d4e-4d3a-94c7-fb439a30c053",
   "metadata": {},
   "outputs": [
    {
     "name": "stdout",
     "output_type": "stream",
     "text": [
      "mangoIndia\n",
      "appleIndia\n",
      "onion\n"
     ]
    }
   ],
   "source": [
    "print(\"mango\",\"apple\",\"onion\",sep=\"India\\n\")"
   ]
  },
  {
   "cell_type": "code",
   "execution_count": 37,
   "id": "e776fcda-43ef-4a7c-bbc6-1aa346c8a102",
   "metadata": {},
   "outputs": [
    {
     "name": "stdout",
     "output_type": "stream",
     "text": [
      "mangoIndia\n",
      "appleIndia\n",
      "onionIndia"
     ]
    }
   ],
   "source": [
    "print(\"mango\",\"apple\",\"onion\",sep=\"India\\n\",end=\"India\")"
   ]
  },
  {
   "cell_type": "code",
   "execution_count": 40,
   "id": "2248ffb5-bb60-4a40-8d4a-c0f3130605a1",
   "metadata": {},
   "outputs": [
    {
     "name": "stdout",
     "output_type": "stream",
     "text": [
      "mango apple onion\n",
      "mango apple onion\n"
     ]
    }
   ],
   "source": [
    "print(\"mango\",\"apple\",\"onion\",end=\"\\n\")\n",
    "print(\"mango\",\"apple\",\"onion\")"
   ]
  },
  {
   "cell_type": "code",
   "execution_count": 41,
   "id": "320c84fc-18dd-46eb-b739-cea011cc19d1",
   "metadata": {},
   "outputs": [
    {
     "name": "stdout",
     "output_type": "stream",
     "text": [
      "mango apple onionmango apple onion\n"
     ]
    }
   ],
   "source": [
    "print(\"mango\",\"apple\",\"onion\",end=\"\")\n",
    "print(\"mango\",\"apple\",\"onion\")"
   ]
  },
  {
   "cell_type": "code",
   "execution_count": null,
   "id": "66926b1b-19e1-4ceb-99cb-f20a6395c145",
   "metadata": {},
   "outputs": [],
   "source": []
  }
 ],
 "metadata": {
  "kernelspec": {
   "display_name": "Python 3 (ipykernel)",
   "language": "python",
   "name": "python3"
  },
  "language_info": {
   "codemirror_mode": {
    "name": "ipython",
    "version": 3
   },
   "file_extension": ".py",
   "mimetype": "text/x-python",
   "name": "python",
   "nbconvert_exporter": "python",
   "pygments_lexer": "ipython3",
   "version": "3.11.4"
  }
 },
 "nbformat": 4,
 "nbformat_minor": 5
}
