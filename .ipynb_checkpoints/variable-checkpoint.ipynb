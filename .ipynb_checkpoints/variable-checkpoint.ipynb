{
 "cells": [
  {
   "cell_type": "code",
   "execution_count": null,
   "id": "2a33a9b0-94cf-494b-84d2-07610aa89b51",
   "metadata": {},
   "outputs": [],
   "source": [
    "# Variable:\n",
    "\n",
    "> Variable name never start with a number.\n",
    "\n",
    "> Variable name never contain special character except underscore(_).\n",
    "        #!\"#$%&\\'()*+,-./:;<=>?@[\\\\]^`{|}~\n",
    "\n",
    "> Variable name must be readable.\n"
   ]
  },
  {
   "cell_type": "code",
   "execution_count": 1,
   "id": "909b4997-79dc-46a1-8fed-c45c730ef067",
   "metadata": {},
   "outputs": [
    {
     "data": {
      "text/plain": [
       "'!\"#$%&\\'()*+,-./:;<=>?@[\\\\]^_`{|}~'"
      ]
     },
     "execution_count": 1,
     "metadata": {},
     "output_type": "execute_result"
    }
   ],
   "source": []
  },
  {
   "cell_type": "code",
   "execution_count": 3,
   "id": "dee7b3db-3cc3-4e04-94d7-71361312ba2d",
   "metadata": {},
   "outputs": [],
   "source": [
    "jenifermethews=10\n",
    "branda_rodrigus=20\n",
    "ram_gopal_verma=20  # snake case"
   ]
  },
  {
   "cell_type": "code",
   "execution_count": 4,
   "id": "4212e3e6-f413-4f08-9440-fd34e789ee2b",
   "metadata": {},
   "outputs": [],
   "source": [
    "ramGopalVerma=20  # camel case"
   ]
  },
  {
   "cell_type": "code",
   "execution_count": null,
   "id": "0545733c-28d1-4bc9-bc50-fe99ec1493d1",
   "metadata": {},
   "outputs": [],
   "source": [
    "RamGopalVerma=20 #pascal case"
   ]
  },
  {
   "cell_type": "code",
   "execution_count": 5,
   "id": "fea08599-740f-4661-a9c8-fd914c7b4edf",
   "metadata": {},
   "outputs": [],
   "source": [
    "# Metadata"
   ]
  },
  {
   "cell_type": "code",
   "execution_count": null,
   "id": "d64178ef-6518-4b8e-8fb5-8f95b6a6c703",
   "metadata": {},
   "outputs": [],
   "source": [
    "a12=23          # a12= name of 12 th employee"
   ]
  },
  {
   "cell_type": "code",
   "execution_count": 6,
   "id": "91526ab0-8146-47a9-94dc-5784d51919cc",
   "metadata": {},
   "outputs": [
    {
     "ename": "SyntaxError",
     "evalue": "invalid decimal literal (2223745171.py, line 1)",
     "output_type": "error",
     "traceback": [
      "\u001b[1;36m  Cell \u001b[1;32mIn[6], line 1\u001b[1;36m\u001b[0m\n\u001b[1;33m    1krishna=10\u001b[0m\n\u001b[1;37m    ^\u001b[0m\n\u001b[1;31mSyntaxError\u001b[0m\u001b[1;31m:\u001b[0m invalid decimal literal\n"
     ]
    }
   ],
   "source": [
    "1krishna=10"
   ]
  },
  {
   "cell_type": "code",
   "execution_count": 7,
   "id": "55a7c0cb-41ec-4ef7-8d65-cb42a070a009",
   "metadata": {},
   "outputs": [],
   "source": [
    "krishna1=10"
   ]
  },
  {
   "cell_type": "code",
   "execution_count": 8,
   "id": "390de5c3-31ed-49e9-bae4-5b45f352a05c",
   "metadata": {},
   "outputs": [
    {
     "name": "stdout",
     "output_type": "stream",
     "text": [
      "10\n"
     ]
    }
   ],
   "source": [
    "print(krishna1)"
   ]
  },
  {
   "cell_type": "code",
   "execution_count": 9,
   "id": "e9f9c769-2f2c-4add-8b0c-88be5a692174",
   "metadata": {},
   "outputs": [
    {
     "name": "stdout",
     "output_type": "stream",
     "text": [
      "krishna1\n"
     ]
    }
   ],
   "source": [
    "print(\"krishna1\")"
   ]
  },
  {
   "cell_type": "code",
   "execution_count": 10,
   "id": "f484664d-8117-41f4-a45b-f2ed8dbe5626",
   "metadata": {},
   "outputs": [],
   "source": [
    "k1rishna=20"
   ]
  },
  {
   "cell_type": "code",
   "execution_count": 11,
   "id": "e34eaacc-9146-4731-994a-20056805fbbf",
   "metadata": {},
   "outputs": [
    {
     "name": "stdout",
     "output_type": "stream",
     "text": [
      "20\n"
     ]
    }
   ],
   "source": [
    "print(k1rishna)"
   ]
  },
  {
   "cell_type": "code",
   "execution_count": 12,
   "id": "e2d5def8-fd87-4be4-959c-4d6b069431ac",
   "metadata": {},
   "outputs": [
    {
     "name": "stdout",
     "output_type": "stream",
     "text": [
      "k1rishna\n"
     ]
    }
   ],
   "source": [
    "print(\"k1rishna\")"
   ]
  },
  {
   "cell_type": "code",
   "execution_count": 13,
   "id": "44d27105-3f0e-4773-943a-44c2d4cb8770",
   "metadata": {},
   "outputs": [
    {
     "ename": "NameError",
     "evalue": "name 'krishna' is not defined",
     "output_type": "error",
     "traceback": [
      "\u001b[1;31m---------------------------------------------------------------------------\u001b[0m",
      "\u001b[1;31mNameError\u001b[0m                                 Traceback (most recent call last)",
      "Cell \u001b[1;32mIn[13], line 1\u001b[0m\n\u001b[1;32m----> 1\u001b[0m \u001b[43mkrishna\u001b[49m\u001b[38;5;241m@\u001b[39m\u001b[38;5;241m=\u001b[39m\u001b[38;5;241m10\u001b[39m\n",
      "\u001b[1;31mNameError\u001b[0m: name 'krishna' is not defined"
     ]
    }
   ],
   "source": [
    "krishna@=10"
   ]
  },
  {
   "cell_type": "code",
   "execution_count": 14,
   "id": "58e55a1b-a1c2-445f-bd8d-9dd6d0f48a78",
   "metadata": {},
   "outputs": [
    {
     "ename": "SyntaxError",
     "evalue": "invalid syntax (44375246.py, line 1)",
     "output_type": "error",
     "traceback": [
      "\u001b[1;36m  Cell \u001b[1;32mIn[14], line 1\u001b[1;36m\u001b[0m\n\u001b[1;33m    kris!hna=10\u001b[0m\n\u001b[1;37m        ^\u001b[0m\n\u001b[1;31mSyntaxError\u001b[0m\u001b[1;31m:\u001b[0m invalid syntax\n"
     ]
    }
   ],
   "source": [
    "kris!hna=10"
   ]
  },
  {
   "cell_type": "code",
   "execution_count": 15,
   "id": "da90fc52-d9b4-4aae-9ecf-2222e673c210",
   "metadata": {},
   "outputs": [],
   "source": [
    "#krishna=20"
   ]
  },
  {
   "cell_type": "code",
   "execution_count": 16,
   "id": "86582217-5cba-477a-b8df-167d9cc7303a",
   "metadata": {},
   "outputs": [
    {
     "ename": "NameError",
     "evalue": "name 'kr' is not defined",
     "output_type": "error",
     "traceback": [
      "\u001b[1;31m---------------------------------------------------------------------------\u001b[0m",
      "\u001b[1;31mNameError\u001b[0m                                 Traceback (most recent call last)",
      "Cell \u001b[1;32mIn[16], line 1\u001b[0m\n\u001b[1;32m----> 1\u001b[0m \u001b[43mkr\u001b[49m\u001b[38;5;66;03m#ishna=20\u001b[39;00m\n",
      "\u001b[1;31mNameError\u001b[0m: name 'kr' is not defined"
     ]
    }
   ],
   "source": [
    "kr#ishna=20"
   ]
  },
  {
   "cell_type": "code",
   "execution_count": 17,
   "id": "2801421a-faf6-4a70-9dae-ea80d78d69b9",
   "metadata": {},
   "outputs": [],
   "source": [
    "krishna=\"krishna\""
   ]
  },
  {
   "cell_type": "code",
   "execution_count": 18,
   "id": "4c29a83e-f43c-4924-bad2-f0db280c1d1b",
   "metadata": {},
   "outputs": [
    {
     "name": "stdout",
     "output_type": "stream",
     "text": [
      "krishna\n"
     ]
    }
   ],
   "source": [
    "print(krishna)"
   ]
  },
  {
   "cell_type": "code",
   "execution_count": 19,
   "id": "221e7c22-aa54-43b8-8d5d-03315f177aee",
   "metadata": {},
   "outputs": [],
   "source": [
    "a=10\n",
    "b=20"
   ]
  },
  {
   "cell_type": "code",
   "execution_count": 20,
   "id": "c1cfc796-732c-4fc4-9eb0-6b0e091a1a67",
   "metadata": {},
   "outputs": [
    {
     "name": "stdout",
     "output_type": "stream",
     "text": [
      "hello world\n"
     ]
    }
   ],
   "source": [
    "print(\"hello world\")"
   ]
  },
  {
   "cell_type": "code",
   "execution_count": 21,
   "id": "47f54a3d-1097-4598-8b13-99af35e04bd0",
   "metadata": {},
   "outputs": [
    {
     "name": "stdout",
     "output_type": "stream",
     "text": [
      "30\n"
     ]
    }
   ],
   "source": [
    "print(a+b)"
   ]
  },
  {
   "cell_type": "code",
   "execution_count": 22,
   "id": "5bce81dc-7a75-46f7-a2c3-5728c8302947",
   "metadata": {},
   "outputs": [],
   "source": [
    "a=1999999999999999999999999999999999999999999999999999999999999999999999999999999999999999999999999999999999999999999"
   ]
  },
  {
   "cell_type": "code",
   "execution_count": 23,
   "id": "15335313-10e9-4ecd-8715-ae3b01eaa2c3",
   "metadata": {},
   "outputs": [],
   "source": [
    "b=20"
   ]
  },
  {
   "cell_type": "code",
   "execution_count": 24,
   "id": "718960dd-691d-4167-a6a6-e96f14bc3ee6",
   "metadata": {},
   "outputs": [
    {
     "name": "stdout",
     "output_type": "stream",
     "text": [
      "2000000000000000000000000000000000000000000000000000000000000000000000000000000000000000000000000000000000000000019\n"
     ]
    }
   ],
   "source": [
    "print(a+b)"
   ]
  },
  {
   "cell_type": "code",
   "execution_count": null,
   "id": "5e72ad9e-07bb-45bd-b84a-9503fdd50f9c",
   "metadata": {},
   "outputs": [],
   "source": []
  }
 ],
 "metadata": {
  "kernelspec": {
   "display_name": "Python 3 (ipykernel)",
   "language": "python",
   "name": "python3"
  },
  "language_info": {
   "codemirror_mode": {
    "name": "ipython",
    "version": 3
   },
   "file_extension": ".py",
   "mimetype": "text/x-python",
   "name": "python",
   "nbconvert_exporter": "python",
   "pygments_lexer": "ipython3",
   "version": "3.11.4"
  }
 },
 "nbformat": 4,
 "nbformat_minor": 5
}
