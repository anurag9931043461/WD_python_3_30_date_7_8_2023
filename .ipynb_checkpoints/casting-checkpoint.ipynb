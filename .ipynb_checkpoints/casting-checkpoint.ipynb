{
 "cells": [
  {
   "cell_type": "markdown",
   "id": "2c8cfb2a-71f9-4d89-a9d0-03ead1a8411d",
   "metadata": {},
   "source": [
    "int()\n",
    "float()\n",
    "str()\n",
    "list()\n",
    "tuple()\n",
    "set()\n",
    "frozenset()\n",
    "dict()\n",
    "complex()\n",
    "bool()"
   ]
  },
  {
   "cell_type": "markdown",
   "id": "c96e4274-a9be-4d73-a57b-0fb00ad7aabe",
   "metadata": {},
   "source": [
    "# int(), float(),str()"
   ]
  },
  {
   "cell_type": "code",
   "execution_count": 2,
   "id": "9fcf7058-f2de-46d7-898e-5828227e5ed7",
   "metadata": {},
   "outputs": [
    {
     "name": "stdout",
     "output_type": "stream",
     "text": [
      "<class 'int'> 10\n"
     ]
    }
   ],
   "source": [
    "a=10\n",
    "print(type(a),a)"
   ]
  },
  {
   "cell_type": "code",
   "execution_count": 6,
   "id": "5918bece-c246-4392-8eeb-173ba91c62e8",
   "metadata": {},
   "outputs": [
    {
     "name": "stdout",
     "output_type": "stream",
     "text": [
      "<class 'float'> 10.0\n"
     ]
    }
   ],
   "source": [
    "b=float(a)\n",
    "print(type(b),b)"
   ]
  },
  {
   "cell_type": "code",
   "execution_count": 11,
   "id": "928da19f-c19c-4778-930f-ec08815e5450",
   "metadata": {},
   "outputs": [
    {
     "name": "stdout",
     "output_type": "stream",
     "text": [
      "<class 'str'> 10\n"
     ]
    }
   ],
   "source": [
    "c=str(a)\n",
    "print(type(c),c)"
   ]
  },
  {
   "cell_type": "markdown",
   "id": "0619c652-9ebe-4752-b558-068a384c59be",
   "metadata": {},
   "source": [
    "# float(), int(),str()"
   ]
  },
  {
   "cell_type": "code",
   "execution_count": 15,
   "id": "4630747f-140a-4567-b70b-b1b43c5a4a48",
   "metadata": {},
   "outputs": [],
   "source": [
    "e=10.09"
   ]
  },
  {
   "cell_type": "code",
   "execution_count": 16,
   "id": "89ffaf96-d62f-49e6-8513-09ec724730f7",
   "metadata": {},
   "outputs": [
    {
     "name": "stdout",
     "output_type": "stream",
     "text": [
      "10\n"
     ]
    }
   ],
   "source": [
    "print(int(e))"
   ]
  },
  {
   "cell_type": "code",
   "execution_count": 20,
   "id": "838d4365-a33d-43c5-bd96-ed3aa78b56c7",
   "metadata": {},
   "outputs": [
    {
     "name": "stdout",
     "output_type": "stream",
     "text": [
      "10.09 <class 'str'>\n"
     ]
    }
   ],
   "source": [
    "f=str(e)\n",
    "print(f,type(f))"
   ]
  },
  {
   "cell_type": "code",
   "execution_count": 21,
   "id": "014d1cde-5b61-41ce-a0f0-4def2546cb6c",
   "metadata": {},
   "outputs": [],
   "source": [
    "g=\"10\""
   ]
  },
  {
   "cell_type": "code",
   "execution_count": 23,
   "id": "e9a79b13-d532-415b-b09e-ff2304481cc8",
   "metadata": {},
   "outputs": [
    {
     "name": "stdout",
     "output_type": "stream",
     "text": [
      "<class 'int'> 10\n"
     ]
    }
   ],
   "source": [
    "i=int(g)\n",
    "print(type(i),i)"
   ]
  },
  {
   "cell_type": "code",
   "execution_count": 32,
   "id": "4d58201e-1f9f-49a6-89f8-b1ab62e1e527",
   "metadata": {},
   "outputs": [
    {
     "name": "stdout",
     "output_type": "stream",
     "text": [
      "<class 'float'> 10.0\n"
     ]
    }
   ],
   "source": [
    "j=float(g)\n",
    "print(type(j),j)"
   ]
  },
  {
   "cell_type": "code",
   "execution_count": 37,
   "id": "934c1c5b-9d2c-4ac8-94d3-c785607e3984",
   "metadata": {},
   "outputs": [],
   "source": [
    "k=\"10.09\""
   ]
  },
  {
   "cell_type": "code",
   "execution_count": 38,
   "id": "28f013c8-5e65-47e6-8772-ff4702cd76b8",
   "metadata": {},
   "outputs": [
    {
     "ename": "ValueError",
     "evalue": "invalid literal for int() with base 10: '10.09'",
     "output_type": "error",
     "traceback": [
      "\u001b[1;31m---------------------------------------------------------------------------\u001b[0m",
      "\u001b[1;31mValueError\u001b[0m                                Traceback (most recent call last)",
      "Cell \u001b[1;32mIn[38], line 1\u001b[0m\n\u001b[1;32m----> 1\u001b[0m \u001b[38;5;28;43mint\u001b[39;49m\u001b[43m(\u001b[49m\u001b[43mk\u001b[49m\u001b[43m)\u001b[49m\n",
      "\u001b[1;31mValueError\u001b[0m: invalid literal for int() with base 10: '10.09'"
     ]
    }
   ],
   "source": [
    "int(k)"
   ]
  },
  {
   "cell_type": "code",
   "execution_count": 39,
   "id": "18e9bac2-61d4-4a6f-89b4-747f25824ec5",
   "metadata": {},
   "outputs": [],
   "source": [
    "l=\"10.2k\""
   ]
  },
  {
   "cell_type": "code",
   "execution_count": 40,
   "id": "fde7bee9-4583-4530-9b78-269a33f25946",
   "metadata": {},
   "outputs": [
    {
     "data": {
      "text/plain": [
       "10.2"
      ]
     },
     "execution_count": 40,
     "metadata": {},
     "output_type": "execute_result"
    }
   ],
   "source": [
    "float(l)"
   ]
  },
  {
   "cell_type": "markdown",
   "id": "a8acf268-cfce-4d45-bca7-f8a97ae6c253",
   "metadata": {},
   "source": [
    "# list(),tuple(),set(),frozenset()"
   ]
  },
  {
   "cell_type": "code",
   "execution_count": 43,
   "id": "36313f6c-b905-4b60-93a3-729bda365f96",
   "metadata": {},
   "outputs": [],
   "source": [
    "a=[1,1,1,2,2,3,3,4,5]"
   ]
  },
  {
   "cell_type": "code",
   "execution_count": 44,
   "id": "665d27ff-24b7-45d9-852f-96a4c576d9bd",
   "metadata": {},
   "outputs": [
    {
     "data": {
      "text/plain": [
       "9"
      ]
     },
     "execution_count": 44,
     "metadata": {},
     "output_type": "execute_result"
    }
   ],
   "source": [
    "len(a)"
   ]
  },
  {
   "cell_type": "code",
   "execution_count": 46,
   "id": "240b4473-bbc8-4404-b5e3-ea758766e42f",
   "metadata": {},
   "outputs": [],
   "source": [
    "k=tuple(a)"
   ]
  },
  {
   "cell_type": "code",
   "execution_count": 47,
   "id": "c81def8b-fb27-4690-8d67-97a942ebc839",
   "metadata": {},
   "outputs": [
    {
     "name": "stdout",
     "output_type": "stream",
     "text": [
      "(1, 1, 1, 2, 2, 3, 3, 4, 5)\n"
     ]
    }
   ],
   "source": [
    "print(k)"
   ]
  },
  {
   "cell_type": "code",
   "execution_count": 48,
   "id": "579048b7-4933-4eeb-a409-ffccd02dcfdf",
   "metadata": {},
   "outputs": [
    {
     "data": {
      "text/plain": [
       "{1, 2, 3, 4, 5}"
      ]
     },
     "execution_count": 48,
     "metadata": {},
     "output_type": "execute_result"
    }
   ],
   "source": [
    "set(k)"
   ]
  },
  {
   "cell_type": "code",
   "execution_count": 50,
   "id": "11424988-0c5e-404d-9641-d43aaaff8616",
   "metadata": {},
   "outputs": [],
   "source": [
    "j=frozenset(k)"
   ]
  },
  {
   "cell_type": "code",
   "execution_count": 51,
   "id": "72000444-5e35-422b-89ee-2e3800810d5e",
   "metadata": {},
   "outputs": [
    {
     "data": {
      "text/plain": [
       "frozenset({1, 2, 3, 4, 5})"
      ]
     },
     "execution_count": 51,
     "metadata": {},
     "output_type": "execute_result"
    }
   ],
   "source": [
    "j"
   ]
  },
  {
   "cell_type": "code",
   "execution_count": 52,
   "id": "9c4b9520-b329-4e70-a363-de19f06a38f3",
   "metadata": {},
   "outputs": [
    {
     "data": {
      "text/plain": [
       "[1, 2, 3, 4, 5]"
      ]
     },
     "execution_count": 52,
     "metadata": {},
     "output_type": "execute_result"
    }
   ],
   "source": [
    "list(j)"
   ]
  },
  {
   "cell_type": "code",
   "execution_count": 53,
   "id": "46dd5d38-1bdf-45ac-a798-daa624e691e0",
   "metadata": {},
   "outputs": [
    {
     "data": {
      "text/plain": [
       "False"
      ]
     },
     "execution_count": 53,
     "metadata": {},
     "output_type": "execute_result"
    }
   ],
   "source": [
    "bool(0)"
   ]
  },
  {
   "cell_type": "code",
   "execution_count": 54,
   "id": "80d9e2f2-1440-423d-b7c6-2c1b5e4a7acb",
   "metadata": {},
   "outputs": [
    {
     "data": {
      "text/plain": [
       "0j"
      ]
     },
     "execution_count": 54,
     "metadata": {},
     "output_type": "execute_result"
    }
   ],
   "source": [
    "complex()"
   ]
  },
  {
   "cell_type": "code",
   "execution_count": 55,
   "id": "41abaf2f-133c-4dc2-8c0f-a026c0ee42ee",
   "metadata": {},
   "outputs": [
    {
     "data": {
      "text/plain": [
       "(2+0j)"
      ]
     },
     "execution_count": 55,
     "metadata": {},
     "output_type": "execute_result"
    }
   ],
   "source": [
    "complex(2)"
   ]
  },
  {
   "cell_type": "code",
   "execution_count": 56,
   "id": "2f8a0c93-c4f5-4def-8d60-d440299e7b18",
   "metadata": {},
   "outputs": [
    {
     "data": {
      "text/plain": [
       "(2+4j)"
      ]
     },
     "execution_count": 56,
     "metadata": {},
     "output_type": "execute_result"
    }
   ],
   "source": [
    "complex(2,4)"
   ]
  },
  {
   "cell_type": "code",
   "execution_count": 57,
   "id": "12614e31-f0ad-4a68-96dd-108a2cfb4959",
   "metadata": {},
   "outputs": [
    {
     "ename": "TypeError",
     "evalue": "complex() takes at most 2 arguments (3 given)",
     "output_type": "error",
     "traceback": [
      "\u001b[1;31m---------------------------------------------------------------------------\u001b[0m",
      "\u001b[1;31mTypeError\u001b[0m                                 Traceback (most recent call last)",
      "Cell \u001b[1;32mIn[57], line 1\u001b[0m\n\u001b[1;32m----> 1\u001b[0m \u001b[38;5;28;43mcomplex\u001b[39;49m\u001b[43m(\u001b[49m\u001b[38;5;241;43m2\u001b[39;49m\u001b[43m,\u001b[49m\u001b[38;5;241;43m4\u001b[39;49m\u001b[43m,\u001b[49m\u001b[38;5;241;43m5\u001b[39;49m\u001b[43m)\u001b[49m\n",
      "\u001b[1;31mTypeError\u001b[0m: complex() takes at most 2 arguments (3 given)"
     ]
    }
   ],
   "source": [
    "complex(2,4,5)"
   ]
  },
  {
   "cell_type": "code",
   "execution_count": null,
   "id": "60558cd5-6035-45b6-ac14-f0e638562925",
   "metadata": {},
   "outputs": [],
   "source": []
  }
 ],
 "metadata": {
  "kernelspec": {
   "display_name": "Python 3 (ipykernel)",
   "language": "python",
   "name": "python3"
  },
  "language_info": {
   "codemirror_mode": {
    "name": "ipython",
    "version": 3
   },
   "file_extension": ".py",
   "mimetype": "text/x-python",
   "name": "python",
   "nbconvert_exporter": "python",
   "pygments_lexer": "ipython3",
   "version": "3.11.5"
  }
 },
 "nbformat": 4,
 "nbformat_minor": 5
}
