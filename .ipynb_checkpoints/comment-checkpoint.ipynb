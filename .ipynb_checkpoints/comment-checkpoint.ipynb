{
 "cells": [
  {
   "cell_type": "markdown",
   "id": "e9fbcb68-6fb3-4f74-9ca2-26b245cc74ae",
   "metadata": {},
   "source": [
    "# Comment\n",
    "\n",
    "> use as marker\n",
    "\n",
    "> to test our code."
   ]
  },
  {
   "cell_type": "code",
   "execution_count": 5,
   "id": "13ca0908-8d6c-4ec5-a0ab-7614a5741fb6",
   "metadata": {},
   "outputs": [],
   "source": [
    "#print(\"Hello world\")  # print() is used to echo something on screen/ console  \n",
    "#I am krishna"
   ]
  },
  {
   "cell_type": "code",
   "execution_count": 24,
   "id": "07a7e319-d452-4d0c-b26b-638636f3af6f",
   "metadata": {},
   "outputs": [
    {
     "ename": "SyntaxError",
     "evalue": "incomplete input (224659434.py, line 3)",
     "output_type": "error",
     "traceback": [
      "\u001b[1;36m  Cell \u001b[1;32mIn[24], line 3\u001b[1;36m\u001b[0m\n\u001b[1;33m    print(\"\"\"Hello world)\u001b[0m\n\u001b[1;37m          ^\u001b[0m\n\u001b[1;31mSyntaxError\u001b[0m\u001b[1;31m:\u001b[0m incomplete input\n"
     ]
    }
   ],
   "source": [
    "print(\"Hello world\")\n",
    "print('Hello world')\n",
    "print(\"\"\"Hello world)\n",
    "print('''Hello world''')"
   ]
  },
  {
   "cell_type": "code",
   "execution_count": 13,
   "id": "de0935ce-3c21-445f-9617-961665c1d129",
   "metadata": {},
   "outputs": [
    {
     "name": "stdout",
     "output_type": "stream",
     "text": [
      "Hello world\n",
      "Hello world\n",
      "Hello world\n",
      "Hello world\n"
     ]
    }
   ],
   "source": [
    "print(\"Hello world\")\n",
    "print('Hello world')\n",
    "print(\"\"\"Hello world\"\"\")\n",
    "print('''Hello world''')"
   ]
  },
  {
   "cell_type": "code",
   "execution_count": 16,
   "id": "c68a4dac-a620-4917-8abe-7ceb4dccbd4b",
   "metadata": {},
   "outputs": [
    {
     "name": "stdout",
     "output_type": "stream",
     "text": [
      " this is krishna \n",
      "I am in MCA final year \n",
      "\n",
      "preparing for phd in AI\n",
      "hello world\n"
     ]
    }
   ],
   "source": [
    "print(\"\"\" this is krishna \n",
    "I am in MCA final year \n",
    "\n",
    "preparing for phd in AI\"\"\")\n",
    "print(\"hello world\")"
   ]
  },
  {
   "cell_type": "code",
   "execution_count": 19,
   "id": "475b0086-4ca1-4164-9382-521a451f5b13",
   "metadata": {},
   "outputs": [
    {
     "ename": "SyntaxError",
     "evalue": "incomplete input (2253905146.py, line 2)",
     "output_type": "error",
     "traceback": [
      "\u001b[1;36m  Cell \u001b[1;32mIn[19], line 2\u001b[1;36m\u001b[0m\n\u001b[1;33m    print(\"hello world\")\u001b[0m\n\u001b[1;37m                        ^\u001b[0m\n\u001b[1;31mSyntaxError\u001b[0m\u001b[1;31m:\u001b[0m incomplete input\n"
     ]
    }
   ],
   "source": [
    "print(# this is krishna)\n",
    "print(\"hello world\")"
   ]
  },
  {
   "cell_type": "code",
   "execution_count": 20,
   "id": "144832f8-fa1f-4ff2-a146-6315fb8d7823",
   "metadata": {},
   "outputs": [
    {
     "ename": "NameError",
     "evalue": "name 'this' is not defined",
     "output_type": "error",
     "traceback": [
      "\u001b[1;31m---------------------------------------------------------------------------\u001b[0m",
      "\u001b[1;31mNameError\u001b[0m                                 Traceback (most recent call last)",
      "Cell \u001b[1;32mIn[20], line 1\u001b[0m\n\u001b[1;32m----> 1\u001b[0m \u001b[43mthis\u001b[49m \u001b[38;5;129;01mis\u001b[39;00m abc\n\u001b[0;32m      2\u001b[0m \u001b[38;5;66;03m#krishna\u001b[39;00m\n",
      "\u001b[1;31mNameError\u001b[0m: name 'this' is not defined"
     ]
    }
   ],
   "source": [
    "\"this is abc\"\n",
    "#krishna\n",
    "#krishna"
   ]
  },
  {
   "cell_type": "code",
   "execution_count": 22,
   "id": "ffa6f727-8124-46f1-83ee-b1defb01651f",
   "metadata": {},
   "outputs": [
    {
     "name": "stdout",
     "output_type": "stream",
     "text": [
      " this is krishna \n",
      "#I am in MCA final year \n",
      "\n",
      "preparing for phd in AI\n"
     ]
    }
   ],
   "source": [
    "print(\"\"\" this is krishna \n",
    "#I am in MCA final year \n",
    "\n",
    "preparing for phd in AI\"\"\")\n"
   ]
  },
  {
   "cell_type": "code",
   "execution_count": null,
   "id": "50e2e0b7-965a-48f4-badd-0455065d52c9",
   "metadata": {},
   "outputs": [],
   "source": []
  }
 ],
 "metadata": {
  "kernelspec": {
   "display_name": "Python 3 (ipykernel)",
   "language": "python",
   "name": "python3"
  },
  "language_info": {
   "codemirror_mode": {
    "name": "ipython",
    "version": 3
   },
   "file_extension": ".py",
   "mimetype": "text/x-python",
   "name": "python",
   "nbconvert_exporter": "python",
   "pygments_lexer": "ipython3",
   "version": "3.11.4"
  }
 },
 "nbformat": 4,
 "nbformat_minor": 5
}
