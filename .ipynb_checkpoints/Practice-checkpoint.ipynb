{
 "cells": [
  {
   "cell_type": "code",
   "execution_count": 1,
   "id": "0370f7a1-baab-4a0d-aa32-a0b9129da437",
   "metadata": {},
   "outputs": [],
   "source": [
    "a=(1)"
   ]
  },
  {
   "cell_type": "code",
   "execution_count": 2,
   "id": "5d8f706c-8f21-4d57-aec2-2f21dd1ca51f",
   "metadata": {},
   "outputs": [
    {
     "name": "stdout",
     "output_type": "stream",
     "text": [
      "1\n"
     ]
    }
   ],
   "source": [
    "print(a)"
   ]
  },
  {
   "cell_type": "code",
   "execution_count": 3,
   "id": "6209aa0a-3755-4db0-9d7a-6242f599ab52",
   "metadata": {},
   "outputs": [],
   "source": [
    "b=(1,2,3,4,5)"
   ]
  },
  {
   "cell_type": "code",
   "execution_count": 4,
   "id": "d167d843-493b-4461-a66f-9f055e61e82b",
   "metadata": {},
   "outputs": [
    {
     "data": {
      "text/plain": [
       "frozenset({1, 2, 3, 4, 5})"
      ]
     },
     "execution_count": 4,
     "metadata": {},
     "output_type": "execute_result"
    }
   ],
   "source": [
    "frozenset(b)"
   ]
  },
  {
   "cell_type": "code",
   "execution_count": 5,
   "id": "394e1fbd-494b-499d-9f60-621bec4781e0",
   "metadata": {},
   "outputs": [
    {
     "ename": "TypeError",
     "evalue": "unhashable type: 'list'",
     "output_type": "error",
     "traceback": [
      "\u001b[1;31m---------------------------------------------------------------------------\u001b[0m",
      "\u001b[1;31mTypeError\u001b[0m                                 Traceback (most recent call last)",
      "Cell \u001b[1;32mIn[5], line 1\u001b[0m\n\u001b[1;32m----> 1\u001b[0m c\u001b[38;5;241m=\u001b[39m({[{\u001b[38;5;241m1\u001b[39m,\u001b[38;5;241m2\u001b[39m,\u001b[38;5;241m3\u001b[39m,\u001b[38;5;241m4\u001b[39m}]})\n",
      "\u001b[1;31mTypeError\u001b[0m: unhashable type: 'list'"
     ]
    }
   ],
   "source": [
    "c=({[{1,2,3,4}]})"
   ]
  },
  {
   "cell_type": "code",
   "execution_count": 7,
   "id": "bb8326af-9079-4947-8aee-72e94b016698",
   "metadata": {},
   "outputs": [],
   "source": [
    "a=[1,2,3,bool(),0.32,bool(2*0)]  #[1,2,3,False,0.32,False]"
   ]
  },
  {
   "cell_type": "code",
   "execution_count": 8,
   "id": "7d3867cb-05d9-4680-b5e4-0024dedadd71",
   "metadata": {},
   "outputs": [
    {
     "name": "stdout",
     "output_type": "stream",
     "text": [
      "[1, 2, 3, False, 0.32, False]\n"
     ]
    }
   ],
   "source": [
    "print(a)"
   ]
  },
  {
   "cell_type": "code",
   "execution_count": 9,
   "id": "83eb981b-74ed-4ceb-9842-9e0d0efda053",
   "metadata": {},
   "outputs": [
    {
     "name": "stdout",
     "output_type": "stream",
     "text": [
      "['krishna']\n"
     ]
    }
   ],
   "source": [
    "print()"
   ]
  },
  {
   "cell_type": "code",
   "execution_count": 10,
   "id": "0d5c20f6-d888-4e0e-8b9f-faffc4a5e448",
   "metadata": {},
   "outputs": [
    {
     "data": {
      "text/plain": [
       "[]"
      ]
     },
     "execution_count": 10,
     "metadata": {},
     "output_type": "execute_result"
    }
   ],
   "source": [
    "list()"
   ]
  },
  {
   "cell_type": "code",
   "execution_count": 11,
   "id": "a64a8307-5663-4bb8-8ce6-c59fc72fcc82",
   "metadata": {},
   "outputs": [
    {
     "data": {
      "text/plain": [
       "['krishna']"
      ]
     },
     "execution_count": 11,
     "metadata": {},
     "output_type": "execute_result"
    }
   ],
   "source": [
    "[\"krishna\"]"
   ]
  },
  {
   "cell_type": "code",
   "execution_count": 12,
   "id": "1402478b-59c5-4196-bfb3-dcb2908453c9",
   "metadata": {},
   "outputs": [
    {
     "name": "stdout",
     "output_type": "stream",
     "text": [
      "['k', 'r', 'i', 's', 'h', 'n', 'a']\n"
     ]
    }
   ],
   "source": [
    "print(list(\"krishna\"))"
   ]
  },
  {
   "cell_type": "code",
   "execution_count": 15,
   "id": "b2f699ef-e9e9-4cf3-aab9-49b6015b5557",
   "metadata": {},
   "outputs": [
    {
     "name": "stdout",
     "output_type": "stream",
     "text": [
      "['k', 'r', 'i', 's', 'h', 'n', 'a']\n"
     ]
    }
   ],
   "source": [
    "a=list(\"krishna\")\n",
    "print(a)"
   ]
  },
  {
   "cell_type": "code",
   "execution_count": 17,
   "id": "20c1f9d1-2bdd-4fb2-8c60-ab48e9ab8eb8",
   "metadata": {},
   "outputs": [
    {
     "data": {
      "text/plain": [
       "['krishna']"
      ]
     },
     "execution_count": 17,
     "metadata": {},
     "output_type": "execute_result"
    }
   ],
   "source": [
    "[\"\".join(a)]"
   ]
  },
  {
   "cell_type": "code",
   "execution_count": 18,
   "id": "f10fe372-0303-420a-9da4-cb508d3c4870",
   "metadata": {},
   "outputs": [],
   "source": [
    "a={bool(float(0.0)),bool(0.0000)}"
   ]
  },
  {
   "cell_type": "code",
   "execution_count": 19,
   "id": "6a6045cf-6ac4-41a9-9f6a-59ae2e50051f",
   "metadata": {},
   "outputs": [
    {
     "name": "stdout",
     "output_type": "stream",
     "text": [
      "{False}\n"
     ]
    }
   ],
   "source": [
    "print(a)"
   ]
  },
  {
   "cell_type": "code",
   "execution_count": 20,
   "id": "c6292f66-4656-4729-be5c-c98ab17c4b5b",
   "metadata": {},
   "outputs": [
    {
     "ename": "TypeError",
     "evalue": "unhashable type: 'dict'",
     "output_type": "error",
     "traceback": [
      "\u001b[1;31m---------------------------------------------------------------------------\u001b[0m",
      "\u001b[1;31mTypeError\u001b[0m                                 Traceback (most recent call last)",
      "Cell \u001b[1;32mIn[20], line 3\u001b[0m\n\u001b[0;32m      1\u001b[0m \u001b[38;5;28;01mimport\u001b[39;00m \u001b[38;5;21;01mmath\u001b[39;00m\n\u001b[0;32m      2\u001b[0m math\u001b[38;5;241m.\u001b[39mpi\u001b[38;5;241m=\u001b[39m\u001b[38;5;241m3.1416\u001b[39m\n\u001b[1;32m----> 3\u001b[0m a\u001b[38;5;241m=\u001b[39m[{},(),{{}},\u001b[38;5;241m3.214\u001b[39m,{math\u001b[38;5;241m.\u001b[39mpi}]\n",
      "\u001b[1;31mTypeError\u001b[0m: unhashable type: 'dict'"
     ]
    }
   ],
   "source": [
    "import math\n",
    "math.pi=3.1416\n",
    "a=[{},(),{{}},3.214,{math.pi}]"
   ]
  },
  {
   "cell_type": "code",
   "execution_count": 21,
   "id": "92afc923-87f6-4676-8a8b-3a08e57f4999",
   "metadata": {},
   "outputs": [],
   "source": [
    "import math\n",
    "math.pi=3.1416\n",
    "a=[{},(),3.214,{math.pi}]"
   ]
  },
  {
   "cell_type": "code",
   "execution_count": 22,
   "id": "bce5b518-ccb1-4e23-ad28-1302038b94af",
   "metadata": {},
   "outputs": [
    {
     "name": "stdout",
     "output_type": "stream",
     "text": [
      "[{}, (), 3.214, {3.1416}]\n"
     ]
    }
   ],
   "source": [
    "print(a)"
   ]
  },
  {
   "cell_type": "code",
   "execution_count": 28,
   "id": "1f34fb64-4029-4b54-870c-d8d49df84268",
   "metadata": {},
   "outputs": [],
   "source": [
    "a=set({1:\"krishna\"})"
   ]
  },
  {
   "cell_type": "code",
   "execution_count": 29,
   "id": "1d520b24-82f2-4afa-8fb2-c7eb63be90f9",
   "metadata": {},
   "outputs": [
    {
     "name": "stdout",
     "output_type": "stream",
     "text": [
      "{1}\n"
     ]
    }
   ],
   "source": [
    "print(a)"
   ]
  },
  {
   "cell_type": "code",
   "execution_count": 27,
   "id": "76be12d1-fb53-4451-8061-c2a5da78838d",
   "metadata": {},
   "outputs": [
    {
     "data": {
      "text/plain": [
       "{1, 3, 4}"
      ]
     },
     "execution_count": 27,
     "metadata": {},
     "output_type": "execute_result"
    }
   ],
   "source": [
    "set([1,3,4])"
   ]
  },
  {
   "cell_type": "code",
   "execution_count": null,
   "id": "29ac83b0-991a-40e7-bedc-60a9771400aa",
   "metadata": {},
   "outputs": [],
   "source": []
  }
 ],
 "metadata": {
  "kernelspec": {
   "display_name": "Python 3 (ipykernel)",
   "language": "python",
   "name": "python3"
  },
  "language_info": {
   "codemirror_mode": {
    "name": "ipython",
    "version": 3
   },
   "file_extension": ".py",
   "mimetype": "text/x-python",
   "name": "python",
   "nbconvert_exporter": "python",
   "pygments_lexer": "ipython3",
   "version": "3.11.5"
  }
 },
 "nbformat": 4,
 "nbformat_minor": 5
}
