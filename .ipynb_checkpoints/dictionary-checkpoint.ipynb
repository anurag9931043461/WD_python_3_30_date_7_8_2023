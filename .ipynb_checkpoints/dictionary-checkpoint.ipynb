{
 "cells": [
  {
   "cell_type": "markdown",
   "id": "e015db20-4ad0-4203-bab2-2dd1d266ee62",
   "metadata": {},
   "source": [
    "# dictionary:\n",
    "\n",
    "> dictionary constructor is dict()\n",
    "\n",
    "> dictionary literal is { }\n",
    "\n",
    "> dictionary is ordered set of sequence of items(items is the collection of key and value pair)\n",
    "\n",
    "> dictionary is mutable(unhashable)\n",
    "\n",
    ">dictionary support indexing \n",
    "\n",
    "> dictionary doesnot support slicing \n",
    "\n",
    "> dictionary doesnot support concatination\n",
    "\n",
    "> dictionary support nested dictionary\n",
    "\n",
    "> dictionary key must be immutable datatype(hashable datatype)\n",
    "\n",
    "> dictionary methods."
   ]
  },
  {
   "cell_type": "code",
   "execution_count": 1,
   "id": "b7d19935-0275-46e9-aed4-1927850bf8b4",
   "metadata": {},
   "outputs": [],
   "source": [
    "a={1:\"krishna\",2:\"Mohan\",3:\"Sohan\",5:\"Manish\"}"
   ]
  },
  {
   "cell_type": "code",
   "execution_count": 2,
   "id": "7793af6c-8af7-4f6d-8d10-9cf557c4edca",
   "metadata": {},
   "outputs": [
    {
     "name": "stdout",
     "output_type": "stream",
     "text": [
      "{1: 'krishna', 2: 'Mohan', 3: 'Sohan', 5: 'Manish'}\n"
     ]
    }
   ],
   "source": [
    "print(a)"
   ]
  },
  {
   "cell_type": "code",
   "execution_count": 3,
   "id": "599e5cb1-c8c1-4378-8173-5898da0acbc5",
   "metadata": {},
   "outputs": [
    {
     "name": "stdout",
     "output_type": "stream",
     "text": [
      "4\n"
     ]
    }
   ],
   "source": [
    "print(len(a))"
   ]
  },
  {
   "cell_type": "code",
   "execution_count": 5,
   "id": "65b2edf2-0f68-4c25-862a-aa57423b8e4f",
   "metadata": {},
   "outputs": [],
   "source": [
    "b={1:\"krishna\",2.03:\"Mohan\",\"father's name\":\"Sunil\",(1,2,3):\"mohit\",frozenset({1,2,3}):\"sohna\"}"
   ]
  },
  {
   "cell_type": "code",
   "execution_count": 6,
   "id": "7ca3618e-a089-45b9-98cb-d2ab1bbf5687",
   "metadata": {},
   "outputs": [
    {
     "data": {
      "text/plain": [
       "{1: 'krishna',\n",
       " 2.03: 'Mohan',\n",
       " \"father's name\": 'Sunil',\n",
       " (1, 2, 3): 'mohit',\n",
       " frozenset({1, 2, 3}): 'sohna'}"
      ]
     },
     "execution_count": 6,
     "metadata": {},
     "output_type": "execute_result"
    }
   ],
   "source": [
    "b"
   ]
  },
  {
   "cell_type": "code",
   "execution_count": 7,
   "id": "978381ad-705d-4fbc-ba13-74594e835ce2",
   "metadata": {},
   "outputs": [
    {
     "name": "stdout",
     "output_type": "stream",
     "text": [
      "{1: 'krishna', 2: 'Mohan', 3: 'Sohan', 5: 'Manish'}\n"
     ]
    }
   ],
   "source": [
    "print(a)"
   ]
  },
  {
   "cell_type": "code",
   "execution_count": 8,
   "id": "092428ab-0340-4c7b-9697-8b88ccd3ed39",
   "metadata": {},
   "outputs": [
    {
     "data": {
      "text/plain": [
       "'krishna'"
      ]
     },
     "execution_count": 8,
     "metadata": {},
     "output_type": "execute_result"
    }
   ],
   "source": [
    "a[1]"
   ]
  },
  {
   "cell_type": "code",
   "execution_count": 9,
   "id": "b3c42641-0a94-4a9e-ad8f-c8cfb49fba08",
   "metadata": {},
   "outputs": [],
   "source": [
    "c={\"name\":\"krishna\",\"father\":\"Sunil\",\"mother\":\"Suman\"}"
   ]
  },
  {
   "cell_type": "code",
   "execution_count": 10,
   "id": "a82b7c6a-cad1-4174-9515-6e51c35f9636",
   "metadata": {},
   "outputs": [
    {
     "data": {
      "text/plain": [
       "'krishna'"
      ]
     },
     "execution_count": 10,
     "metadata": {},
     "output_type": "execute_result"
    }
   ],
   "source": [
    "c[\"name\"]"
   ]
  },
  {
   "cell_type": "code",
   "execution_count": 11,
   "id": "3da0994d-efd0-4edf-8666-9a3c1d16e042",
   "metadata": {},
   "outputs": [
    {
     "data": {
      "text/plain": [
       "'Sunil'"
      ]
     },
     "execution_count": 11,
     "metadata": {},
     "output_type": "execute_result"
    }
   ],
   "source": [
    "c[\"father\"]"
   ]
  },
  {
   "cell_type": "code",
   "execution_count": 12,
   "id": "b371a03a-7a67-4d8b-8ddb-e6731d014039",
   "metadata": {},
   "outputs": [
    {
     "data": {
      "text/plain": [
       "'Suman'"
      ]
     },
     "execution_count": 12,
     "metadata": {},
     "output_type": "execute_result"
    }
   ],
   "source": [
    "c[\"mother\"]"
   ]
  },
  {
   "cell_type": "code",
   "execution_count": 13,
   "id": "d1e05178-76c8-403e-96b1-881890b424c2",
   "metadata": {},
   "outputs": [],
   "source": [
    "c={\"name\":\"krishna\",\"father\":\"Sunil\",\"mother\":\"Suman\",\"name\":\"Sohan\"}"
   ]
  },
  {
   "cell_type": "code",
   "execution_count": 14,
   "id": "384b3ecc-fea9-481c-b1a4-b9a59d8ba0a3",
   "metadata": {},
   "outputs": [
    {
     "name": "stdout",
     "output_type": "stream",
     "text": [
      "{'name': 'Sohan', 'father': 'Sunil', 'mother': 'Suman'}\n"
     ]
    }
   ],
   "source": [
    "print(c)"
   ]
  },
  {
   "cell_type": "code",
   "execution_count": 15,
   "id": "4523b1dc-c77d-45ae-bbc7-2a842138e896",
   "metadata": {},
   "outputs": [],
   "source": [
    "a=10"
   ]
  },
  {
   "cell_type": "code",
   "execution_count": 16,
   "id": "c2c44b1e-df83-4c8e-a077-36466b04eb7f",
   "metadata": {},
   "outputs": [],
   "source": [
    "a=20"
   ]
  },
  {
   "cell_type": "code",
   "execution_count": 17,
   "id": "4ee4c1c0-e963-4a48-9300-05b23cdd8bf0",
   "metadata": {},
   "outputs": [
    {
     "name": "stdout",
     "output_type": "stream",
     "text": [
      "20\n"
     ]
    }
   ],
   "source": [
    "print(a)"
   ]
  },
  {
   "cell_type": "code",
   "execution_count": 20,
   "id": "c498627a-08b3-4c81-a406-228bcf305f53",
   "metadata": {},
   "outputs": [],
   "source": [
    "c={191808813:{\"name\":\"krishna\",\"father\":\"Sunil\",\"mother\":\"Suman\"},\n",
    "  191808814:{\"name\":\"krishna\",\"father\":\"Sunil\",\"mother\":\"Suman\"}\n",
    "  }"
   ]
  },
  {
   "cell_type": "code",
   "execution_count": 21,
   "id": "1e862515-d982-46e6-9a3f-64933b5ec958",
   "metadata": {},
   "outputs": [
    {
     "data": {
      "text/plain": [
       "{'name': 'krishna', 'father': 'Sunil', 'mother': 'Suman'}"
      ]
     },
     "execution_count": 21,
     "metadata": {},
     "output_type": "execute_result"
    }
   ],
   "source": [
    "c[191808813]"
   ]
  },
  {
   "cell_type": "code",
   "execution_count": 22,
   "id": "56c4f007-580f-4d59-ae71-e23fcddc2e81",
   "metadata": {},
   "outputs": [
    {
     "data": {
      "text/plain": [
       "'Sunil'"
      ]
     },
     "execution_count": 22,
     "metadata": {},
     "output_type": "execute_result"
    }
   ],
   "source": [
    "c[191808813][\"father\"]"
   ]
  },
  {
   "cell_type": "code",
   "execution_count": 23,
   "id": "ac07dc7d-10f1-4466-9cfe-feea9f00abb3",
   "metadata": {},
   "outputs": [],
   "source": [
    "d={1:10,2:11.99,3:\"abc\",4:[1,2,3,4],5:(1,2,3),6:{1,2,3},7:frozenset({1,2,3}),\n",
    "  8:{1:\"krishna\"}}"
   ]
  },
  {
   "cell_type": "code",
   "execution_count": 26,
   "id": "f5a52440-77d2-4c20-a2e3-4def4f748818",
   "metadata": {},
   "outputs": [
    {
     "data": {
      "text/plain": [
       "{1: 10,\n",
       " 2: 11.99,\n",
       " 3: 'abc',\n",
       " 4: [1, 2, 3, 4],\n",
       " 5: (1, 2, 3),\n",
       " 6: {1, 2, 3},\n",
       " 7: frozenset({1, 2, 3}),\n",
       " 8: {1: 'krishna'}}"
      ]
     },
     "execution_count": 26,
     "metadata": {},
     "output_type": "execute_result"
    }
   ],
   "source": [
    "d"
   ]
  },
  {
   "cell_type": "code",
   "execution_count": 28,
   "id": "964b5671-674f-44d4-ac79-2b6a414dd016",
   "metadata": {},
   "outputs": [
    {
     "name": "stdout",
     "output_type": "stream",
     "text": [
      "{}\n"
     ]
    }
   ],
   "source": [
    "x=dict()\n",
    "print(x)"
   ]
  },
  {
   "cell_type": "code",
   "execution_count": 30,
   "id": "76c2a1ab-0307-4e9e-9b7c-026c216607ed",
   "metadata": {},
   "outputs": [
    {
     "name": "stdout",
     "output_type": "stream",
     "text": [
      "{}\n",
      "<class 'str'>\n"
     ]
    }
   ],
   "source": [
    "y=\"{}\"\n",
    "print(y)\n",
    "print(type(y))"
   ]
  },
  {
   "cell_type": "code",
   "execution_count": 31,
   "id": "34f2801b-271e-4af7-ad15-f9cd38139a8a",
   "metadata": {},
   "outputs": [
    {
     "name": "stdout",
     "output_type": "stream",
     "text": [
      "{}\n",
      "<class 'dict'>\n"
     ]
    }
   ],
   "source": [
    "y={}\n",
    "print(y)\n",
    "print(type(y))"
   ]
  },
  {
   "cell_type": "code",
   "execution_count": 27,
   "id": "9940bf30-196a-4df6-8570-56605e7dfc95",
   "metadata": {},
   "outputs": [],
   "source": [
    "# dictionary methods."
   ]
  },
  {
   "cell_type": "markdown",
   "id": "d5ad3def-b680-4a3c-8902-91ee9b309109",
   "metadata": {},
   "source": [
    "'clear',\n",
    " 'copy',\n",
    " 'fromkeys',\n",
    " 'get',\n",
    " 'items',\n",
    " 'keys',\n",
    " 'pop',\n",
    " 'popitem',\n",
    " 'setdefault',\n",
    " 'update',\n",
    " 'values'"
   ]
  },
  {
   "cell_type": "code",
   "execution_count": 35,
   "id": "8bfc0b5d-4411-4ee9-99a5-dd9584750e6f",
   "metadata": {},
   "outputs": [
    {
     "name": "stdout",
     "output_type": "stream",
     "text": [
      "{1: 'krishna', 2.03: 'Mohan', \"father's name\": 'Sunil', (1, 2, 3): 'mohit', frozenset({1, 2, 3}): 'sohna'}\n"
     ]
    }
   ],
   "source": [
    "print(b)"
   ]
  },
  {
   "cell_type": "code",
   "execution_count": 36,
   "id": "457c615c-85a6-422f-8239-ce9669d49439",
   "metadata": {},
   "outputs": [
    {
     "data": {
      "text/plain": [
       "'krishna'"
      ]
     },
     "execution_count": 36,
     "metadata": {},
     "output_type": "execute_result"
    }
   ],
   "source": [
    "b.pop(1)"
   ]
  },
  {
   "cell_type": "code",
   "execution_count": 37,
   "id": "f7b50455-d0d3-4f27-8a98-4df5b97d674c",
   "metadata": {},
   "outputs": [
    {
     "name": "stdout",
     "output_type": "stream",
     "text": [
      "{2.03: 'Mohan', \"father's name\": 'Sunil', (1, 2, 3): 'mohit', frozenset({1, 2, 3}): 'sohna'}\n"
     ]
    }
   ],
   "source": [
    "print(b)"
   ]
  },
  {
   "cell_type": "code",
   "execution_count": 38,
   "id": "51f31844-3824-40a5-98a4-56a86f8e8a44",
   "metadata": {},
   "outputs": [
    {
     "data": {
      "text/plain": [
       "(frozenset({1, 2, 3}), 'sohna')"
      ]
     },
     "execution_count": 38,
     "metadata": {},
     "output_type": "execute_result"
    }
   ],
   "source": [
    "b.popitem()"
   ]
  },
  {
   "cell_type": "code",
   "execution_count": 39,
   "id": "1b8635c0-4ee1-49e5-9bc9-f88f9e5b93ff",
   "metadata": {},
   "outputs": [
    {
     "name": "stdout",
     "output_type": "stream",
     "text": [
      "{2.03: 'Mohan', \"father's name\": 'Sunil', (1, 2, 3): 'mohit'}\n"
     ]
    }
   ],
   "source": [
    "print(b)"
   ]
  },
  {
   "cell_type": "code",
   "execution_count": 40,
   "id": "a036cfa3-6d68-4ff3-9f91-23073993aac5",
   "metadata": {},
   "outputs": [],
   "source": [
    "b.clear()"
   ]
  },
  {
   "cell_type": "code",
   "execution_count": 41,
   "id": "73ded906-5133-4852-824d-928ce3bb4b8f",
   "metadata": {},
   "outputs": [
    {
     "name": "stdout",
     "output_type": "stream",
     "text": [
      "{}\n"
     ]
    }
   ],
   "source": [
    "print(b)"
   ]
  },
  {
   "cell_type": "code",
   "execution_count": 42,
   "id": "03c2fadd-68ff-4820-9a37-ec7133cb78e9",
   "metadata": {},
   "outputs": [],
   "source": [
    "b.update({1:\"krishna\",2:\"Mohna\",3:\"Sohan\",4:\"Raju\"})"
   ]
  },
  {
   "cell_type": "code",
   "execution_count": 43,
   "id": "533246fb-5883-44d6-88d8-a35426633843",
   "metadata": {},
   "outputs": [
    {
     "name": "stdout",
     "output_type": "stream",
     "text": [
      "{1: 'krishna', 2: 'Mohna', 3: 'Sohan', 4: 'Raju'}\n"
     ]
    }
   ],
   "source": [
    "print(b)"
   ]
  },
  {
   "cell_type": "code",
   "execution_count": 46,
   "id": "9e550b39-5d9c-4275-9cdc-68f82bbfd643",
   "metadata": {},
   "outputs": [],
   "source": [
    "b[1]=\"vishnu\""
   ]
  },
  {
   "cell_type": "code",
   "execution_count": 47,
   "id": "fd725154-f5f4-4b84-bf28-59f12d12c29e",
   "metadata": {},
   "outputs": [
    {
     "name": "stdout",
     "output_type": "stream",
     "text": [
      "{1: 'vishnu', 2: 'Mohna', 3: 'Sohan', 4: 'Raju'}\n"
     ]
    }
   ],
   "source": [
    "print(b)"
   ]
  },
  {
   "cell_type": "code",
   "execution_count": 48,
   "id": "91678bdc-a71e-4a25-85aa-97fb6a55c9e3",
   "metadata": {},
   "outputs": [
    {
     "data": {
      "text/plain": [
       "dict_keys([1, 2, 3, 4])"
      ]
     },
     "execution_count": 48,
     "metadata": {},
     "output_type": "execute_result"
    }
   ],
   "source": [
    "b.keys()"
   ]
  },
  {
   "cell_type": "code",
   "execution_count": 49,
   "id": "b7bdc29d-4434-4793-9b65-1bd3e78e421f",
   "metadata": {},
   "outputs": [
    {
     "data": {
      "text/plain": [
       "dict_values(['vishnu', 'Mohna', 'Sohan', 'Raju'])"
      ]
     },
     "execution_count": 49,
     "metadata": {},
     "output_type": "execute_result"
    }
   ],
   "source": [
    "b.values()"
   ]
  },
  {
   "cell_type": "code",
   "execution_count": 50,
   "id": "2c1f1bc7-c996-45bc-9eca-1af0d8567cf2",
   "metadata": {},
   "outputs": [
    {
     "data": {
      "text/plain": [
       "dict_items([(1, 'vishnu'), (2, 'Mohna'), (3, 'Sohan'), (4, 'Raju')])"
      ]
     },
     "execution_count": 50,
     "metadata": {},
     "output_type": "execute_result"
    }
   ],
   "source": [
    "b.items()"
   ]
  },
  {
   "cell_type": "code",
   "execution_count": 51,
   "id": "3ac20988-0b97-42f8-b6ba-9e969f8bd83e",
   "metadata": {},
   "outputs": [
    {
     "name": "stdout",
     "output_type": "stream",
     "text": [
      "{1: 'vishnu', 2: 'Mohna', 3: 'Sohan', 4: 'Raju'}\n"
     ]
    }
   ],
   "source": [
    "print(b)"
   ]
  },
  {
   "cell_type": "code",
   "execution_count": 56,
   "id": "3d645f54-8307-4790-8781-21c4202be767",
   "metadata": {},
   "outputs": [
    {
     "data": {
      "text/plain": [
       "'no element'"
      ]
     },
     "execution_count": 56,
     "metadata": {},
     "output_type": "execute_result"
    }
   ],
   "source": [
    "b.get(5,\"no element\")"
   ]
  },
  {
   "cell_type": "code",
   "execution_count": 1,
   "id": "8feb9e2c-6877-405d-bee0-d167afb9a7f5",
   "metadata": {},
   "outputs": [],
   "source": [
    "a=dict()"
   ]
  },
  {
   "cell_type": "code",
   "execution_count": 2,
   "id": "90944a5a-3192-4703-9579-ced30220a44b",
   "metadata": {},
   "outputs": [
    {
     "name": "stdout",
     "output_type": "stream",
     "text": [
      "{}\n"
     ]
    }
   ],
   "source": [
    "print(a)"
   ]
  },
  {
   "cell_type": "code",
   "execution_count": 5,
   "id": "2e3412a7-b821-447d-bd09-7e958b15fb7a",
   "metadata": {},
   "outputs": [],
   "source": [
    "b=a.fromkeys([1,2,3,4,5,6,7,8,9,10],\"available\")"
   ]
  },
  {
   "cell_type": "code",
   "execution_count": 6,
   "id": "3cea8261-5b27-4c9e-984e-ca620e088662",
   "metadata": {},
   "outputs": [
    {
     "name": "stdout",
     "output_type": "stream",
     "text": [
      "{1: 'available', 2: 'available', 3: 'available', 4: 'available', 5: 'available', 6: 'available', 7: 'available', 8: 'available', 9: 'available', 10: 'available'}\n"
     ]
    }
   ],
   "source": [
    "print(b)"
   ]
  },
  {
   "cell_type": "code",
   "execution_count": 7,
   "id": "e50d108d-f5ac-474a-bb17-d6ab7c4b07fb",
   "metadata": {},
   "outputs": [],
   "source": [
    "b[5]=\"krishna\""
   ]
  },
  {
   "cell_type": "code",
   "execution_count": 8,
   "id": "cd76cd12-4851-4319-99db-ec728381e6de",
   "metadata": {},
   "outputs": [
    {
     "name": "stdout",
     "output_type": "stream",
     "text": [
      "{1: 'available', 2: 'available', 3: 'available', 4: 'available', 5: 'krishna', 6: 'available', 7: 'available', 8: 'available', 9: 'available', 10: 'available'}\n"
     ]
    }
   ],
   "source": [
    "print(b)"
   ]
  },
  {
   "cell_type": "code",
   "execution_count": 9,
   "id": "3157cc28-70f1-4bbf-bf0b-bc795098dec9",
   "metadata": {},
   "outputs": [],
   "source": [
    "b.update({6:\"Vicky\"})"
   ]
  },
  {
   "cell_type": "code",
   "execution_count": 10,
   "id": "03de27c9-1170-444b-9cf7-212060c50f64",
   "metadata": {},
   "outputs": [
    {
     "name": "stdout",
     "output_type": "stream",
     "text": [
      "{1: 'available', 2: 'available', 3: 'available', 4: 'available', 5: 'krishna', 6: 'Vicky', 7: 'available', 8: 'available', 9: 'available', 10: 'available'}\n"
     ]
    }
   ],
   "source": [
    "print(b)"
   ]
  },
  {
   "cell_type": "code",
   "execution_count": 11,
   "id": "a85efd94-92ed-4fda-bf97-f8724912c1a2",
   "metadata": {},
   "outputs": [
    {
     "data": {
      "text/plain": [
       "'krishna kumar prajapati'"
      ]
     },
     "execution_count": 11,
     "metadata": {},
     "output_type": "execute_result"
    }
   ],
   "source": [
    "b.setdefault(11,\"krishna kumar prajapati\")"
   ]
  },
  {
   "cell_type": "code",
   "execution_count": 12,
   "id": "39843ece-ae71-4ba8-9f3e-b8460348bd16",
   "metadata": {},
   "outputs": [
    {
     "name": "stdout",
     "output_type": "stream",
     "text": [
      "{1: 'available', 2: 'available', 3: 'available', 4: 'available', 5: 'krishna', 6: 'Vicky', 7: 'available', 8: 'available', 9: 'available', 10: 'available', 11: 'krishna kumar prajapati'}\n"
     ]
    }
   ],
   "source": [
    "print(b)"
   ]
  },
  {
   "cell_type": "code",
   "execution_count": 13,
   "id": "180e14ef-8961-4dd0-8ba6-8346660e9bab",
   "metadata": {},
   "outputs": [],
   "source": [
    "a=b.copy()"
   ]
  },
  {
   "cell_type": "code",
   "execution_count": 14,
   "id": "89d520d7-074d-4134-ba7a-1cae082c8625",
   "metadata": {},
   "outputs": [
    {
     "name": "stdout",
     "output_type": "stream",
     "text": [
      "{1: 'available', 2: 'available', 3: 'available', 4: 'available', 5: 'krishna', 6: 'Vicky', 7: 'available', 8: 'available', 9: 'available', 10: 'available', 11: 'krishna kumar prajapati'}\n"
     ]
    }
   ],
   "source": [
    "print(a)"
   ]
  },
  {
   "cell_type": "code",
   "execution_count": 15,
   "id": "06ac15eb-7c2b-4e80-9986-7ce097fc081f",
   "metadata": {},
   "outputs": [
    {
     "data": {
      "text/plain": [
       "2526146866112"
      ]
     },
     "execution_count": 15,
     "metadata": {},
     "output_type": "execute_result"
    }
   ],
   "source": [
    "id(a)"
   ]
  },
  {
   "cell_type": "code",
   "execution_count": 16,
   "id": "e299d463-79af-4227-83f0-0ec5903111f0",
   "metadata": {},
   "outputs": [
    {
     "data": {
      "text/plain": [
       "2526145421632"
      ]
     },
     "execution_count": 16,
     "metadata": {},
     "output_type": "execute_result"
    }
   ],
   "source": [
    "id(b)"
   ]
  },
  {
   "cell_type": "code",
   "execution_count": null,
   "id": "2f3b85f2-ed86-4c97-88e3-5b01fd08f76d",
   "metadata": {},
   "outputs": [],
   "source": []
  }
 ],
 "metadata": {
  "kernelspec": {
   "display_name": "Python 3 (ipykernel)",
   "language": "python",
   "name": "python3"
  },
  "language_info": {
   "codemirror_mode": {
    "name": "ipython",
    "version": 3
   },
   "file_extension": ".py",
   "mimetype": "text/x-python",
   "name": "python",
   "nbconvert_exporter": "python",
   "pygments_lexer": "ipython3",
   "version": "3.11.5"
  }
 },
 "nbformat": 4,
 "nbformat_minor": 5
}
