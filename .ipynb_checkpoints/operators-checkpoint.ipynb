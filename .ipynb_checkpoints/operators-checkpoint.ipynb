{
 "cells": [
  {
   "cell_type": "markdown",
   "id": "1fa87c63-3369-489a-b2a5-cfe669a8195f",
   "metadata": {},
   "source": [
    "# Operators\n",
    "\n",
    "> Arithmetic operator\n",
    "\n",
    "> comparision operator\n",
    "\n",
    "> Assignement operator \n",
    "\n",
    "> Logical operator\n",
    "    \n",
    "> membership operator\n",
    "\n",
    "> identity operator \n",
    "\n",
    "> Bitwise operator"
   ]
  },
  {
   "cell_type": "raw",
   "id": "1d0a3ee9-29f7-4c09-9993-19be00417bcd",
   "metadata": {},
   "source": [
    "# Arithmetic operator\n",
    "\n",
    "+,-,/,//,*,%,**"
   ]
  },
  {
   "cell_type": "code",
   "execution_count": 2,
   "id": "c0087f52-3928-4d39-909b-0abbd3b9b06a",
   "metadata": {},
   "outputs": [],
   "source": [
    "a=10\n",
    "b=20"
   ]
  },
  {
   "cell_type": "code",
   "execution_count": 3,
   "id": "2b43be75-da0f-4a78-8f91-7fac29111767",
   "metadata": {},
   "outputs": [
    {
     "name": "stdout",
     "output_type": "stream",
     "text": [
      "30\n"
     ]
    }
   ],
   "source": [
    "print(a+b)"
   ]
  },
  {
   "cell_type": "code",
   "execution_count": 4,
   "id": "b21799c9-d3d6-47fa-b755-7310efbfae90",
   "metadata": {},
   "outputs": [
    {
     "name": "stdout",
     "output_type": "stream",
     "text": [
      "-10\n"
     ]
    }
   ],
   "source": [
    "print(a-b)"
   ]
  },
  {
   "cell_type": "code",
   "execution_count": 5,
   "id": "171e319b-f9af-4e5e-a055-c97975d3ef53",
   "metadata": {},
   "outputs": [
    {
     "name": "stdout",
     "output_type": "stream",
     "text": [
      "0.5\n"
     ]
    }
   ],
   "source": [
    "print(a/b)"
   ]
  },
  {
   "cell_type": "code",
   "execution_count": 6,
   "id": "cc5ea851-dda7-4be4-afd2-30190bbaaca9",
   "metadata": {},
   "outputs": [
    {
     "name": "stdout",
     "output_type": "stream",
     "text": [
      "2.0\n"
     ]
    }
   ],
   "source": [
    "print(b/a)"
   ]
  },
  {
   "cell_type": "code",
   "execution_count": 7,
   "id": "9ae8ffad-7a06-4a10-89f7-2cbf63ec0b44",
   "metadata": {},
   "outputs": [
    {
     "name": "stdout",
     "output_type": "stream",
     "text": [
      "3.3333333333333335\n"
     ]
    }
   ],
   "source": [
    "print(10/3)"
   ]
  },
  {
   "cell_type": "code",
   "execution_count": 11,
   "id": "916a759b-3944-45e4-b264-dcc8390e01c4",
   "metadata": {},
   "outputs": [],
   "source": [
    "# def div(a,b):\n",
    "#     result=a/b\n",
    "#     if float(a/b)==float():\n",
    "#         int(result)\n",
    "#     else:\n",
    "#         print(result)"
   ]
  },
  {
   "cell_type": "code",
   "execution_count": 13,
   "id": "2d9d8908-d518-4baa-9e51-021f2348ee88",
   "metadata": {},
   "outputs": [
    {
     "data": {
      "text/plain": [
       "10"
      ]
     },
     "execution_count": 13,
     "metadata": {},
     "output_type": "execute_result"
    }
   ],
   "source": [
    "a"
   ]
  },
  {
   "cell_type": "code",
   "execution_count": 14,
   "id": "5e4f78a6-0b3e-48e3-be1a-71e6743b7450",
   "metadata": {},
   "outputs": [
    {
     "data": {
      "text/plain": [
       "20"
      ]
     },
     "execution_count": 14,
     "metadata": {},
     "output_type": "execute_result"
    }
   ],
   "source": [
    "b"
   ]
  },
  {
   "cell_type": "code",
   "execution_count": 15,
   "id": "9ea7af48-af6f-4e25-bf78-811c23864494",
   "metadata": {},
   "outputs": [
    {
     "name": "stdout",
     "output_type": "stream",
     "text": [
      "3.3333333333333335\n"
     ]
    }
   ],
   "source": [
    "print(10/3)"
   ]
  },
  {
   "cell_type": "code",
   "execution_count": 16,
   "id": "a3cf051d-4b06-4087-94be-2efba92ee3b2",
   "metadata": {},
   "outputs": [
    {
     "name": "stdout",
     "output_type": "stream",
     "text": [
      "3\n"
     ]
    }
   ],
   "source": [
    "print(10//3)"
   ]
  },
  {
   "cell_type": "code",
   "execution_count": 17,
   "id": "994cade4-d464-4487-ac79-26302d85e3e9",
   "metadata": {},
   "outputs": [
    {
     "name": "stdout",
     "output_type": "stream",
     "text": [
      "3.0\n"
     ]
    }
   ],
   "source": [
    "print(10.0//3)"
   ]
  },
  {
   "cell_type": "code",
   "execution_count": 18,
   "id": "6f882e09-095f-43c1-acd0-929eeb7d0229",
   "metadata": {},
   "outputs": [
    {
     "data": {
      "text/plain": [
       "10"
      ]
     },
     "execution_count": 18,
     "metadata": {},
     "output_type": "execute_result"
    }
   ],
   "source": [
    "a"
   ]
  },
  {
   "cell_type": "code",
   "execution_count": 19,
   "id": "6851605f-6384-4596-ae82-6f2818451f29",
   "metadata": {},
   "outputs": [
    {
     "data": {
      "text/plain": [
       "20"
      ]
     },
     "execution_count": 19,
     "metadata": {},
     "output_type": "execute_result"
    }
   ],
   "source": [
    "b"
   ]
  },
  {
   "cell_type": "code",
   "execution_count": 20,
   "id": "eb03c007-bc95-4f95-aa28-706794b80e30",
   "metadata": {},
   "outputs": [
    {
     "data": {
      "text/plain": [
       "200"
      ]
     },
     "execution_count": 20,
     "metadata": {},
     "output_type": "execute_result"
    }
   ],
   "source": [
    "a*b"
   ]
  },
  {
   "cell_type": "code",
   "execution_count": 22,
   "id": "4d69893e-19a4-4321-ba3a-a79f3258e437",
   "metadata": {},
   "outputs": [
    {
     "data": {
      "text/plain": [
       "200.0"
      ]
     },
     "execution_count": 22,
     "metadata": {},
     "output_type": "execute_result"
    }
   ],
   "source": [
    "10.0*20"
   ]
  },
  {
   "cell_type": "code",
   "execution_count": 23,
   "id": "4e2fca3a-35ee-47a7-a13c-35e884cd7a55",
   "metadata": {},
   "outputs": [
    {
     "data": {
      "text/plain": [
       "10000000000"
      ]
     },
     "execution_count": 23,
     "metadata": {},
     "output_type": "execute_result"
    }
   ],
   "source": [
    "10*10*10*10*10*10*10*10*10*10"
   ]
  },
  {
   "cell_type": "code",
   "execution_count": 26,
   "id": "9a962655-d212-4339-82b4-c9c88e93c27e",
   "metadata": {},
   "outputs": [
    {
     "data": {
      "text/plain": [
       "10000000000"
      ]
     },
     "execution_count": 26,
     "metadata": {},
     "output_type": "execute_result"
    }
   ],
   "source": [
    "int(10.0**10)"
   ]
  },
  {
   "cell_type": "code",
   "execution_count": 27,
   "id": "5b7cbc35-d2eb-4858-bdd3-bd03966cd166",
   "metadata": {},
   "outputs": [
    {
     "data": {
      "text/plain": [
       "0"
      ]
     },
     "execution_count": 27,
     "metadata": {},
     "output_type": "execute_result"
    }
   ],
   "source": [
    "361%19"
   ]
  },
  {
   "cell_type": "code",
   "execution_count": 28,
   "id": "1a3154fc-e550-4c60-8cca-294f8c1ef40a",
   "metadata": {},
   "outputs": [
    {
     "data": {
      "text/plain": [
       "1"
      ]
     },
     "execution_count": 28,
     "metadata": {},
     "output_type": "execute_result"
    }
   ],
   "source": [
    "362%19"
   ]
  },
  {
   "cell_type": "raw",
   "id": "1f5fd026-1477-4adc-8561-392f05865b61",
   "metadata": {},
   "source": [
    "comparision operator\n",
    "\n",
    ">,<,>=,<=,!=,=="
   ]
  },
  {
   "cell_type": "code",
   "execution_count": 29,
   "id": "3ca297ca-c123-432d-8468-ef86eaaebde9",
   "metadata": {},
   "outputs": [
    {
     "data": {
      "text/plain": [
       "10"
      ]
     },
     "execution_count": 29,
     "metadata": {},
     "output_type": "execute_result"
    }
   ],
   "source": [
    "a"
   ]
  },
  {
   "cell_type": "code",
   "execution_count": 30,
   "id": "8b05c01c-d601-48fb-81e4-1b84f54c2774",
   "metadata": {},
   "outputs": [
    {
     "data": {
      "text/plain": [
       "20"
      ]
     },
     "execution_count": 30,
     "metadata": {},
     "output_type": "execute_result"
    }
   ],
   "source": [
    "b"
   ]
  },
  {
   "cell_type": "code",
   "execution_count": 31,
   "id": "c7ee6496-e37c-4667-809d-449e39a16497",
   "metadata": {},
   "outputs": [
    {
     "data": {
      "text/plain": [
       "False"
      ]
     },
     "execution_count": 31,
     "metadata": {},
     "output_type": "execute_result"
    }
   ],
   "source": [
    "a>b"
   ]
  },
  {
   "cell_type": "code",
   "execution_count": 32,
   "id": "96f414d9-0e7e-4ea4-a143-30b6f4c972f6",
   "metadata": {},
   "outputs": [
    {
     "name": "stdout",
     "output_type": "stream",
     "text": [
      "True\n"
     ]
    }
   ],
   "source": [
    "print(a<b)"
   ]
  },
  {
   "cell_type": "code",
   "execution_count": 33,
   "id": "f8832afd-460b-4957-8e2a-5d774bdf5725",
   "metadata": {},
   "outputs": [
    {
     "data": {
      "text/plain": [
       "True"
      ]
     },
     "execution_count": 33,
     "metadata": {},
     "output_type": "execute_result"
    }
   ],
   "source": [
    "a!=b"
   ]
  },
  {
   "cell_type": "code",
   "execution_count": 34,
   "id": "dbc60330-07b5-4895-944b-f9346df8d92e",
   "metadata": {},
   "outputs": [
    {
     "data": {
      "text/plain": [
       "False"
      ]
     },
     "execution_count": 34,
     "metadata": {},
     "output_type": "execute_result"
    }
   ],
   "source": [
    "a==b"
   ]
  },
  {
   "cell_type": "code",
   "execution_count": 35,
   "id": "01362f74-0eab-4001-ba58-5cf95c6936a6",
   "metadata": {},
   "outputs": [
    {
     "data": {
      "text/plain": [
       "True"
      ]
     },
     "execution_count": 35,
     "metadata": {},
     "output_type": "execute_result"
    }
   ],
   "source": [
    "4>=2"
   ]
  },
  {
   "cell_type": "code",
   "execution_count": 36,
   "id": "8e0fa9a4-0bf3-483f-96bb-7a4cf6027b77",
   "metadata": {},
   "outputs": [
    {
     "data": {
      "text/plain": [
       "True"
      ]
     },
     "execution_count": 36,
     "metadata": {},
     "output_type": "execute_result"
    }
   ],
   "source": [
    "4>=4"
   ]
  },
  {
   "cell_type": "code",
   "execution_count": 37,
   "id": "748a8c35-e75a-4e9b-a735-e4304fcd22cc",
   "metadata": {},
   "outputs": [
    {
     "data": {
      "text/plain": [
       "True"
      ]
     },
     "execution_count": 37,
     "metadata": {},
     "output_type": "execute_result"
    }
   ],
   "source": [
    "10<=11"
   ]
  },
  {
   "cell_type": "code",
   "execution_count": 38,
   "id": "06f7d6f8-021a-49a5-a93d-664680edb954",
   "metadata": {},
   "outputs": [
    {
     "data": {
      "text/plain": [
       "True"
      ]
     },
     "execution_count": 38,
     "metadata": {},
     "output_type": "execute_result"
    }
   ],
   "source": [
    "11<=11"
   ]
  },
  {
   "cell_type": "code",
   "execution_count": 39,
   "id": "a1252eca-30da-415f-9f1d-2cfa23f6230f",
   "metadata": {},
   "outputs": [
    {
     "data": {
      "text/plain": [
       "False"
      ]
     },
     "execution_count": 39,
     "metadata": {},
     "output_type": "execute_result"
    }
   ],
   "source": [
    "12<=11"
   ]
  },
  {
   "cell_type": "raw",
   "id": "35fed99c-e813-4423-9215-c8974fbab9fc",
   "metadata": {},
   "source": [
    "Assignement operator\n",
    "\n",
    "=,+=,-=,%=,/=,//=,**=,*="
   ]
  },
  {
   "cell_type": "code",
   "execution_count": 40,
   "id": "752c5296-0df9-41c4-b8d0-0d9b1b514303",
   "metadata": {},
   "outputs": [],
   "source": [
    "a=10"
   ]
  },
  {
   "cell_type": "code",
   "execution_count": 41,
   "id": "31824575-0962-46c0-8eff-56cc3522a602",
   "metadata": {},
   "outputs": [
    {
     "name": "stdout",
     "output_type": "stream",
     "text": [
      "10\n"
     ]
    }
   ],
   "source": [
    "print(a)"
   ]
  },
  {
   "cell_type": "code",
   "execution_count": 42,
   "id": "c02d9964-3659-412f-b5a1-ccf79fe91604",
   "metadata": {},
   "outputs": [
    {
     "data": {
      "text/plain": [
       "10"
      ]
     },
     "execution_count": 42,
     "metadata": {},
     "output_type": "execute_result"
    }
   ],
   "source": [
    "a"
   ]
  },
  {
   "cell_type": "code",
   "execution_count": 45,
   "id": "bc232ce4-1cb0-4d1b-acd6-883236a3c15d",
   "metadata": {},
   "outputs": [],
   "source": [
    "a=a+2  "
   ]
  },
  {
   "cell_type": "code",
   "execution_count": 46,
   "id": "831e4a64-cf9a-4cb1-8163-0263345e5dca",
   "metadata": {},
   "outputs": [
    {
     "name": "stdout",
     "output_type": "stream",
     "text": [
      "12\n"
     ]
    }
   ],
   "source": [
    "print(a)"
   ]
  },
  {
   "cell_type": "code",
   "execution_count": 76,
   "id": "3aed8898-b8ca-4901-b9db-a5f946f36618",
   "metadata": {},
   "outputs": [
    {
     "name": "stdout",
     "output_type": "stream",
     "text": [
      "12\n"
     ]
    }
   ],
   "source": [
    "a=10\n",
    "a+=2        #a=a+2\n",
    "print(a)"
   ]
  },
  {
   "cell_type": "code",
   "execution_count": 77,
   "id": "a93abd93-0c64-4f2a-8dd9-b5d9e30c3131",
   "metadata": {},
   "outputs": [
    {
     "name": "stdout",
     "output_type": "stream",
     "text": [
      "10\n"
     ]
    }
   ],
   "source": [
    "a-=2          #a=a-2\n",
    "print(a)"
   ]
  },
  {
   "cell_type": "code",
   "execution_count": 78,
   "id": "65111b9c-3e11-44e3-9d86-e61b555b6d21",
   "metadata": {},
   "outputs": [
    {
     "name": "stdout",
     "output_type": "stream",
     "text": [
      "40\n"
     ]
    }
   ],
   "source": [
    "a*=4    #a=a*4\n",
    "print(a)"
   ]
  },
  {
   "cell_type": "code",
   "execution_count": 79,
   "id": "ffa62190-6f56-47f9-8025-f69bc05872db",
   "metadata": {},
   "outputs": [
    {
     "name": "stdout",
     "output_type": "stream",
     "text": [
      "10\n"
     ]
    }
   ],
   "source": [
    "a/=4       #a=a/4\n",
    "print(int(a))"
   ]
  },
  {
   "cell_type": "code",
   "execution_count": 80,
   "id": "b4c0d01e-f59d-4a57-a5db-ccd8548b4027",
   "metadata": {},
   "outputs": [],
   "source": [
    "x=10"
   ]
  },
  {
   "cell_type": "code",
   "execution_count": 81,
   "id": "153e294d-aee7-4c75-8c94-8e315b155044",
   "metadata": {},
   "outputs": [
    {
     "name": "stdout",
     "output_type": "stream",
     "text": [
      "12\n"
     ]
    }
   ],
   "source": [
    "x=x+2\n",
    "print(x)"
   ]
  },
  {
   "cell_type": "markdown",
   "id": "e4bf8d8d-20ec-49d2-bdea-5766d480cbfc",
   "metadata": {},
   "source": [
    "# Logical operator\n",
    "\n",
    "and, or , not"
   ]
  },
  {
   "cell_type": "code",
   "execution_count": 1,
   "id": "e0707cf6-4ad1-4752-be0f-4bbfac14338d",
   "metadata": {},
   "outputs": [
    {
     "data": {
      "text/plain": [
       "True"
      ]
     },
     "execution_count": 1,
     "metadata": {},
     "output_type": "execute_result"
    }
   ],
   "source": [
    "10==10 and 11==11"
   ]
  },
  {
   "cell_type": "code",
   "execution_count": 2,
   "id": "96a8e24d-23a4-40a7-b974-9b70407b7971",
   "metadata": {},
   "outputs": [
    {
     "data": {
      "text/plain": [
       "False"
      ]
     },
     "execution_count": 2,
     "metadata": {},
     "output_type": "execute_result"
    }
   ],
   "source": [
    "10==10 and 11!=11"
   ]
  },
  {
   "cell_type": "code",
   "execution_count": 3,
   "id": "45df03da-1616-4a29-90dc-2e03237e2cdb",
   "metadata": {},
   "outputs": [
    {
     "data": {
      "text/plain": [
       "False"
      ]
     },
     "execution_count": 3,
     "metadata": {},
     "output_type": "execute_result"
    }
   ],
   "source": [
    "10!=10 and 11==11"
   ]
  },
  {
   "cell_type": "code",
   "execution_count": 4,
   "id": "e88bae74-04f8-4d2e-a2ea-c45461af2ad5",
   "metadata": {},
   "outputs": [
    {
     "data": {
      "text/plain": [
       "False"
      ]
     },
     "execution_count": 4,
     "metadata": {},
     "output_type": "execute_result"
    }
   ],
   "source": [
    "10!=10 and 11!=11"
   ]
  },
  {
   "cell_type": "code",
   "execution_count": 5,
   "id": "062a1fd9-54fa-44a6-9f8e-bd0a803ab738",
   "metadata": {},
   "outputs": [
    {
     "data": {
      "text/plain": [
       "True"
      ]
     },
     "execution_count": 5,
     "metadata": {},
     "output_type": "execute_result"
    }
   ],
   "source": [
    "10==10 or 11==11"
   ]
  },
  {
   "cell_type": "code",
   "execution_count": 6,
   "id": "f7ed4a7f-65f2-4b7d-87d1-9a1e85ba307d",
   "metadata": {},
   "outputs": [
    {
     "data": {
      "text/plain": [
       "True"
      ]
     },
     "execution_count": 6,
     "metadata": {},
     "output_type": "execute_result"
    }
   ],
   "source": [
    "10==10 or 11!=11"
   ]
  },
  {
   "cell_type": "code",
   "execution_count": 7,
   "id": "b613f1b4-b78b-44d1-b0c0-92f84a2007e5",
   "metadata": {},
   "outputs": [
    {
     "data": {
      "text/plain": [
       "True"
      ]
     },
     "execution_count": 7,
     "metadata": {},
     "output_type": "execute_result"
    }
   ],
   "source": [
    "10!=10 or 11==11"
   ]
  },
  {
   "cell_type": "code",
   "execution_count": 8,
   "id": "0a92bcd0-7bbf-40f1-be58-24105ec92e2e",
   "metadata": {},
   "outputs": [
    {
     "data": {
      "text/plain": [
       "False"
      ]
     },
     "execution_count": 8,
     "metadata": {},
     "output_type": "execute_result"
    }
   ],
   "source": [
    "10!=10 or 11!=11"
   ]
  },
  {
   "cell_type": "code",
   "execution_count": 9,
   "id": "224a51b1-c7f5-4785-9f43-c6d0008bbf4d",
   "metadata": {},
   "outputs": [
    {
     "data": {
      "text/plain": [
       "True"
      ]
     },
     "execution_count": 9,
     "metadata": {},
     "output_type": "execute_result"
    }
   ],
   "source": [
    "10==10 and 11==11 and 12!=11 "
   ]
  },
  {
   "cell_type": "code",
   "execution_count": 10,
   "id": "479b9a02-0bcb-42e4-a290-2aeb1cdf893b",
   "metadata": {},
   "outputs": [
    {
     "data": {
      "text/plain": [
       "True"
      ]
     },
     "execution_count": 10,
     "metadata": {},
     "output_type": "execute_result"
    }
   ],
   "source": [
    "10==10 and 11==11 or 12!=12 "
   ]
  },
  {
   "cell_type": "code",
   "execution_count": 11,
   "id": "0c35c29e-cf53-42d7-b79d-8d0f242cd11c",
   "metadata": {},
   "outputs": [
    {
     "data": {
      "text/plain": [
       "True"
      ]
     },
     "execution_count": 11,
     "metadata": {},
     "output_type": "execute_result"
    }
   ],
   "source": [
    "10==10 and 11==11 or 12!=12 "
   ]
  },
  {
   "cell_type": "code",
   "execution_count": 13,
   "id": "a1782678-4003-4520-a667-93cb004cf1cb",
   "metadata": {},
   "outputs": [
    {
     "data": {
      "text/plain": [
       "True"
      ]
     },
     "execution_count": 13,
     "metadata": {},
     "output_type": "execute_result"
    }
   ],
   "source": [
    "not 12!=12 "
   ]
  },
  {
   "cell_type": "code",
   "execution_count": 14,
   "id": "1bfbe9d7-a455-4c1f-8a96-84558d3c8317",
   "metadata": {},
   "outputs": [
    {
     "data": {
      "text/plain": [
       "True"
      ]
     },
     "execution_count": 14,
     "metadata": {},
     "output_type": "execute_result"
    }
   ],
   "source": [
    "10==10 and 11==11 or not 12!=12 "
   ]
  },
  {
   "cell_type": "code",
   "execution_count": 18,
   "id": "a4d76b77-1fb8-4b2d-ae89-6ac25d5b3e2b",
   "metadata": {},
   "outputs": [
    {
     "data": {
      "text/plain": [
       "False"
      ]
     },
     "execution_count": 18,
     "metadata": {},
     "output_type": "execute_result"
    }
   ],
   "source": [
    "not(10==10 and 11==11 or not 12!=12 )"
   ]
  },
  {
   "cell_type": "markdown",
   "id": "13ca3211-23ef-49f2-a013-ee679bc34467",
   "metadata": {},
   "source": [
    "# Membership operator\n",
    "\n",
    "in, not in"
   ]
  },
  {
   "cell_type": "code",
   "execution_count": 19,
   "id": "3eb26794-fb73-4bf7-82e6-8305e8ceafa4",
   "metadata": {},
   "outputs": [],
   "source": [
    "Amazon=[\"Karan\",\"Aditi\",\"Krishna\",\"Tarun\"]"
   ]
  },
  {
   "cell_type": "code",
   "execution_count": 26,
   "id": "d0e32214-c64d-4005-9982-e363093e2fe2",
   "metadata": {},
   "outputs": [
    {
     "data": {
      "text/plain": [
       "True"
      ]
     },
     "execution_count": 26,
     "metadata": {},
     "output_type": "execute_result"
    }
   ],
   "source": [
    "\"Krishna\" in Amazon"
   ]
  },
  {
   "cell_type": "code",
   "execution_count": 27,
   "id": "2864a5d8-3dac-4ee8-9e08-58d108eb84b9",
   "metadata": {},
   "outputs": [
    {
     "data": {
      "text/plain": [
       "True"
      ]
     },
     "execution_count": 27,
     "metadata": {},
     "output_type": "execute_result"
    }
   ],
   "source": [
    "\"Karan\" in Amazon"
   ]
  },
  {
   "cell_type": "code",
   "execution_count": 28,
   "id": "22afa2e6-0cb2-470b-ae5b-ba60f3621801",
   "metadata": {},
   "outputs": [
    {
     "data": {
      "text/plain": [
       "True"
      ]
     },
     "execution_count": 28,
     "metadata": {},
     "output_type": "execute_result"
    }
   ],
   "source": [
    "\"Aditi\" in Amazon"
   ]
  },
  {
   "cell_type": "code",
   "execution_count": 29,
   "id": "f13177ad-3b56-4280-87df-30e5eb7ad12a",
   "metadata": {},
   "outputs": [
    {
     "data": {
      "text/plain": [
       "False"
      ]
     },
     "execution_count": 29,
     "metadata": {},
     "output_type": "execute_result"
    }
   ],
   "source": [
    "\"Krishna\" not in Amazon"
   ]
  },
  {
   "cell_type": "markdown",
   "id": "180b95bc-cd13-4b70-98a6-b56be5530742",
   "metadata": {},
   "source": [
    "# Identity operator\n",
    "\n",
    "is, is not"
   ]
  },
  {
   "cell_type": "code",
   "execution_count": 31,
   "id": "7b95863f-5df3-4acf-9f4c-d76c9102f228",
   "metadata": {},
   "outputs": [
    {
     "data": {
      "text/plain": [
       "True"
      ]
     },
     "execution_count": 31,
     "metadata": {},
     "output_type": "execute_result"
    }
   ],
   "source": [
    "\"Python\"==\"Python\""
   ]
  },
  {
   "cell_type": "code",
   "execution_count": 33,
   "id": "bfd6d7b0-2925-4490-a04c-7f3bd0173498",
   "metadata": {},
   "outputs": [
    {
     "name": "stdout",
     "output_type": "stream",
     "text": [
      "True\n",
      "Hello world\n"
     ]
    },
    {
     "name": "stderr",
     "output_type": "stream",
     "text": [
      "<>:1: SyntaxWarning: \"is\" with a literal. Did you mean \"==\"?\n",
      "<>:1: SyntaxWarning: \"is\" with a literal. Did you mean \"==\"?\n",
      "C:\\Users\\nnkri\\AppData\\Local\\Temp\\ipykernel_9312\\4113916222.py:1: SyntaxWarning: \"is\" with a literal. Did you mean \"==\"?\n",
      "  print(\"Python\" is \"Python\")\n"
     ]
    }
   ],
   "source": [
    "print(\"Python\" is \"Python\")\n",
    "print(\"Hello world\")"
   ]
  },
  {
   "cell_type": "code",
   "execution_count": 34,
   "id": "147c29d0-1b91-4ddb-95f3-1e9a67183907",
   "metadata": {},
   "outputs": [
    {
     "name": "stdout",
     "output_type": "stream",
     "text": [
      "False\n",
      "Hello world\n"
     ]
    },
    {
     "name": "stderr",
     "output_type": "stream",
     "text": [
      "<>:1: SyntaxWarning: \"is not\" with a literal. Did you mean \"!=\"?\n",
      "<>:1: SyntaxWarning: \"is not\" with a literal. Did you mean \"!=\"?\n",
      "C:\\Users\\nnkri\\AppData\\Local\\Temp\\ipykernel_9312\\3217852156.py:1: SyntaxWarning: \"is not\" with a literal. Did you mean \"!=\"?\n",
      "  print(\"Python\" is not \"Python\")\n"
     ]
    }
   ],
   "source": [
    "print(\"Python\" is not \"Python\")\n",
    "print(\"Hello world\")"
   ]
  },
  {
   "cell_type": "code",
   "execution_count": 35,
   "id": "def5f973-effd-4eed-b612-484b76df1feb",
   "metadata": {},
   "outputs": [
    {
     "name": "stdout",
     "output_type": "stream",
     "text": [
      "True\n",
      "Hello world\n"
     ]
    },
    {
     "name": "stderr",
     "output_type": "stream",
     "text": [
      "<>:1: SyntaxWarning: \"is not\" with a literal. Did you mean \"!=\"?\n",
      "<>:1: SyntaxWarning: \"is not\" with a literal. Did you mean \"!=\"?\n",
      "C:\\Users\\nnkri\\AppData\\Local\\Temp\\ipykernel_9312\\3894956109.py:1: SyntaxWarning: \"is not\" with a literal. Did you mean \"!=\"?\n",
      "  print(\"Python\" is not \"python\")\n"
     ]
    }
   ],
   "source": [
    "print(\"Python\" is not \"python\")\n",
    "print(\"Hello world\")"
   ]
  },
  {
   "cell_type": "code",
   "execution_count": 36,
   "id": "bb2fbd99-5e48-42e8-9273-f1317e4a2051",
   "metadata": {},
   "outputs": [
    {
     "data": {
      "text/plain": [
       "True"
      ]
     },
     "execution_count": 36,
     "metadata": {},
     "output_type": "execute_result"
    }
   ],
   "source": [
    "\"Python\" in \"Python is funny language\""
   ]
  },
  {
   "cell_type": "code",
   "execution_count": 37,
   "id": "6ba3ecfd-a6fe-4d9f-a006-a269f9893700",
   "metadata": {},
   "outputs": [
    {
     "name": "stderr",
     "output_type": "stream",
     "text": [
      "<>:1: SyntaxWarning: \"is\" with a literal. Did you mean \"==\"?\n",
      "<>:1: SyntaxWarning: \"is\" with a literal. Did you mean \"==\"?\n",
      "C:\\Users\\nnkri\\AppData\\Local\\Temp\\ipykernel_9312\\345347976.py:1: SyntaxWarning: \"is\" with a literal. Did you mean \"==\"?\n",
      "  \"Python\" is \"Python is funny language\"\n"
     ]
    },
    {
     "data": {
      "text/plain": [
       "False"
      ]
     },
     "execution_count": 37,
     "metadata": {},
     "output_type": "execute_result"
    }
   ],
   "source": [
    "\"Python\" is \"Python is funny language\""
   ]
  },
  {
   "cell_type": "code",
   "execution_count": null,
   "id": "13992453-ca72-44fb-baaf-2808587b65a8",
   "metadata": {},
   "outputs": [],
   "source": []
  }
 ],
 "metadata": {
  "kernelspec": {
   "display_name": "Python 3 (ipykernel)",
   "language": "python",
   "name": "python3"
  },
  "language_info": {
   "codemirror_mode": {
    "name": "ipython",
    "version": 3
   },
   "file_extension": ".py",
   "mimetype": "text/x-python",
   "name": "python",
   "nbconvert_exporter": "python",
   "pygments_lexer": "ipython3",
   "version": "3.11.5"
  }
 },
 "nbformat": 4,
 "nbformat_minor": 5
}
