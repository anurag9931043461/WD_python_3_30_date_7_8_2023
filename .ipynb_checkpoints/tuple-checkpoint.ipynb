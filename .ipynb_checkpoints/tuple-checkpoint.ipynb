{
 "cells": [
  {
   "cell_type": "markdown",
   "id": "d5755177-1a07-46c4-997f-b2834e6e9a74",
   "metadata": {},
   "source": [
    "# tuple\n",
    "\n",
    "> tuple constructor is tuple()\n",
    "\n",
    "> tuple literal is ()\n",
    "\n",
    "> tuple is a ordered set of sequence of elements.\n",
    "\n",
    "> tuple support indexing\n",
    "\n",
    "> tuple support slicing \n",
    "\n",
    "> tuple support concatination\n",
    "\n",
    "> tuple is immutable(hashable)\n",
    "\n",
    "> tuple support nested tuple\n",
    "\n",
    "> tuple methods: index(), count()"
   ]
  },
  {
   "cell_type": "code",
   "execution_count": 2,
   "id": "bfbaba10-94cd-4905-854e-56954df13088",
   "metadata": {},
   "outputs": [],
   "source": [
    "a=tuple()"
   ]
  },
  {
   "cell_type": "code",
   "execution_count": 3,
   "id": "478f73b5-e5b3-495c-96ce-3d6cda4f136a",
   "metadata": {},
   "outputs": [
    {
     "name": "stdout",
     "output_type": "stream",
     "text": [
      "()\n"
     ]
    }
   ],
   "source": [
    "print(a)"
   ]
  },
  {
   "cell_type": "code",
   "execution_count": 4,
   "id": "fb3e6ed8-0163-469f-9081-fceb874bfb83",
   "metadata": {},
   "outputs": [
    {
     "name": "stdout",
     "output_type": "stream",
     "text": [
      "()\n"
     ]
    }
   ],
   "source": [
    "b=()\n",
    "print(b)"
   ]
  },
  {
   "cell_type": "code",
   "execution_count": 5,
   "id": "cc116639-5505-49ea-8faf-dd24e9054f4c",
   "metadata": {},
   "outputs": [],
   "source": [
    "c=(10,203,43,54,0.32,43)"
   ]
  },
  {
   "cell_type": "markdown",
   "id": "7e2d518c-07ab-4a80-a96c-889df25aff86",
   "metadata": {},
   "source": [
    "# indexing on tuple"
   ]
  },
  {
   "cell_type": "code",
   "execution_count": 7,
   "id": "0ae071b8-f2d9-452a-81d3-3894d0cc7781",
   "metadata": {},
   "outputs": [
    {
     "data": {
      "text/plain": [
       "54"
      ]
     },
     "execution_count": 7,
     "metadata": {},
     "output_type": "execute_result"
    }
   ],
   "source": [
    "c[3]"
   ]
  },
  {
   "cell_type": "code",
   "execution_count": 8,
   "id": "2bddade1-f142-42b8-a687-b38c9e546c48",
   "metadata": {},
   "outputs": [
    {
     "data": {
      "text/plain": [
       "3"
      ]
     },
     "execution_count": 8,
     "metadata": {},
     "output_type": "execute_result"
    }
   ],
   "source": [
    "c.index(54)"
   ]
  },
  {
   "cell_type": "code",
   "execution_count": 9,
   "id": "0e024a3a-9b56-4256-94fe-938799e54a8a",
   "metadata": {},
   "outputs": [
    {
     "data": {
      "text/plain": [
       "54"
      ]
     },
     "execution_count": 9,
     "metadata": {},
     "output_type": "execute_result"
    }
   ],
   "source": [
    "c[3]"
   ]
  },
  {
   "cell_type": "code",
   "execution_count": 10,
   "id": "843c1da4-ada4-4e5a-a367-968ce44107db",
   "metadata": {},
   "outputs": [],
   "source": [
    "d=(10,203,43,54,0.32,43,54,45,56,54)"
   ]
  },
  {
   "cell_type": "code",
   "execution_count": 15,
   "id": "00e1a0be-5a58-4e85-9d0b-275fae8aabf8",
   "metadata": {},
   "outputs": [
    {
     "data": {
      "text/plain": [
       "6"
      ]
     },
     "execution_count": 15,
     "metadata": {},
     "output_type": "execute_result"
    }
   ],
   "source": [
    "d.index(54,4,10000000000)"
   ]
  },
  {
   "cell_type": "code",
   "execution_count": 13,
   "id": "d67b03e7-d358-4a25-b2b2-e314468c228e",
   "metadata": {},
   "outputs": [
    {
     "data": {
      "text/plain": [
       "9"
      ]
     },
     "execution_count": 13,
     "metadata": {},
     "output_type": "execute_result"
    }
   ],
   "source": [
    "d.index(54,7,10000000000)"
   ]
  },
  {
   "cell_type": "code",
   "execution_count": 20,
   "id": "e1dc320e-fbc8-415e-837b-ff289a26166e",
   "metadata": {},
   "outputs": [
    {
     "data": {
      "text/plain": [
       "-2"
      ]
     },
     "execution_count": 20,
     "metadata": {},
     "output_type": "execute_result"
    }
   ],
   "source": [
    "-(len(d)-d.index(56))"
   ]
  },
  {
   "cell_type": "code",
   "execution_count": 21,
   "id": "840c5e69-2efe-45aa-8db8-f3c5b930b221",
   "metadata": {},
   "outputs": [
    {
     "data": {
      "text/plain": [
       "10"
      ]
     },
     "execution_count": 21,
     "metadata": {},
     "output_type": "execute_result"
    }
   ],
   "source": [
    "len(d)"
   ]
  },
  {
   "cell_type": "code",
   "execution_count": 23,
   "id": "e0ced99c-e6b5-4a74-8fdd-068706582b65",
   "metadata": {},
   "outputs": [
    {
     "data": {
      "text/plain": [
       "-8"
      ]
     },
     "execution_count": 23,
     "metadata": {},
     "output_type": "execute_result"
    }
   ],
   "source": [
    "-d.index(56)"
   ]
  },
  {
   "cell_type": "code",
   "execution_count": 24,
   "id": "194a5596-1e19-4789-ab55-190df1fe39d8",
   "metadata": {},
   "outputs": [
    {
     "data": {
      "text/plain": [
       "10"
      ]
     },
     "execution_count": 24,
     "metadata": {},
     "output_type": "execute_result"
    }
   ],
   "source": [
    "len(d)"
   ]
  },
  {
   "cell_type": "code",
   "execution_count": 25,
   "id": "29ca2677-f918-409d-8da1-b2660b60f0fc",
   "metadata": {},
   "outputs": [
    {
     "data": {
      "text/plain": [
       "(10, 203, 43, 54, 0.32, 43, 54, 45, 56, 54)"
      ]
     },
     "execution_count": 25,
     "metadata": {},
     "output_type": "execute_result"
    }
   ],
   "source": [
    "d"
   ]
  },
  {
   "cell_type": "code",
   "execution_count": 26,
   "id": "8a8f23a6-d6be-4764-bbda-61f839ffc8f8",
   "metadata": {},
   "outputs": [
    {
     "data": {
      "text/plain": [
       "(43, 54, 0.32, 43)"
      ]
     },
     "execution_count": 26,
     "metadata": {},
     "output_type": "execute_result"
    }
   ],
   "source": [
    "d[2:6]"
   ]
  },
  {
   "cell_type": "code",
   "execution_count": 27,
   "id": "9bf88fa6-1ee5-4d0c-8117-4de82bff6777",
   "metadata": {},
   "outputs": [
    {
     "data": {
      "text/plain": [
       "(43, 54, 0.32, 43)"
      ]
     },
     "execution_count": 27,
     "metadata": {},
     "output_type": "execute_result"
    }
   ],
   "source": [
    "d[2:6:1]"
   ]
  },
  {
   "cell_type": "code",
   "execution_count": 28,
   "id": "e8ae2ae5-4ebf-49bf-bb86-8243f7eb2a33",
   "metadata": {},
   "outputs": [
    {
     "data": {
      "text/plain": [
       "(43, 0.32)"
      ]
     },
     "execution_count": 28,
     "metadata": {},
     "output_type": "execute_result"
    }
   ],
   "source": [
    "d[2:6:2]"
   ]
  },
  {
   "cell_type": "code",
   "execution_count": 30,
   "id": "e849019d-b719-406a-9cc4-75a4e9c0b5f3",
   "metadata": {},
   "outputs": [],
   "source": [
    "z=(1,2,3,4)+(3,4,5,6)+(3,4,5,6)"
   ]
  },
  {
   "cell_type": "code",
   "execution_count": 31,
   "id": "66d3aca5-0eab-448a-966d-c378a332672b",
   "metadata": {},
   "outputs": [
    {
     "name": "stdout",
     "output_type": "stream",
     "text": [
      "(1, 2, 3, 4, 3, 4, 5, 6, 3, 4, 5, 6)\n"
     ]
    }
   ],
   "source": [
    "print(z)"
   ]
  },
  {
   "cell_type": "code",
   "execution_count": 34,
   "id": "6e73703f-d8c0-409b-af16-7eece859892d",
   "metadata": {},
   "outputs": [],
   "source": [
    "a=(\"abc\",)"
   ]
  },
  {
   "cell_type": "code",
   "execution_count": 35,
   "id": "3b6fdd2d-a69f-4117-877f-cee334db76bc",
   "metadata": {},
   "outputs": [
    {
     "name": "stdout",
     "output_type": "stream",
     "text": [
      "('abc',)\n"
     ]
    }
   ],
   "source": [
    "print(a)"
   ]
  },
  {
   "cell_type": "code",
   "execution_count": 37,
   "id": "87cb45ef-21d7-4838-8053-5b74096f85ad",
   "metadata": {},
   "outputs": [],
   "source": [
    "b=(\"123@gmail.com\",)"
   ]
  },
  {
   "cell_type": "code",
   "execution_count": 38,
   "id": "2f099faa-9fd7-443a-b518-de3898f1cdd4",
   "metadata": {},
   "outputs": [
    {
     "name": "stdout",
     "output_type": "stream",
     "text": [
      "('123@gmail.com',)\n"
     ]
    }
   ],
   "source": [
    "print(b)"
   ]
  },
  {
   "cell_type": "code",
   "execution_count": 39,
   "id": "2fc1d67e-8850-43e3-818a-39ee01686921",
   "metadata": {},
   "outputs": [
    {
     "name": "stdout",
     "output_type": "stream",
     "text": [
      "('abc', '123@gmail.com')\n"
     ]
    }
   ],
   "source": [
    "print(a+b)"
   ]
  },
  {
   "cell_type": "code",
   "execution_count": 40,
   "id": "6bb72d57-90e5-4fc6-b7b9-5f6b85d93ccd",
   "metadata": {},
   "outputs": [
    {
     "name": "stdout",
     "output_type": "stream",
     "text": [
      "('abc',)\n"
     ]
    }
   ],
   "source": [
    "print(a)"
   ]
  },
  {
   "cell_type": "code",
   "execution_count": 41,
   "id": "838a8aef-adcc-4172-8323-2847b80fa6c3",
   "metadata": {},
   "outputs": [
    {
     "name": "stdout",
     "output_type": "stream",
     "text": [
      "('123@gmail.com',)\n"
     ]
    }
   ],
   "source": [
    "print(b)"
   ]
  },
  {
   "cell_type": "code",
   "execution_count": 42,
   "id": "03bf1624-7eda-4d00-822f-35460cd6352b",
   "metadata": {},
   "outputs": [
    {
     "data": {
      "text/plain": [
       "('abc',)"
      ]
     },
     "execution_count": 42,
     "metadata": {},
     "output_type": "execute_result"
    }
   ],
   "source": [
    "a"
   ]
  },
  {
   "cell_type": "code",
   "execution_count": 43,
   "id": "c08e5116-1367-4e46-9f9c-cad649e65b22",
   "metadata": {},
   "outputs": [
    {
     "data": {
      "text/plain": [
       "'abc'"
      ]
     },
     "execution_count": 43,
     "metadata": {},
     "output_type": "execute_result"
    }
   ],
   "source": [
    "a[0]"
   ]
  },
  {
   "cell_type": "code",
   "execution_count": 45,
   "id": "a9225919-eb24-47df-b1f6-693c155c5705",
   "metadata": {},
   "outputs": [
    {
     "data": {
      "text/plain": [
       "'123@gmail.com'"
      ]
     },
     "execution_count": 45,
     "metadata": {},
     "output_type": "execute_result"
    }
   ],
   "source": [
    "b[0]"
   ]
  },
  {
   "cell_type": "code",
   "execution_count": 46,
   "id": "d60400c1-f37f-4390-ab0d-5c6f0df81627",
   "metadata": {},
   "outputs": [
    {
     "data": {
      "text/plain": [
       "'abc123@gmail.com'"
      ]
     },
     "execution_count": 46,
     "metadata": {},
     "output_type": "execute_result"
    }
   ],
   "source": [
    "a[0]+b[0]"
   ]
  },
  {
   "cell_type": "code",
   "execution_count": 50,
   "id": "0568e884-628f-431d-b042-8d6ffaa346a3",
   "metadata": {},
   "outputs": [],
   "source": [
    "a=(1,2,3,(3,4,5,6),344,43,43,)"
   ]
  },
  {
   "cell_type": "code",
   "execution_count": 51,
   "id": "ac1ddf6a-e7b0-4882-9fe2-ce338d7a4f7c",
   "metadata": {},
   "outputs": [
    {
     "data": {
      "text/plain": [
       "(3, 4, 5, 6)"
      ]
     },
     "execution_count": 51,
     "metadata": {},
     "output_type": "execute_result"
    }
   ],
   "source": [
    "a[3]"
   ]
  },
  {
   "cell_type": "code",
   "execution_count": 49,
   "id": "993a92f8-d7ca-4f5f-b8f9-d0e7c69ca1bc",
   "metadata": {},
   "outputs": [
    {
     "data": {
      "text/plain": [
       "(6, 5, 4, 3)"
      ]
     },
     "execution_count": 49,
     "metadata": {},
     "output_type": "execute_result"
    }
   ],
   "source": [
    "a[3][::-1]"
   ]
  },
  {
   "cell_type": "code",
   "execution_count": 52,
   "id": "398d1ece-e449-4f8d-b668-d1ff93b8438a",
   "metadata": {},
   "outputs": [
    {
     "data": {
      "text/plain": [
       "(10, 203, 43, 54, 0.32, 43, 54, 45, 56, 54)"
      ]
     },
     "execution_count": 52,
     "metadata": {},
     "output_type": "execute_result"
    }
   ],
   "source": [
    "d"
   ]
  },
  {
   "cell_type": "code",
   "execution_count": 53,
   "id": "932b028b-e752-4392-af0e-57a363a9f083",
   "metadata": {},
   "outputs": [
    {
     "data": {
      "text/plain": [
       "3"
      ]
     },
     "execution_count": 53,
     "metadata": {},
     "output_type": "execute_result"
    }
   ],
   "source": [
    "d.count(54)"
   ]
  },
  {
   "cell_type": "code",
   "execution_count": null,
   "id": "b1aef685-a2fc-48e7-9990-84e6f215f287",
   "metadata": {},
   "outputs": [],
   "source": []
  }
 ],
 "metadata": {
  "kernelspec": {
   "display_name": "Python 3 (ipykernel)",
   "language": "python",
   "name": "python3"
  },
  "language_info": {
   "codemirror_mode": {
    "name": "ipython",
    "version": 3
   },
   "file_extension": ".py",
   "mimetype": "text/x-python",
   "name": "python",
   "nbconvert_exporter": "python",
   "pygments_lexer": "ipython3",
   "version": "3.11.4"
  }
 },
 "nbformat": 4,
 "nbformat_minor": 5
}
