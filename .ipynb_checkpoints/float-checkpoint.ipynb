{
 "cells": [
  {
   "cell_type": "markdown",
   "id": "447b2362-6249-4077-8116-0b988d1825af",
   "metadata": {},
   "source": [
    "# float\n",
    "\n",
    "> float constructor is float()\n",
    "\n",
    "> float literal is 0.0\n",
    "\n",
    "> 0-9."
   ]
  },
  {
   "cell_type": "code",
   "execution_count": 1,
   "id": "5b08a80c-570a-4e6f-ad08-6fee2ca6b6d4",
   "metadata": {},
   "outputs": [],
   "source": [
    "a=10.50"
   ]
  },
  {
   "cell_type": "code",
   "execution_count": 2,
   "id": "4e853ee6-8ec7-48e2-9426-a3f1f0692e6b",
   "metadata": {},
   "outputs": [
    {
     "name": "stdout",
     "output_type": "stream",
     "text": [
      "10.5\n"
     ]
    }
   ],
   "source": [
    "print(a)"
   ]
  },
  {
   "cell_type": "code",
   "execution_count": 3,
   "id": "2462a5bd-6e13-467d-9665-38722a82e885",
   "metadata": {},
   "outputs": [],
   "source": [
    "b=9.51"
   ]
  },
  {
   "cell_type": "code",
   "execution_count": 4,
   "id": "d27a3b67-19fe-4843-9201-6314d3d0027c",
   "metadata": {},
   "outputs": [
    {
     "name": "stdout",
     "output_type": "stream",
     "text": [
      "9.51\n"
     ]
    }
   ],
   "source": [
    "print(b)"
   ]
  },
  {
   "cell_type": "code",
   "execution_count": 5,
   "id": "a6e16caa-f084-44c8-a196-41c3ba6d8555",
   "metadata": {},
   "outputs": [
    {
     "name": "stdout",
     "output_type": "stream",
     "text": [
      "20.009999999999998\n"
     ]
    }
   ],
   "source": [
    "print(a+b)"
   ]
  },
  {
   "cell_type": "code",
   "execution_count": 6,
   "id": "25b3826b-ef6a-4908-96f6-1a4a3dfe3dc1",
   "metadata": {},
   "outputs": [],
   "source": [
    "a=00000000000.0000001"
   ]
  },
  {
   "cell_type": "code",
   "execution_count": 7,
   "id": "2ffd687a-45c0-4c18-809b-6535e7bd3143",
   "metadata": {},
   "outputs": [
    {
     "name": "stdout",
     "output_type": "stream",
     "text": [
      "1e-07\n"
     ]
    }
   ],
   "source": [
    "print(a)"
   ]
  },
  {
   "cell_type": "code",
   "execution_count": 8,
   "id": "09b6210b-08d4-421b-a329-bfc1bae6d5b5",
   "metadata": {},
   "outputs": [
    {
     "data": {
      "text/plain": [
       "1e-07"
      ]
     },
     "execution_count": 8,
     "metadata": {},
     "output_type": "execute_result"
    }
   ],
   "source": [
    "1*10.0**(-7)"
   ]
  },
  {
   "cell_type": "code",
   "execution_count": 9,
   "id": "e81f91e2-455d-4244-87c7-c04e8852dd50",
   "metadata": {},
   "outputs": [],
   "source": [
    "f=2e10"
   ]
  },
  {
   "cell_type": "code",
   "execution_count": 10,
   "id": "3631cd9c-b1de-4287-9720-bacb54b1e1f8",
   "metadata": {},
   "outputs": [
    {
     "name": "stdout",
     "output_type": "stream",
     "text": [
      "20000000000.0\n"
     ]
    }
   ],
   "source": [
    "print(f)"
   ]
  },
  {
   "cell_type": "code",
   "execution_count": 13,
   "id": "fd9aa93a-33e0-42a2-a5ee-0fccc208f24b",
   "metadata": {},
   "outputs": [
    {
     "data": {
      "text/plain": [
       "20000000000.0"
      ]
     },
     "execution_count": 13,
     "metadata": {},
     "output_type": "execute_result"
    }
   ],
   "source": [
    "2*10.0**(10)"
   ]
  },
  {
   "cell_type": "code",
   "execution_count": 19,
   "id": "eb920547-b97b-4aaa-991e-4caa48715496",
   "metadata": {},
   "outputs": [
    {
     "name": "stdout",
     "output_type": "stream",
     "text": [
      "*       *\n",
      "**     **\n",
      "***   ***\n",
      "**** ****\n",
      "*********\n"
     ]
    }
   ],
   "source": [
    "for i in range(5):\n",
    "    if i<4:\n",
    "        print(\"*\"*(i+1)+\" \"*(7-2*i)+\"*\"*(i+1))\n",
    "    else:\n",
    "        print(\"*\"*9)"
   ]
  },
  {
   "cell_type": "code",
   "execution_count": null,
   "id": "7ddd99be-54f4-4238-b143-1bdf2f5bb4a3",
   "metadata": {},
   "outputs": [],
   "source": []
  }
 ],
 "metadata": {
  "kernelspec": {
   "display_name": "Python 3 (ipykernel)",
   "language": "python",
   "name": "python3"
  },
  "language_info": {
   "codemirror_mode": {
    "name": "ipython",
    "version": 3
   },
   "file_extension": ".py",
   "mimetype": "text/x-python",
   "name": "python",
   "nbconvert_exporter": "python",
   "pygments_lexer": "ipython3",
   "version": "3.11.4"
  }
 },
 "nbformat": 4,
 "nbformat_minor": 5
}
